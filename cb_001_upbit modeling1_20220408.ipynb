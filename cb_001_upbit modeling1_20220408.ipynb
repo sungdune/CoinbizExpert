{
 "cells": [
  {
   "cell_type": "markdown",
   "metadata": {},
   "source": [
    "### 업비트 API를 활용한 코인가격변동 예측 모형 개발\n",
    "* 작성일 : 2022-04-08\n",
    "* 작성자 : 윤성준\n",
    "* 버전 : 0.1\n",
    "* 변경이력 "
   ]
  },
  {
   "cell_type": "markdown",
   "metadata": {},
   "source": [
    "#### 목차\n",
    "1. 데이터 수집\n",
    "2. 항목 생성\n",
    "3. 요건 정의 (dev/val, target 등)\n",
    "4. ML모델학습\n",
    "5. 평가"
   ]
  },
  {
   "cell_type": "markdown",
   "metadata": {},
   "source": [
    "---"
   ]
  },
  {
   "cell_type": "markdown",
   "metadata": {},
   "source": [
    "1. 데이터 수집"
   ]
  },
  {
   "cell_type": "code",
   "execution_count": 5,
   "metadata": {},
   "outputs": [],
   "source": [
    "import pyupbit\n",
    "import os\n",
    "import pandas as pd\n",
    "import pickle"
   ]
  },
  {
   "cell_type": "code",
   "execution_count": 6,
   "metadata": {},
   "outputs": [
    {
     "name": "stdout",
     "output_type": "stream",
     "text": [
      "['KRW-BTC', 'KRW-ETH', 'KRW-NEO', 'KRW-MTL', 'KRW-LTC', 'KRW-XRP', 'KRW-ETC', 'KRW-OMG', 'KRW-SNT', 'KRW-WAVES', 'KRW-XEM', 'KRW-QTUM', 'KRW-LSK', 'KRW-STEEM', 'KRW-XLM', 'KRW-ARDR', 'KRW-ARK', 'KRW-STORJ', 'KRW-GRS', 'KRW-REP', 'KRW-ADA', 'KRW-SBD', 'KRW-POWR', 'KRW-BTG', 'KRW-ICX', 'KRW-EOS', 'KRW-TRX', 'KRW-SC', 'KRW-ONT', 'KRW-ZIL', 'KRW-POLY', 'KRW-ZRX', 'KRW-LOOM', 'KRW-BCH', 'KRW-BAT', 'KRW-IOST', 'KRW-RFR', 'KRW-CVC', 'KRW-IQ', 'KRW-IOTA', 'KRW-MFT', 'KRW-ONG', 'KRW-GAS', 'KRW-UPP', 'KRW-ELF', 'KRW-KNC', 'KRW-BSV', 'KRW-THETA', 'KRW-QKC', 'KRW-BTT', 'KRW-MOC', 'KRW-ENJ', 'KRW-TFUEL', 'KRW-MANA', 'KRW-ANKR', 'KRW-AERGO', 'KRW-ATOM', 'KRW-TT', 'KRW-CRE', 'KRW-MBL', 'KRW-WAXP', 'KRW-HBAR', 'KRW-MED', 'KRW-MLK', 'KRW-STPT', 'KRW-ORBS', 'KRW-VET', 'KRW-CHZ', 'KRW-STMX', 'KRW-DKA', 'KRW-HIVE', 'KRW-KAVA', 'KRW-AHT', 'KRW-LINK', 'KRW-XTZ', 'KRW-BORA', 'KRW-JST', 'KRW-CRO', 'KRW-TON', 'KRW-SXP', 'KRW-HUNT', 'KRW-PLA', 'KRW-DOT', 'KRW-SRM', 'KRW-MVL', 'KRW-STRAX', 'KRW-AQT', 'KRW-GLM', 'KRW-SSX', 'KRW-META', 'KRW-FCT2', 'KRW-CBK', 'KRW-SAND', 'KRW-HUM', 'KRW-DOGE', 'KRW-STRK', 'KRW-PUNDIX', 'KRW-FLOW', 'KRW-DAWN', 'KRW-AXS', 'KRW-STX', 'KRW-XEC', 'KRW-SOL', 'KRW-MATIC', 'KRW-NU', 'KRW-AAVE', 'KRW-1INCH', 'KRW-ALGO', 'KRW-NEAR', 'KRW-WEMIX', 'KRW-AVAX', 'KRW-T', 'KRW-CELO']\n"
     ]
    }
   ],
   "source": [
    "tickers = pyupbit.get_tickers(fiat=\"KRW\")\n",
    "print(tickers)"
   ]
  },
  {
   "cell_type": "code",
   "execution_count": 3,
   "metadata": {},
   "outputs": [],
   "source": [
    "from datetime import datetime\n",
    "from dateutil.relativedelta import relativedelta\n",
    "\n",
    "WORKDATE = '2022-04-01'\n",
    "REQMONTHS = 7\n",
    "\n",
    "workdate = datetime.fromisoformat(WORKDATE)\n",
    "startdate = workdate - relativedelta(months=REQMONTHS)\n",
    "\n",
    "# ohlcvs = {}\n",
    "# for ticker in tickers:\n",
    "    # ohlcvs[ticker] = pyupbit.get_ohlcv_from(ticker, interval=\"minute1\", to=\"20220401\", fromDatetime=startdate)"
   ]
  },
  {
   "cell_type": "code",
   "execution_count": 4,
   "metadata": {},
   "outputs": [],
   "source": [
    "# n개월치 데이터 가져오기 - 재활용 가능한 함수로 구현\n",
    "def get_ohlcv_dump(filename = 'data.pickle', workdate = datetime.now(), reqmonths = 7, force_download = False):\n",
    "    \"\"\"    download ohlcv data from upbit and dump it as a pickle. if already has one, use it.\n",
    "    Parameters    \n",
    "        filename(String) : pickle name\n",
    "        workdate(String, format %Y-%m-%d) : base date of work, download until workdate-1\n",
    "        reqmonths(int) : num of requiring month\n",
    "        force_download(bool)\n",
    "    returns\n",
    "        ohlcvas(key : ticker, value : pandas dataframe)\n",
    "\n",
    "    \"\"\"\n",
    "    ohlcvs = {}\n",
    "    if force_download or not os.path.exists(filename):\n",
    "        \n",
    "        startdate = workdate - relativedelta(months=reqmonths)\n",
    "        \n",
    "        for ticker in tickers:\n",
    "            ohlcvs[ticker] = pyupbit.get_ohlcv_from(ticker, interval=\"minute1\", to=workdate.strftime(\"%Y%m%d\"), fromDatetime=startdate)\n",
    "            # just for fast test, get 3 rows\n",
    "            # ohlcvs[ticker] = pyupbit.get_ohlcv(ticker, interval=\"minute1\", to=workdate.strftime(\"%Y%m%d\"), count = 3)\n",
    "        \n",
    "        # Save pickle\n",
    "        with open(filename,\"wb\") as fw:\n",
    "            pickle.dump(ohlcvs, fw)\n",
    "        \n",
    "    else:\n",
    "        # Load pickle\n",
    "        with open(filename,\"rb\") as fr:\n",
    "            ohlcvs = pickle.load(fr)\n",
    "\n",
    "    return ohlcvs\n",
    "    "
   ]
  },
  {
   "cell_type": "code",
   "execution_count": 7,
   "metadata": {},
   "outputs": [],
   "source": [
    "ohlcvs = get_ohlcv_dump(filename = 'data.pickle', workdate = workdate, reqmonths = REQMONTHS)"
   ]
  },
  {
   "cell_type": "code",
   "execution_count": 4,
   "metadata": {},
   "outputs": [],
   "source": [
    " "
   ]
  },
  {
   "cell_type": "code",
   "execution_count": null,
   "metadata": {},
   "outputs": [],
   "source": []
  },
  {
   "cell_type": "markdown",
   "metadata": {},
   "source": [
    "2. 데이터 정제"
   ]
  },
  {
   "cell_type": "code",
   "execution_count": 8,
   "metadata": {},
   "outputs": [
    {
     "name": "stdout",
     "output_type": "stream",
     "text": [
      "KRW-BTC 1826814\n",
      "KRW-ETH 1826502\n",
      "KRW-NEO 1716108\n",
      "KRW-MTL 1536216\n",
      "KRW-LTC 1672956\n",
      "KRW-XRP 1826754\n",
      "KRW-ETC 1813032\n",
      "KRW-OMG 1737996\n",
      "KRW-SNT 1602306\n",
      "KRW-WAVES 1704420\n",
      "KRW-XEM 1476048\n",
      "KRW-QTUM 1761078\n",
      "KRW-LSK 1462116\n",
      "KRW-STEEM 1488834\n",
      "KRW-XLM 1735842\n",
      "KRW-ARDR 1445334\n",
      "KRW-ARK 1464846\n",
      "KRW-STORJ 1581816\n",
      "KRW-GRS 1376070\n",
      "KRW-REP 1449246\n",
      "KRW-ADA 1811994\n",
      "KRW-SBD 1353252\n",
      "KRW-POWR 1685922\n",
      "KRW-BTG 1629966\n",
      "KRW-ICX 1668246\n",
      "KRW-EOS 1788900\n",
      "KRW-TRX 1810698\n",
      "KRW-SC 1563060\n",
      "KRW-ONT 1550724\n",
      "KRW-ZIL 1551738\n",
      "KRW-POLY 1599582\n",
      "KRW-ZRX 1424304\n",
      "KRW-LOOM 1467552\n",
      "KRW-BCH 1654794\n",
      "KRW-BAT 1651668\n",
      "KRW-IOST 1458768\n",
      "KRW-RFR 1388598\n",
      "KRW-CVC 1581660\n",
      "KRW-IQ 1310058\n",
      "KRW-IOTA 1476150\n",
      "KRW-MFT 1449816\n",
      "KRW-ONG 1575312\n",
      "KRW-GAS 1552836\n",
      "KRW-UPP 1354794\n",
      "KRW-ELF 1613814\n",
      "KRW-KNC 1610424\n",
      "KRW-BSV 1532196\n",
      "KRW-THETA 1591764\n",
      "KRW-QKC 1389702\n",
      "KRW-BTT 1755510\n",
      "KRW-MOC 1544514\n",
      "KRW-ENJ 1656336\n",
      "KRW-TFUEL 1603488\n",
      "KRW-MANA 1802304\n",
      "KRW-ANKR 1557480\n",
      "KRW-AERGO 1543176\n",
      "KRW-ATOM 1799424\n",
      "KRW-TT 1438518\n",
      "KRW-CRE 1528842\n",
      "KRW-MBL 1547706\n",
      "KRW-WAXP 1692864\n",
      "KRW-HBAR 1624380\n",
      "KRW-MED 1680204\n",
      "KRW-MLK 1700214\n",
      "KRW-STPT 1524168\n",
      "KRW-ORBS 1465824\n",
      "KRW-VET 1778946\n",
      "KRW-CHZ 1681872\n",
      "KRW-STMX 1473726\n",
      "KRW-DKA 1470564\n",
      "KRW-HIVE 1672566\n",
      "KRW-KAVA 1556916\n",
      "KRW-AHT 1359306\n",
      "KRW-LINK 1795014\n",
      "KRW-XTZ 1744782\n",
      "KRW-BORA 1774494\n",
      "KRW-JST 1533564\n",
      "KRW-CRO 1579236\n",
      "KRW-TON 1542978\n",
      "KRW-SXP 1735194\n",
      "KRW-HUNT 1709022\n",
      "KRW-PLA 1758144\n",
      "KRW-DOT 1795746\n",
      "KRW-SRM 1720350\n",
      "KRW-MVL 1409436\n",
      "KRW-STRAX 1457244\n",
      "KRW-AQT 1566834\n",
      "KRW-GLM 1547478\n",
      "KRW-SSX 1566198\n",
      "KRW-META 1553904\n",
      "KRW-FCT2 1460034\n",
      "KRW-CBK 1563612\n",
      "KRW-SAND 1819296\n",
      "KRW-HUM 1641390\n",
      "KRW-DOGE 1817436\n",
      "KRW-STRK 1474446\n",
      "KRW-PUNDIX 1530492\n",
      "KRW-FLOW 1810002\n",
      "KRW-DAWN 1627314\n",
      "KRW-AXS 1784412\n",
      "KRW-STX 1761408\n",
      "KRW-XEC 1768842\n",
      "KRW-SOL 1440096\n",
      "KRW-MATIC 1428576\n",
      "KRW-NU 1401042\n",
      "KRW-AAVE 1129638\n",
      "KRW-1INCH 1193004\n",
      "KRW-ALGO 1080198\n",
      "KRW-NEAR 911964\n",
      "KRW-WEMIX 674496\n",
      "KRW-AVAX 429318\n",
      "KRW-T 236460\n",
      "KRW-CELO 114972\n"
     ]
    }
   ],
   "source": [
    "for key, val in ohlcvs.items():\n",
    "    print(key, val.size)"
   ]
  },
  {
   "cell_type": "code",
   "execution_count": 9,
   "metadata": {},
   "outputs": [],
   "source": [
    "assert isinstance(ohlcvs['KRW-BTC'].index, pd.DatetimeIndex), 'not datetime index'"
   ]
  },
  {
   "cell_type": "code",
   "execution_count": 10,
   "metadata": {},
   "outputs": [
    {
     "data": {
      "text/html": [
       "<div>\n",
       "<style scoped>\n",
       "    .dataframe tbody tr th:only-of-type {\n",
       "        vertical-align: middle;\n",
       "    }\n",
       "\n",
       "    .dataframe tbody tr th {\n",
       "        vertical-align: top;\n",
       "    }\n",
       "\n",
       "    .dataframe thead th {\n",
       "        text-align: right;\n",
       "    }\n",
       "</style>\n",
       "<table border=\"1\" class=\"dataframe\">\n",
       "  <thead>\n",
       "    <tr style=\"text-align: right;\">\n",
       "      <th></th>\n",
       "      <th>open</th>\n",
       "      <th>high</th>\n",
       "      <th>low</th>\n",
       "      <th>close</th>\n",
       "      <th>volume</th>\n",
       "      <th>value</th>\n",
       "    </tr>\n",
       "  </thead>\n",
       "  <tbody>\n",
       "    <tr>\n",
       "      <th>2021-09-01 00:00:00</th>\n",
       "      <td>55326000.0</td>\n",
       "      <td>55422000.0</td>\n",
       "      <td>55326000.0</td>\n",
       "      <td>55327000.0</td>\n",
       "      <td>16.458649</td>\n",
       "      <td>9.113422e+08</td>\n",
       "    </tr>\n",
       "    <tr>\n",
       "      <th>2021-09-01 00:01:00</th>\n",
       "      <td>55327000.0</td>\n",
       "      <td>55399000.0</td>\n",
       "      <td>55327000.0</td>\n",
       "      <td>55393000.0</td>\n",
       "      <td>9.624262</td>\n",
       "      <td>5.327570e+08</td>\n",
       "    </tr>\n",
       "    <tr>\n",
       "      <th>2021-09-01 00:02:00</th>\n",
       "      <td>55400000.0</td>\n",
       "      <td>55477000.0</td>\n",
       "      <td>55391000.0</td>\n",
       "      <td>55443000.0</td>\n",
       "      <td>12.328954</td>\n",
       "      <td>6.834197e+08</td>\n",
       "    </tr>\n",
       "    <tr>\n",
       "      <th>2021-09-01 00:03:00</th>\n",
       "      <td>55439000.0</td>\n",
       "      <td>55463000.0</td>\n",
       "      <td>55343000.0</td>\n",
       "      <td>55350000.0</td>\n",
       "      <td>18.474244</td>\n",
       "      <td>1.023428e+09</td>\n",
       "    </tr>\n",
       "    <tr>\n",
       "      <th>2021-09-01 00:04:00</th>\n",
       "      <td>55378000.0</td>\n",
       "      <td>55385000.0</td>\n",
       "      <td>55331000.0</td>\n",
       "      <td>55340000.0</td>\n",
       "      <td>12.750241</td>\n",
       "      <td>7.056209e+08</td>\n",
       "    </tr>\n",
       "    <tr>\n",
       "      <th>...</th>\n",
       "      <td>...</td>\n",
       "      <td>...</td>\n",
       "      <td>...</td>\n",
       "      <td>...</td>\n",
       "      <td>...</td>\n",
       "      <td>...</td>\n",
       "    </tr>\n",
       "    <tr>\n",
       "      <th>2022-03-31 23:55:00</th>\n",
       "      <td>56461000.0</td>\n",
       "      <td>56485000.0</td>\n",
       "      <td>56461000.0</td>\n",
       "      <td>56481000.0</td>\n",
       "      <td>7.931584</td>\n",
       "      <td>4.479158e+08</td>\n",
       "    </tr>\n",
       "    <tr>\n",
       "      <th>2022-03-31 23:56:00</th>\n",
       "      <td>56480000.0</td>\n",
       "      <td>56490000.0</td>\n",
       "      <td>56480000.0</td>\n",
       "      <td>56490000.0</td>\n",
       "      <td>4.296142</td>\n",
       "      <td>2.426775e+08</td>\n",
       "    </tr>\n",
       "    <tr>\n",
       "      <th>2022-03-31 23:57:00</th>\n",
       "      <td>56490000.0</td>\n",
       "      <td>56499000.0</td>\n",
       "      <td>56485000.0</td>\n",
       "      <td>56488000.0</td>\n",
       "      <td>5.051226</td>\n",
       "      <td>2.853419e+08</td>\n",
       "    </tr>\n",
       "    <tr>\n",
       "      <th>2022-03-31 23:58:00</th>\n",
       "      <td>56489000.0</td>\n",
       "      <td>56505000.0</td>\n",
       "      <td>56486000.0</td>\n",
       "      <td>56499000.0</td>\n",
       "      <td>3.184290</td>\n",
       "      <td>1.799036e+08</td>\n",
       "    </tr>\n",
       "    <tr>\n",
       "      <th>2022-03-31 23:59:00</th>\n",
       "      <td>56501000.0</td>\n",
       "      <td>56555000.0</td>\n",
       "      <td>56500000.0</td>\n",
       "      <td>56540000.0</td>\n",
       "      <td>2.843731</td>\n",
       "      <td>1.607382e+08</td>\n",
       "    </tr>\n",
       "  </tbody>\n",
       "</table>\n",
       "<p>304469 rows × 6 columns</p>\n",
       "</div>"
      ],
      "text/plain": [
       "                           open        high         low       close  \\\n",
       "2021-09-01 00:00:00  55326000.0  55422000.0  55326000.0  55327000.0   \n",
       "2021-09-01 00:01:00  55327000.0  55399000.0  55327000.0  55393000.0   \n",
       "2021-09-01 00:02:00  55400000.0  55477000.0  55391000.0  55443000.0   \n",
       "2021-09-01 00:03:00  55439000.0  55463000.0  55343000.0  55350000.0   \n",
       "2021-09-01 00:04:00  55378000.0  55385000.0  55331000.0  55340000.0   \n",
       "...                         ...         ...         ...         ...   \n",
       "2022-03-31 23:55:00  56461000.0  56485000.0  56461000.0  56481000.0   \n",
       "2022-03-31 23:56:00  56480000.0  56490000.0  56480000.0  56490000.0   \n",
       "2022-03-31 23:57:00  56490000.0  56499000.0  56485000.0  56488000.0   \n",
       "2022-03-31 23:58:00  56489000.0  56505000.0  56486000.0  56499000.0   \n",
       "2022-03-31 23:59:00  56501000.0  56555000.0  56500000.0  56540000.0   \n",
       "\n",
       "                        volume         value  \n",
       "2021-09-01 00:00:00  16.458649  9.113422e+08  \n",
       "2021-09-01 00:01:00   9.624262  5.327570e+08  \n",
       "2021-09-01 00:02:00  12.328954  6.834197e+08  \n",
       "2021-09-01 00:03:00  18.474244  1.023428e+09  \n",
       "2021-09-01 00:04:00  12.750241  7.056209e+08  \n",
       "...                        ...           ...  \n",
       "2022-03-31 23:55:00   7.931584  4.479158e+08  \n",
       "2022-03-31 23:56:00   4.296142  2.426775e+08  \n",
       "2022-03-31 23:57:00   5.051226  2.853419e+08  \n",
       "2022-03-31 23:58:00   3.184290  1.799036e+08  \n",
       "2022-03-31 23:59:00   2.843731  1.607382e+08  \n",
       "\n",
       "[304469 rows x 6 columns]"
      ]
     },
     "execution_count": 10,
     "metadata": {},
     "output_type": "execute_result"
    }
   ],
   "source": [
    "ohlcvs['KRW-BTC']"
   ]
  },
  {
   "cell_type": "code",
   "execution_count": 23,
   "metadata": {},
   "outputs": [],
   "source": [
    "tot_idx = pd.date_range(start = startdate , end = workdate, freq = 'T', closed = 'left')\n",
    "tot_set = pd.DataFrame(index = tot_idx)\n",
    "\n",
    "for key, val in ohlcvs.items():\n",
    "\n",
    "    joined_val = pd.DataFrame(index = tot_idx).join(val, how = 'left')\n",
    "    joined_val.close.fillna(method = 'ffill', inplace = True)\n",
    "    joined_val.open.fillna(joined_val.close, inplace = True)\n",
    "    joined_val.high.fillna(joined_val.close, inplace = True)\n",
    "    joined_val.low.fillna(joined_val.close, inplace = True)\n",
    "    joined_val.value.fillna(joined_val.close, inplace = True)\n",
    "    joined_val.volume.fillna(value = 0, inplace = True)\n",
    "\n",
    "    joined_val = joined_val.rename(columns = {\"open\":key+\"-open\"\n",
    "                , \"high\":key+\"-high\"\n",
    "                , \"low\":key+\"-low\"\n",
    "                , \"close\":key+\"-close\"\n",
    "                , \"volume\":key+\"-volume\"\n",
    "                , \"value\":key+\"-value\"})\n",
    "\n",
    "    tot_set = tot_set.join(joined_val)\n",
    "    "
   ]
  },
  {
   "cell_type": "code",
   "execution_count": 24,
   "metadata": {},
   "outputs": [
    {
     "data": {
      "text/plain": [
       "Index(['KRW-BTC-open', 'KRW-BTC-high', 'KRW-BTC-low', 'KRW-BTC-close',\n",
       "       'KRW-BTC-volume', 'KRW-BTC-value', 'KRW-ETH-open', 'KRW-ETH-high',\n",
       "       'KRW-ETH-low', 'KRW-ETH-close',\n",
       "       ...\n",
       "       'KRW-T-low', 'KRW-T-close', 'KRW-T-volume', 'KRW-T-value',\n",
       "       'KRW-CELO-open', 'KRW-CELO-high', 'KRW-CELO-low', 'KRW-CELO-close',\n",
       "       'KRW-CELO-volume', 'KRW-CELO-value'],\n",
       "      dtype='object', length=678)"
      ]
     },
     "execution_count": 24,
     "metadata": {},
     "output_type": "execute_result"
    }
   ],
   "source": [
    "tot_set.columns"
   ]
  },
  {
   "cell_type": "code",
   "execution_count": 26,
   "metadata": {},
   "outputs": [
    {
     "ename": "TypeError",
     "evalue": "unsupported operand type(s) for +: 'int' and 'str'",
     "output_type": "error",
     "traceback": [
      "\u001b[1;31m---------------------------------------------------------------------------\u001b[0m",
      "\u001b[1;31mTypeError\u001b[0m                                 Traceback (most recent call last)",
      "\u001b[1;32m~\\AppData\\Local\\Temp/ipykernel_18572/857650013.py\u001b[0m in \u001b[0;36m<module>\u001b[1;34m\u001b[0m\n\u001b[1;32m----> 1\u001b[1;33m \u001b[0msum\u001b[0m\u001b[1;33m(\u001b[0m\u001b[0mtot_set\u001b[0m\u001b[1;33m.\u001b[0m\u001b[0misna\u001b[0m\u001b[1;33m(\u001b[0m\u001b[1;33m)\u001b[0m\u001b[1;33m)\u001b[0m\u001b[1;33m\u001b[0m\u001b[1;33m\u001b[0m\u001b[0m\n\u001b[0m",
      "\u001b[1;31mTypeError\u001b[0m: unsupported operand type(s) for +: 'int' and 'str'"
     ]
    }
   ],
   "source": [
    "\n"
   ]
  },
  {
   "cell_type": "code",
   "execution_count": null,
   "metadata": {},
   "outputs": [],
   "source": []
  }
 ],
 "metadata": {
  "interpreter": {
   "hash": "b3ba2566441a7c06988d0923437866b63cedc61552a5af99d1f4fb67d367b25f"
  },
  "kernelspec": {
   "display_name": "Python 3.8.8 ('base')",
   "language": "python",
   "name": "python3"
  },
  "language_info": {
   "codemirror_mode": {
    "name": "ipython",
    "version": 3
   },
   "file_extension": ".py",
   "mimetype": "text/x-python",
   "name": "python",
   "nbconvert_exporter": "python",
   "pygments_lexer": "ipython3",
   "version": "3.8.8"
  },
  "orig_nbformat": 4
 },
 "nbformat": 4,
 "nbformat_minor": 2
}
