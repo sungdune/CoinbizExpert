{
 "cells": [
  {
   "cell_type": "markdown",
   "metadata": {},
   "source": [
    "### 업비트 API를 활용한 코인가격변동 예측 모형 개발\n",
    "* 작성일 : 2022-04-08\n",
    "* 작성자 : 윤성준\n",
    "* 버전 : 0.1\n",
    "* 변경이력 "
   ]
  },
  {
   "cell_type": "markdown",
   "metadata": {},
   "source": [
    "#### 목차\n",
    "1. 데이터 수집\n",
    "2. 항목 생성\n",
    "3. 요건 정의 (dev/val, target 등)\n",
    "4. ML모델학습\n",
    "5. 평가"
   ]
  },
  {
   "cell_type": "markdown",
   "metadata": {},
   "source": [
    "---"
   ]
  },
  {
   "cell_type": "markdown",
   "metadata": {},
   "source": [
    "1. 데이터 수집"
   ]
  },
  {
   "cell_type": "code",
   "execution_count": 1,
   "metadata": {},
   "outputs": [],
   "source": [
    "import pyupbit"
   ]
  },
  {
   "cell_type": "code",
   "execution_count": 2,
   "metadata": {},
   "outputs": [
    {
     "name": "stdout",
     "output_type": "stream",
     "text": [
      "['KRW-BTC', 'KRW-ETH', 'KRW-NEO', 'KRW-MTL', 'KRW-LTC', 'KRW-XRP', 'KRW-ETC', 'KRW-OMG', 'KRW-SNT', 'KRW-WAVES', 'KRW-XEM', 'KRW-QTUM', 'KRW-LSK', 'KRW-STEEM', 'KRW-XLM', 'KRW-ARDR', 'KRW-ARK', 'KRW-STORJ', 'KRW-GRS', 'KRW-REP', 'KRW-ADA', 'KRW-SBD', 'KRW-POWR', 'KRW-BTG', 'KRW-ICX', 'KRW-EOS', 'KRW-TRX', 'KRW-SC', 'KRW-ONT', 'KRW-ZIL', 'KRW-POLY', 'KRW-ZRX', 'KRW-LOOM', 'KRW-BCH', 'KRW-BAT', 'KRW-IOST', 'KRW-RFR', 'KRW-CVC', 'KRW-IQ', 'KRW-IOTA', 'KRW-MFT', 'KRW-ONG', 'KRW-GAS', 'KRW-UPP', 'KRW-ELF', 'KRW-KNC', 'KRW-BSV', 'KRW-THETA', 'KRW-QKC', 'KRW-BTT', 'KRW-MOC', 'KRW-ENJ', 'KRW-TFUEL', 'KRW-MANA', 'KRW-ANKR', 'KRW-AERGO', 'KRW-ATOM', 'KRW-TT', 'KRW-CRE', 'KRW-MBL', 'KRW-WAXP', 'KRW-HBAR', 'KRW-MED', 'KRW-MLK', 'KRW-STPT', 'KRW-ORBS', 'KRW-VET', 'KRW-CHZ', 'KRW-STMX', 'KRW-DKA', 'KRW-HIVE', 'KRW-KAVA', 'KRW-AHT', 'KRW-LINK', 'KRW-XTZ', 'KRW-BORA', 'KRW-JST', 'KRW-CRO', 'KRW-TON', 'KRW-SXP', 'KRW-HUNT', 'KRW-PLA', 'KRW-DOT', 'KRW-SRM', 'KRW-MVL', 'KRW-STRAX', 'KRW-AQT', 'KRW-GLM', 'KRW-SSX', 'KRW-META', 'KRW-FCT2', 'KRW-CBK', 'KRW-SAND', 'KRW-HUM', 'KRW-DOGE', 'KRW-STRK', 'KRW-PUNDIX', 'KRW-FLOW', 'KRW-DAWN', 'KRW-AXS', 'KRW-STX', 'KRW-XEC', 'KRW-SOL', 'KRW-MATIC', 'KRW-NU', 'KRW-AAVE', 'KRW-1INCH', 'KRW-ALGO', 'KRW-NEAR', 'KRW-WEMIX', 'KRW-AVAX', 'KRW-T', 'KRW-CELO']\n"
     ]
    }
   ],
   "source": [
    "tickers = pyupbit.get_tickers(fiat=\"KRW\")\n",
    "print(tickers)"
   ]
  },
  {
   "cell_type": "code",
   "execution_count": 3,
   "metadata": {},
   "outputs": [],
   "source": [
    "from datetime import datetime\n",
    "from dateutil.relativedelta import relativedelta\n",
    "\n",
    "WORKDATE = '2022-04-01'\n",
    "REQMONTHS = 7\n",
    "\n",
    "workdate = datetime.fromisoformat(WORKDATE)\n",
    "startdate = workdate - relativedelta(months=REQMONTHS)\n",
    "mindiff = (workdate - startdate).days * 60 * 24\n",
    "\n",
    "# df = pyupbit.get_ohlcv(\"KRW-STMX\", interval=\"minute1\", to=\"20220401\", count = mindiff)\n",
    "# print(df)"
   ]
  },
  {
   "cell_type": "code",
   "execution_count": 4,
   "metadata": {},
   "outputs": [],
   "source": [
    "# df.to_excel(r\"D:\\2022\\test.xlsx\")"
   ]
  },
  {
   "cell_type": "code",
   "execution_count": 5,
   "metadata": {},
   "outputs": [
    {
     "name": "stdout",
     "output_type": "stream",
     "text": [
      "0 {'type': 'trade', 'code': 'KRW-BTC', 'timestamp': 1649428362760, 'trade_date': '2022-04-08', 'trade_time': '14:32:42', 'trade_timestamp': 1649428362000, 'trade_price': 54291000.0, 'trade_volume': 0.05, 'ask_bid': 'ASK', 'prev_closing_price': 53814000.0, 'change': 'RISE', 'change_price': 477000.0, 'sequential_id': 1649428362000001, 'stream_type': 'REALTIME'}\n",
      "1 {'type': 'trade', 'code': 'KRW-BTC', 'timestamp': 1649428363039, 'trade_date': '2022-04-08', 'trade_time': '14:32:42', 'trade_timestamp': 1649428362000, 'trade_price': 54291000.0, 'trade_volume': 0.00515884, 'ask_bid': 'ASK', 'prev_closing_price': 53814000.0, 'change': 'RISE', 'change_price': 477000.0, 'sequential_id': 1649428362000002, 'stream_type': 'REALTIME'}\n",
      "2 {'type': 'trade', 'code': 'KRW-BTC', 'timestamp': 1649428363226, 'trade_date': '2022-04-08', 'trade_time': '14:32:43', 'trade_timestamp': 1649428363000, 'trade_price': 54291000.0, 'trade_volume': 0.0057, 'ask_bid': 'BID', 'prev_closing_price': 53814000.0, 'change': 'RISE', 'change_price': 477000.0, 'sequential_id': 1649428363000000, 'stream_type': 'REALTIME'}\n",
      "3 {'type': 'trade', 'code': 'KRW-BTC', 'timestamp': 1649428365407, 'trade_date': '2022-04-08', 'trade_time': '14:32:45', 'trade_timestamp': 1649428365000, 'trade_price': 54256000.0, 'trade_volume': 0.05, 'ask_bid': 'ASK', 'prev_closing_price': 53814000.0, 'change': 'RISE', 'change_price': 442000.0, 'sequential_id': 1649428365000000, 'stream_type': 'REALTIME'}\n",
      "4 {'type': 'trade', 'code': 'KRW-BTC', 'timestamp': 1649428365677, 'trade_date': '2022-04-08', 'trade_time': '14:32:45', 'trade_timestamp': 1649428365000, 'trade_price': 54290000.0, 'trade_volume': 0.001, 'ask_bid': 'BID', 'prev_closing_price': 53814000.0, 'change': 'RISE', 'change_price': 476000.0, 'sequential_id': 1649428365000001, 'stream_type': 'REALTIME'}\n",
      "5 {'type': 'trade', 'code': 'KRW-BTC', 'timestamp': 1649428365678, 'trade_date': '2022-04-08', 'trade_time': '14:32:45', 'trade_timestamp': 1649428365000, 'trade_price': 54294000.0, 'trade_volume': 0.0041, 'ask_bid': 'BID', 'prev_closing_price': 53814000.0, 'change': 'RISE', 'change_price': 480000.0, 'sequential_id': 1649428365000002, 'stream_type': 'REALTIME'}\n",
      "6 {'type': 'trade', 'code': 'KRW-BTC', 'timestamp': 1649428365755, 'trade_date': '2022-04-08', 'trade_time': '14:32:45', 'trade_timestamp': 1649428365000, 'trade_price': 54256000.0, 'trade_volume': 0.10079869, 'ask_bid': 'ASK', 'prev_closing_price': 53814000.0, 'change': 'RISE', 'change_price': 442000.0, 'sequential_id': 1649428365000003, 'stream_type': 'REALTIME'}\n",
      "7 {'type': 'trade', 'code': 'KRW-BTC', 'timestamp': 1649428366257, 'trade_date': '2022-04-08', 'trade_time': '14:32:46', 'trade_timestamp': 1649428366000, 'trade_price': 54256000.0, 'trade_volume': 0.00058763, 'ask_bid': 'ASK', 'prev_closing_price': 53814000.0, 'change': 'RISE', 'change_price': 442000.0, 'sequential_id': 1649428366000000, 'stream_type': 'REALTIME'}\n",
      "8 {'type': 'trade', 'code': 'KRW-BTC', 'timestamp': 1649428367931, 'trade_date': '2022-04-08', 'trade_time': '14:32:47', 'trade_timestamp': 1649428367000, 'trade_price': 54256000.0, 'trade_volume': 0.05, 'ask_bid': 'ASK', 'prev_closing_price': 53814000.0, 'change': 'RISE', 'change_price': 442000.0, 'sequential_id': 1649428367000000, 'stream_type': 'REALTIME'}\n",
      "9 {'type': 'trade', 'code': 'KRW-BTC', 'timestamp': 1649428368887, 'trade_date': '2022-04-08', 'trade_time': '14:32:48', 'trade_timestamp': 1649428368000, 'trade_price': 54256000.0, 'trade_volume': 0.000216, 'ask_bid': 'ASK', 'prev_closing_price': 53814000.0, 'change': 'RISE', 'change_price': 442000.0, 'sequential_id': 1649428368000000, 'stream_type': 'REALTIME'}\n"
     ]
    }
   ],
   "source": [
    "from pyupbit import WebSocketManager\n",
    "import time\n",
    "\n",
    "i = 0\n",
    "\n",
    "if __name__ == \"__main__\":\n",
    "    wm = WebSocketManager(\"trade\", [\"KRW-BTC\"])\n",
    "    while(True):\n",
    "        if datetime.now().second%10 == 0:            \n",
    "            data = wm.get()\n",
    "            print(i, data)\n",
    "            i+=1\n",
    "            time.sleep(1)\n",
    "        if i == 10: break        \n",
    "\n",
    "    wm.terminate()"
   ]
  },
  {
   "cell_type": "code",
   "execution_count": 6,
   "metadata": {},
   "outputs": [
    {
     "name": "stdout",
     "output_type": "stream",
     "text": [
      "2022-04-08 23:24:34.784000\n"
     ]
    }
   ],
   "source": [
    "datetimeobj = datetime.fromtimestamp(1649427874784/1000)\n",
    "print(datetimeobj)\n"
   ]
  },
  {
   "cell_type": "code",
   "execution_count": 8,
   "metadata": {},
   "outputs": [
    {
     "data": {
      "text/html": [
       "<div>\n",
       "<style scoped>\n",
       "    .dataframe tbody tr th:only-of-type {\n",
       "        vertical-align: middle;\n",
       "    }\n",
       "\n",
       "    .dataframe tbody tr th {\n",
       "        vertical-align: top;\n",
       "    }\n",
       "\n",
       "    .dataframe thead th {\n",
       "        text-align: right;\n",
       "    }\n",
       "</style>\n",
       "<table border=\"1\" class=\"dataframe\">\n",
       "  <thead>\n",
       "    <tr style=\"text-align: right;\">\n",
       "      <th></th>\n",
       "      <th>open</th>\n",
       "      <th>high</th>\n",
       "      <th>low</th>\n",
       "      <th>close</th>\n",
       "      <th>volume</th>\n",
       "      <th>value</th>\n",
       "    </tr>\n",
       "  </thead>\n",
       "  <tbody>\n",
       "    <tr>\n",
       "      <th>2022-04-08 23:25:00</th>\n",
       "      <td>25.3</td>\n",
       "      <td>25.3</td>\n",
       "      <td>25.3</td>\n",
       "      <td>25.3</td>\n",
       "      <td>5.579552e+05</td>\n",
       "      <td>1.411627e+07</td>\n",
       "    </tr>\n",
       "    <tr>\n",
       "      <th>2022-04-08 23:26:00</th>\n",
       "      <td>25.3</td>\n",
       "      <td>25.4</td>\n",
       "      <td>25.3</td>\n",
       "      <td>25.4</td>\n",
       "      <td>3.169776e+04</td>\n",
       "      <td>8.021230e+05</td>\n",
       "    </tr>\n",
       "    <tr>\n",
       "      <th>2022-04-08 23:27:00</th>\n",
       "      <td>25.4</td>\n",
       "      <td>25.4</td>\n",
       "      <td>25.3</td>\n",
       "      <td>25.3</td>\n",
       "      <td>2.423253e+05</td>\n",
       "      <td>6.153095e+06</td>\n",
       "    </tr>\n",
       "    <tr>\n",
       "      <th>2022-04-08 23:28:00</th>\n",
       "      <td>25.3</td>\n",
       "      <td>25.3</td>\n",
       "      <td>25.3</td>\n",
       "      <td>25.3</td>\n",
       "      <td>2.050070e+04</td>\n",
       "      <td>5.186678e+05</td>\n",
       "    </tr>\n",
       "    <tr>\n",
       "      <th>2022-04-08 23:29:00</th>\n",
       "      <td>25.4</td>\n",
       "      <td>25.5</td>\n",
       "      <td>25.4</td>\n",
       "      <td>25.5</td>\n",
       "      <td>5.058802e+05</td>\n",
       "      <td>1.286715e+07</td>\n",
       "    </tr>\n",
       "    <tr>\n",
       "      <th>2022-04-08 23:30:00</th>\n",
       "      <td>25.4</td>\n",
       "      <td>25.6</td>\n",
       "      <td>25.4</td>\n",
       "      <td>25.5</td>\n",
       "      <td>9.354570e+05</td>\n",
       "      <td>2.385384e+07</td>\n",
       "    </tr>\n",
       "    <tr>\n",
       "      <th>2022-04-08 23:31:00</th>\n",
       "      <td>25.6</td>\n",
       "      <td>25.7</td>\n",
       "      <td>25.6</td>\n",
       "      <td>25.7</td>\n",
       "      <td>4.318907e+06</td>\n",
       "      <td>1.108154e+08</td>\n",
       "    </tr>\n",
       "    <tr>\n",
       "      <th>2022-04-08 23:32:00</th>\n",
       "      <td>25.8</td>\n",
       "      <td>25.8</td>\n",
       "      <td>25.5</td>\n",
       "      <td>25.6</td>\n",
       "      <td>9.565842e+05</td>\n",
       "      <td>2.449341e+07</td>\n",
       "    </tr>\n",
       "    <tr>\n",
       "      <th>2022-04-08 23:33:00</th>\n",
       "      <td>25.6</td>\n",
       "      <td>25.6</td>\n",
       "      <td>25.5</td>\n",
       "      <td>25.5</td>\n",
       "      <td>7.604469e+05</td>\n",
       "      <td>1.940818e+07</td>\n",
       "    </tr>\n",
       "    <tr>\n",
       "      <th>2022-04-08 23:34:00</th>\n",
       "      <td>25.6</td>\n",
       "      <td>25.6</td>\n",
       "      <td>25.6</td>\n",
       "      <td>25.6</td>\n",
       "      <td>3.543150e+02</td>\n",
       "      <td>9.070465e+03</td>\n",
       "    </tr>\n",
       "  </tbody>\n",
       "</table>\n",
       "</div>"
      ],
      "text/plain": [
       "                     open  high   low  close        volume         value\n",
       "2022-04-08 23:25:00  25.3  25.3  25.3   25.3  5.579552e+05  1.411627e+07\n",
       "2022-04-08 23:26:00  25.3  25.4  25.3   25.4  3.169776e+04  8.021230e+05\n",
       "2022-04-08 23:27:00  25.4  25.4  25.3   25.3  2.423253e+05  6.153095e+06\n",
       "2022-04-08 23:28:00  25.3  25.3  25.3   25.3  2.050070e+04  5.186678e+05\n",
       "2022-04-08 23:29:00  25.4  25.5  25.4   25.5  5.058802e+05  1.286715e+07\n",
       "2022-04-08 23:30:00  25.4  25.6  25.4   25.5  9.354570e+05  2.385384e+07\n",
       "2022-04-08 23:31:00  25.6  25.7  25.6   25.7  4.318907e+06  1.108154e+08\n",
       "2022-04-08 23:32:00  25.8  25.8  25.5   25.6  9.565842e+05  2.449341e+07\n",
       "2022-04-08 23:33:00  25.6  25.6  25.5   25.5  7.604469e+05  1.940818e+07\n",
       "2022-04-08 23:34:00  25.6  25.6  25.6   25.6  3.543150e+02  9.070465e+03"
      ]
     },
     "execution_count": 8,
     "metadata": {},
     "output_type": "execute_result"
    }
   ],
   "source": [
    "df2 = pyupbit.get_ohlcv(\"KRW-STMX\", interval=\"minute1\", count = 10)\n",
    "df2"
   ]
  },
  {
   "cell_type": "code",
   "execution_count": null,
   "metadata": {},
   "outputs": [],
   "source": []
  }
 ],
 "metadata": {
  "interpreter": {
   "hash": "b3ba2566441a7c06988d0923437866b63cedc61552a5af99d1f4fb67d367b25f"
  },
  "kernelspec": {
   "display_name": "Python 3.8.8 ('base')",
   "language": "python",
   "name": "python3"
  },
  "language_info": {
   "codemirror_mode": {
    "name": "ipython",
    "version": 3
   },
   "file_extension": ".py",
   "mimetype": "text/x-python",
   "name": "python",
   "nbconvert_exporter": "python",
   "pygments_lexer": "ipython3",
   "version": "3.8.8"
  },
  "orig_nbformat": 4
 },
 "nbformat": 4,
 "nbformat_minor": 2
}
