{
 "cells": [
  {
   "cell_type": "markdown",
   "metadata": {},
   "source": [
    "### 업비트 API를 활용한 코인가격변동 예측 모형 개발\n",
    "* 작성일 : 2022-04-08\n",
    "* 작성자 : 윤성준\n",
    "* 버전 : 0.1\n",
    "* 변경이력 "
   ]
  },
  {
   "cell_type": "markdown",
   "metadata": {},
   "source": [
    "## 목차\n",
    "1. 데이터 수집\n",
    "2. 항목 생성\n",
    "3. 요건 정의 (dev/val, target 등)\n",
    "4. ML모델학습\n",
    "5. 평가\n",
    "---"
   ]
  },
  {
   "cell_type": "markdown",
   "metadata": {},
   "source": [
    "1. 데이터 수집"
   ]
  },
  {
   "cell_type": "code",
   "execution_count": 1,
   "metadata": {},
   "outputs": [],
   "source": [
    "import pyupbit\n",
    "import os\n",
    "import pandas as pd\n",
    "import pickle\n",
    "from datetime import datetime\n",
    "from dateutil.relativedelta import relativedelta\n",
    "import talib\n",
    "from talib import abstract\n",
    "import cb_001m_upbit"
   ]
  },
  {
   "cell_type": "code",
   "execution_count": 2,
   "metadata": {},
   "outputs": [
    {
     "name": "stdout",
     "output_type": "stream",
     "text": [
      "['KRW-BTC', 'KRW-ETH', 'KRW-NEO', 'KRW-MTL', 'KRW-LTC', 'KRW-XRP', 'KRW-ETC', 'KRW-OMG', 'KRW-SNT', 'KRW-WAVES', 'KRW-XEM', 'KRW-QTUM', 'KRW-LSK', 'KRW-STEEM', 'KRW-XLM', 'KRW-ARDR', 'KRW-ARK', 'KRW-STORJ', 'KRW-GRS', 'KRW-REP', 'KRW-ADA', 'KRW-SBD', 'KRW-POWR', 'KRW-BTG', 'KRW-ICX', 'KRW-EOS', 'KRW-TRX', 'KRW-SC', 'KRW-ONT', 'KRW-ZIL', 'KRW-POLY', 'KRW-ZRX', 'KRW-LOOM', 'KRW-BCH', 'KRW-BAT', 'KRW-IOST', 'KRW-RFR', 'KRW-CVC', 'KRW-IQ', 'KRW-IOTA', 'KRW-MFT', 'KRW-ONG', 'KRW-GAS', 'KRW-UPP', 'KRW-ELF', 'KRW-KNC', 'KRW-BSV', 'KRW-THETA', 'KRW-QKC', 'KRW-BTT', 'KRW-MOC', 'KRW-ENJ', 'KRW-TFUEL', 'KRW-MANA', 'KRW-ANKR', 'KRW-AERGO', 'KRW-ATOM', 'KRW-TT', 'KRW-CRE', 'KRW-MBL', 'KRW-WAXP', 'KRW-HBAR', 'KRW-MED', 'KRW-MLK', 'KRW-STPT', 'KRW-ORBS', 'KRW-VET', 'KRW-CHZ', 'KRW-STMX', 'KRW-DKA', 'KRW-HIVE', 'KRW-KAVA', 'KRW-AHT', 'KRW-LINK', 'KRW-XTZ', 'KRW-BORA', 'KRW-JST', 'KRW-CRO', 'KRW-TON', 'KRW-SXP', 'KRW-HUNT', 'KRW-PLA', 'KRW-DOT', 'KRW-SRM', 'KRW-MVL', 'KRW-STRAX', 'KRW-AQT', 'KRW-GLM', 'KRW-SSX', 'KRW-META', 'KRW-FCT2', 'KRW-CBK', 'KRW-SAND', 'KRW-HUM', 'KRW-DOGE', 'KRW-STRK', 'KRW-PUNDIX', 'KRW-FLOW', 'KRW-DAWN', 'KRW-AXS', 'KRW-STX', 'KRW-XEC', 'KRW-SOL', 'KRW-MATIC', 'KRW-NU', 'KRW-AAVE', 'KRW-1INCH', 'KRW-ALGO', 'KRW-NEAR', 'KRW-WEMIX', 'KRW-AVAX', 'KRW-T', 'KRW-CELO']\n"
     ]
    }
   ],
   "source": [
    "tickers = pyupbit.get_tickers(fiat=\"KRW\")\n",
    "print(tickers)"
   ]
  },
  {
   "cell_type": "code",
   "execution_count": 3,
   "metadata": {},
   "outputs": [],
   "source": [
    "WORKDATE = '2022-04-01'\n",
    "REQMONTHS = 7\n",
    "\n",
    "workdate = datetime.fromisoformat(WORKDATE)\n",
    "startdate = workdate - relativedelta(months=REQMONTHS)"
   ]
  },
  {
   "cell_type": "code",
   "execution_count": 5,
   "metadata": {},
   "outputs": [],
   "source": [
    "ohlcvs = cb_001m_upbit.get_ohlcv_dump(tickers = tickers, filename = 'data.pickle', workdate = workdate, reqmonths = REQMONTHS)"
   ]
  },
  {
   "cell_type": "markdown",
   "metadata": {},
   "source": [
    "2. 데이터 정제"
   ]
  },
  {
   "cell_type": "code",
   "execution_count": 6,
   "metadata": {},
   "outputs": [
    {
     "name": "stdout",
     "output_type": "stream",
     "text": [
      "KRW-BTC 1826814\n",
      "KRW-ETH 1826502\n",
      "KRW-NEO 1716108\n",
      "KRW-MTL 1536216\n",
      "KRW-LTC 1672956\n",
      "KRW-XRP 1826754\n",
      "KRW-ETC 1813032\n",
      "KRW-OMG 1737996\n",
      "KRW-SNT 1602306\n",
      "KRW-WAVES 1704420\n",
      "KRW-XEM 1476048\n",
      "KRW-QTUM 1761078\n",
      "KRW-LSK 1462116\n",
      "KRW-STEEM 1488834\n",
      "KRW-XLM 1735842\n",
      "KRW-ARDR 1445334\n",
      "KRW-ARK 1464846\n",
      "KRW-STORJ 1581816\n",
      "KRW-GRS 1376070\n",
      "KRW-REP 1449246\n",
      "KRW-ADA 1811994\n",
      "KRW-SBD 1353252\n",
      "KRW-POWR 1685922\n",
      "KRW-BTG 1629966\n",
      "KRW-ICX 1668246\n",
      "KRW-EOS 1788900\n",
      "KRW-TRX 1810698\n",
      "KRW-SC 1563060\n",
      "KRW-ONT 1550724\n",
      "KRW-ZIL 1551738\n",
      "KRW-POLY 1599582\n",
      "KRW-ZRX 1424304\n",
      "KRW-LOOM 1467552\n",
      "KRW-BCH 1654794\n",
      "KRW-BAT 1651668\n",
      "KRW-IOST 1458768\n",
      "KRW-RFR 1388598\n",
      "KRW-CVC 1581660\n",
      "KRW-IQ 1310058\n",
      "KRW-IOTA 1476150\n",
      "KRW-MFT 1449816\n",
      "KRW-ONG 1575312\n",
      "KRW-GAS 1552836\n",
      "KRW-UPP 1354794\n",
      "KRW-ELF 1613814\n",
      "KRW-KNC 1610424\n",
      "KRW-BSV 1532196\n",
      "KRW-THETA 1591764\n",
      "KRW-QKC 1389702\n",
      "KRW-BTT 1755510\n",
      "KRW-MOC 1544514\n",
      "KRW-ENJ 1656336\n",
      "KRW-TFUEL 1603488\n",
      "KRW-MANA 1802304\n",
      "KRW-ANKR 1557480\n",
      "KRW-AERGO 1543176\n",
      "KRW-ATOM 1799424\n",
      "KRW-TT 1438518\n",
      "KRW-CRE 1528842\n",
      "KRW-MBL 1547706\n",
      "KRW-WAXP 1692864\n",
      "KRW-HBAR 1624380\n",
      "KRW-MED 1680204\n",
      "KRW-MLK 1700214\n",
      "KRW-STPT 1524168\n",
      "KRW-ORBS 1465824\n",
      "KRW-VET 1778946\n",
      "KRW-CHZ 1681872\n",
      "KRW-STMX 1473726\n",
      "KRW-DKA 1470564\n",
      "KRW-HIVE 1672566\n",
      "KRW-KAVA 1556916\n",
      "KRW-AHT 1359306\n",
      "KRW-LINK 1795014\n",
      "KRW-XTZ 1744782\n",
      "KRW-BORA 1774494\n",
      "KRW-JST 1533564\n",
      "KRW-CRO 1579236\n",
      "KRW-TON 1542978\n",
      "KRW-SXP 1735194\n",
      "KRW-HUNT 1709022\n",
      "KRW-PLA 1758144\n",
      "KRW-DOT 1795746\n",
      "KRW-SRM 1720350\n",
      "KRW-MVL 1409436\n",
      "KRW-STRAX 1457244\n",
      "KRW-AQT 1566834\n",
      "KRW-GLM 1547478\n",
      "KRW-SSX 1566198\n",
      "KRW-META 1553904\n",
      "KRW-FCT2 1460034\n",
      "KRW-CBK 1563612\n",
      "KRW-SAND 1819296\n",
      "KRW-HUM 1641390\n",
      "KRW-DOGE 1817436\n",
      "KRW-STRK 1474446\n",
      "KRW-PUNDIX 1530492\n",
      "KRW-FLOW 1810002\n",
      "KRW-DAWN 1627314\n",
      "KRW-AXS 1784412\n",
      "KRW-STX 1761408\n",
      "KRW-XEC 1768842\n",
      "KRW-SOL 1440096\n",
      "KRW-MATIC 1428576\n",
      "KRW-NU 1401042\n",
      "KRW-AAVE 1129638\n",
      "KRW-1INCH 1193004\n",
      "KRW-ALGO 1080198\n",
      "KRW-NEAR 911964\n",
      "KRW-WEMIX 674496\n",
      "KRW-AVAX 429318\n",
      "KRW-T 236460\n",
      "KRW-CELO 114972\n"
     ]
    }
   ],
   "source": [
    "for key, val in ohlcvs.items():\n",
    "    print(key, val.size)"
   ]
  },
  {
   "cell_type": "code",
   "execution_count": 7,
   "metadata": {},
   "outputs": [],
   "source": [
    "assert isinstance(ohlcvs['KRW-BTC'].index, pd.DatetimeIndex), 'not datetime index'"
   ]
  },
  {
   "cell_type": "code",
   "execution_count": 8,
   "metadata": {},
   "outputs": [
    {
     "data": {
      "text/html": [
       "<div>\n",
       "<style scoped>\n",
       "    .dataframe tbody tr th:only-of-type {\n",
       "        vertical-align: middle;\n",
       "    }\n",
       "\n",
       "    .dataframe tbody tr th {\n",
       "        vertical-align: top;\n",
       "    }\n",
       "\n",
       "    .dataframe thead th {\n",
       "        text-align: right;\n",
       "    }\n",
       "</style>\n",
       "<table border=\"1\" class=\"dataframe\">\n",
       "  <thead>\n",
       "    <tr style=\"text-align: right;\">\n",
       "      <th></th>\n",
       "      <th>open</th>\n",
       "      <th>high</th>\n",
       "      <th>low</th>\n",
       "      <th>close</th>\n",
       "      <th>volume</th>\n",
       "      <th>value</th>\n",
       "    </tr>\n",
       "  </thead>\n",
       "  <tbody>\n",
       "    <tr>\n",
       "      <th>2021-09-01 00:00:00</th>\n",
       "      <td>55326000.0</td>\n",
       "      <td>55422000.0</td>\n",
       "      <td>55326000.0</td>\n",
       "      <td>55327000.0</td>\n",
       "      <td>16.458649</td>\n",
       "      <td>9.113422e+08</td>\n",
       "    </tr>\n",
       "    <tr>\n",
       "      <th>2021-09-01 00:01:00</th>\n",
       "      <td>55327000.0</td>\n",
       "      <td>55399000.0</td>\n",
       "      <td>55327000.0</td>\n",
       "      <td>55393000.0</td>\n",
       "      <td>9.624262</td>\n",
       "      <td>5.327570e+08</td>\n",
       "    </tr>\n",
       "    <tr>\n",
       "      <th>2021-09-01 00:02:00</th>\n",
       "      <td>55400000.0</td>\n",
       "      <td>55477000.0</td>\n",
       "      <td>55391000.0</td>\n",
       "      <td>55443000.0</td>\n",
       "      <td>12.328954</td>\n",
       "      <td>6.834197e+08</td>\n",
       "    </tr>\n",
       "    <tr>\n",
       "      <th>2021-09-01 00:03:00</th>\n",
       "      <td>55439000.0</td>\n",
       "      <td>55463000.0</td>\n",
       "      <td>55343000.0</td>\n",
       "      <td>55350000.0</td>\n",
       "      <td>18.474244</td>\n",
       "      <td>1.023428e+09</td>\n",
       "    </tr>\n",
       "    <tr>\n",
       "      <th>2021-09-01 00:04:00</th>\n",
       "      <td>55378000.0</td>\n",
       "      <td>55385000.0</td>\n",
       "      <td>55331000.0</td>\n",
       "      <td>55340000.0</td>\n",
       "      <td>12.750241</td>\n",
       "      <td>7.056209e+08</td>\n",
       "    </tr>\n",
       "    <tr>\n",
       "      <th>...</th>\n",
       "      <td>...</td>\n",
       "      <td>...</td>\n",
       "      <td>...</td>\n",
       "      <td>...</td>\n",
       "      <td>...</td>\n",
       "      <td>...</td>\n",
       "    </tr>\n",
       "    <tr>\n",
       "      <th>2022-03-31 23:55:00</th>\n",
       "      <td>56461000.0</td>\n",
       "      <td>56485000.0</td>\n",
       "      <td>56461000.0</td>\n",
       "      <td>56481000.0</td>\n",
       "      <td>7.931584</td>\n",
       "      <td>4.479158e+08</td>\n",
       "    </tr>\n",
       "    <tr>\n",
       "      <th>2022-03-31 23:56:00</th>\n",
       "      <td>56480000.0</td>\n",
       "      <td>56490000.0</td>\n",
       "      <td>56480000.0</td>\n",
       "      <td>56490000.0</td>\n",
       "      <td>4.296142</td>\n",
       "      <td>2.426775e+08</td>\n",
       "    </tr>\n",
       "    <tr>\n",
       "      <th>2022-03-31 23:57:00</th>\n",
       "      <td>56490000.0</td>\n",
       "      <td>56499000.0</td>\n",
       "      <td>56485000.0</td>\n",
       "      <td>56488000.0</td>\n",
       "      <td>5.051226</td>\n",
       "      <td>2.853419e+08</td>\n",
       "    </tr>\n",
       "    <tr>\n",
       "      <th>2022-03-31 23:58:00</th>\n",
       "      <td>56489000.0</td>\n",
       "      <td>56505000.0</td>\n",
       "      <td>56486000.0</td>\n",
       "      <td>56499000.0</td>\n",
       "      <td>3.184290</td>\n",
       "      <td>1.799036e+08</td>\n",
       "    </tr>\n",
       "    <tr>\n",
       "      <th>2022-03-31 23:59:00</th>\n",
       "      <td>56501000.0</td>\n",
       "      <td>56555000.0</td>\n",
       "      <td>56500000.0</td>\n",
       "      <td>56540000.0</td>\n",
       "      <td>2.843731</td>\n",
       "      <td>1.607382e+08</td>\n",
       "    </tr>\n",
       "  </tbody>\n",
       "</table>\n",
       "<p>304469 rows × 6 columns</p>\n",
       "</div>"
      ],
      "text/plain": [
       "                           open        high         low       close  \\\n",
       "2021-09-01 00:00:00  55326000.0  55422000.0  55326000.0  55327000.0   \n",
       "2021-09-01 00:01:00  55327000.0  55399000.0  55327000.0  55393000.0   \n",
       "2021-09-01 00:02:00  55400000.0  55477000.0  55391000.0  55443000.0   \n",
       "2021-09-01 00:03:00  55439000.0  55463000.0  55343000.0  55350000.0   \n",
       "2021-09-01 00:04:00  55378000.0  55385000.0  55331000.0  55340000.0   \n",
       "...                         ...         ...         ...         ...   \n",
       "2022-03-31 23:55:00  56461000.0  56485000.0  56461000.0  56481000.0   \n",
       "2022-03-31 23:56:00  56480000.0  56490000.0  56480000.0  56490000.0   \n",
       "2022-03-31 23:57:00  56490000.0  56499000.0  56485000.0  56488000.0   \n",
       "2022-03-31 23:58:00  56489000.0  56505000.0  56486000.0  56499000.0   \n",
       "2022-03-31 23:59:00  56501000.0  56555000.0  56500000.0  56540000.0   \n",
       "\n",
       "                        volume         value  \n",
       "2021-09-01 00:00:00  16.458649  9.113422e+08  \n",
       "2021-09-01 00:01:00   9.624262  5.327570e+08  \n",
       "2021-09-01 00:02:00  12.328954  6.834197e+08  \n",
       "2021-09-01 00:03:00  18.474244  1.023428e+09  \n",
       "2021-09-01 00:04:00  12.750241  7.056209e+08  \n",
       "...                        ...           ...  \n",
       "2022-03-31 23:55:00   7.931584  4.479158e+08  \n",
       "2022-03-31 23:56:00   4.296142  2.426775e+08  \n",
       "2022-03-31 23:57:00   5.051226  2.853419e+08  \n",
       "2022-03-31 23:58:00   3.184290  1.799036e+08  \n",
       "2022-03-31 23:59:00   2.843731  1.607382e+08  \n",
       "\n",
       "[304469 rows x 6 columns]"
      ]
     },
     "execution_count": 8,
     "metadata": {},
     "output_type": "execute_result"
    }
   ],
   "source": [
    "ohlcvs['KRW-BTC']"
   ]
  },
  {
   "cell_type": "code",
   "execution_count": 10,
   "metadata": {},
   "outputs": [
    {
     "ename": "MemoryError",
     "evalue": "Unable to allocate 468. MiB for an array with shape (201, 305280) and data type float64",
     "output_type": "error",
     "traceback": [
      "\u001b[1;31m---------------------------------------------------------------------------\u001b[0m",
      "\u001b[1;31mMemoryError\u001b[0m                               Traceback (most recent call last)",
      "\u001b[1;32m<ipython-input-10-11dc5191b5d1>\u001b[0m in \u001b[0;36m<module>\u001b[1;34m\u001b[0m\n\u001b[0;32m     31\u001b[0m \u001b[1;33m\u001b[0m\u001b[0m\n\u001b[0;32m     32\u001b[0m         \u001b[1;31m# tot_set에 합치기\u001b[0m\u001b[1;33m\u001b[0m\u001b[1;33m\u001b[0m\u001b[1;33m\u001b[0m\u001b[0m\n\u001b[1;32m---> 33\u001b[1;33m         \u001b[0mtot_set\u001b[0m \u001b[1;33m=\u001b[0m \u001b[0mtot_set\u001b[0m\u001b[1;33m.\u001b[0m\u001b[0mjoin\u001b[0m\u001b[1;33m(\u001b[0m\u001b[0mtot_ohlcv\u001b[0m\u001b[1;33m)\u001b[0m\u001b[1;33m\u001b[0m\u001b[1;33m\u001b[0m\u001b[0m\n\u001b[0m\u001b[0;32m     34\u001b[0m \u001b[1;33m\u001b[0m\u001b[0m\n\u001b[0;32m     35\u001b[0m         \u001b[1;31m# tot_sets[key] = tot_ohlcv\u001b[0m\u001b[1;33m\u001b[0m\u001b[1;33m\u001b[0m\u001b[1;33m\u001b[0m\u001b[0m\n",
      "\u001b[1;32mC:\\ProgramData\\Anaconda3\\lib\\site-packages\\pandas\\core\\frame.py\u001b[0m in \u001b[0;36mjoin\u001b[1;34m(self, other, on, how, lsuffix, rsuffix, sort)\u001b[0m\n\u001b[0;32m   8108\u001b[0m         \u001b[1;36m5\u001b[0m  \u001b[0mK5\u001b[0m  \u001b[0mA5\u001b[0m  \u001b[0mNaN\u001b[0m\u001b[1;33m\u001b[0m\u001b[1;33m\u001b[0m\u001b[0m\n\u001b[0;32m   8109\u001b[0m         \"\"\"\n\u001b[1;32m-> 8110\u001b[1;33m         return self._join_compat(\n\u001b[0m\u001b[0;32m   8111\u001b[0m             \u001b[0mother\u001b[0m\u001b[1;33m,\u001b[0m \u001b[0mon\u001b[0m\u001b[1;33m=\u001b[0m\u001b[0mon\u001b[0m\u001b[1;33m,\u001b[0m \u001b[0mhow\u001b[0m\u001b[1;33m=\u001b[0m\u001b[0mhow\u001b[0m\u001b[1;33m,\u001b[0m \u001b[0mlsuffix\u001b[0m\u001b[1;33m=\u001b[0m\u001b[0mlsuffix\u001b[0m\u001b[1;33m,\u001b[0m \u001b[0mrsuffix\u001b[0m\u001b[1;33m=\u001b[0m\u001b[0mrsuffix\u001b[0m\u001b[1;33m,\u001b[0m \u001b[0msort\u001b[0m\u001b[1;33m=\u001b[0m\u001b[0msort\u001b[0m\u001b[1;33m\u001b[0m\u001b[1;33m\u001b[0m\u001b[0m\n\u001b[0;32m   8112\u001b[0m         )\n",
      "\u001b[1;32mC:\\ProgramData\\Anaconda3\\lib\\site-packages\\pandas\\core\\frame.py\u001b[0m in \u001b[0;36m_join_compat\u001b[1;34m(self, other, on, how, lsuffix, rsuffix, sort)\u001b[0m\n\u001b[0;32m   8133\u001b[0m                     \u001b[0msort\u001b[0m\u001b[1;33m=\u001b[0m\u001b[0msort\u001b[0m\u001b[1;33m,\u001b[0m\u001b[1;33m\u001b[0m\u001b[1;33m\u001b[0m\u001b[0m\n\u001b[0;32m   8134\u001b[0m                 )\n\u001b[1;32m-> 8135\u001b[1;33m             return merge(\n\u001b[0m\u001b[0;32m   8136\u001b[0m                 \u001b[0mself\u001b[0m\u001b[1;33m,\u001b[0m\u001b[1;33m\u001b[0m\u001b[1;33m\u001b[0m\u001b[0m\n\u001b[0;32m   8137\u001b[0m                 \u001b[0mother\u001b[0m\u001b[1;33m,\u001b[0m\u001b[1;33m\u001b[0m\u001b[1;33m\u001b[0m\u001b[0m\n",
      "\u001b[1;32mC:\\ProgramData\\Anaconda3\\lib\\site-packages\\pandas\\core\\reshape\\merge.py\u001b[0m in \u001b[0;36mmerge\u001b[1;34m(left, right, how, on, left_on, right_on, left_index, right_index, sort, suffixes, copy, indicator, validate)\u001b[0m\n\u001b[0;32m     87\u001b[0m         \u001b[0mvalidate\u001b[0m\u001b[1;33m=\u001b[0m\u001b[0mvalidate\u001b[0m\u001b[1;33m,\u001b[0m\u001b[1;33m\u001b[0m\u001b[1;33m\u001b[0m\u001b[0m\n\u001b[0;32m     88\u001b[0m     )\n\u001b[1;32m---> 89\u001b[1;33m     \u001b[1;32mreturn\u001b[0m \u001b[0mop\u001b[0m\u001b[1;33m.\u001b[0m\u001b[0mget_result\u001b[0m\u001b[1;33m(\u001b[0m\u001b[1;33m)\u001b[0m\u001b[1;33m\u001b[0m\u001b[1;33m\u001b[0m\u001b[0m\n\u001b[0m\u001b[0;32m     90\u001b[0m \u001b[1;33m\u001b[0m\u001b[0m\n\u001b[0;32m     91\u001b[0m \u001b[1;33m\u001b[0m\u001b[0m\n",
      "\u001b[1;32mC:\\ProgramData\\Anaconda3\\lib\\site-packages\\pandas\\core\\reshape\\merge.py\u001b[0m in \u001b[0;36mget_result\u001b[1;34m(self)\u001b[0m\n\u001b[0;32m    691\u001b[0m         \u001b[0mrindexers\u001b[0m \u001b[1;33m=\u001b[0m \u001b[1;33m{\u001b[0m\u001b[1;36m1\u001b[0m\u001b[1;33m:\u001b[0m \u001b[0mright_indexer\u001b[0m\u001b[1;33m}\u001b[0m \u001b[1;32mif\u001b[0m \u001b[0mright_indexer\u001b[0m \u001b[1;32mis\u001b[0m \u001b[1;32mnot\u001b[0m \u001b[1;32mNone\u001b[0m \u001b[1;32melse\u001b[0m \u001b[1;33m{\u001b[0m\u001b[1;33m}\u001b[0m\u001b[1;33m\u001b[0m\u001b[1;33m\u001b[0m\u001b[0m\n\u001b[0;32m    692\u001b[0m \u001b[1;33m\u001b[0m\u001b[0m\n\u001b[1;32m--> 693\u001b[1;33m         result_data = concatenate_block_managers(\n\u001b[0m\u001b[0;32m    694\u001b[0m             \u001b[1;33m[\u001b[0m\u001b[1;33m(\u001b[0m\u001b[0mself\u001b[0m\u001b[1;33m.\u001b[0m\u001b[0mleft\u001b[0m\u001b[1;33m.\u001b[0m\u001b[0m_mgr\u001b[0m\u001b[1;33m,\u001b[0m \u001b[0mlindexers\u001b[0m\u001b[1;33m)\u001b[0m\u001b[1;33m,\u001b[0m \u001b[1;33m(\u001b[0m\u001b[0mself\u001b[0m\u001b[1;33m.\u001b[0m\u001b[0mright\u001b[0m\u001b[1;33m.\u001b[0m\u001b[0m_mgr\u001b[0m\u001b[1;33m,\u001b[0m \u001b[0mrindexers\u001b[0m\u001b[1;33m)\u001b[0m\u001b[1;33m]\u001b[0m\u001b[1;33m,\u001b[0m\u001b[1;33m\u001b[0m\u001b[1;33m\u001b[0m\u001b[0m\n\u001b[0;32m    695\u001b[0m             \u001b[0maxes\u001b[0m\u001b[1;33m=\u001b[0m\u001b[1;33m[\u001b[0m\u001b[0mllabels\u001b[0m\u001b[1;33m.\u001b[0m\u001b[0mappend\u001b[0m\u001b[1;33m(\u001b[0m\u001b[0mrlabels\u001b[0m\u001b[1;33m)\u001b[0m\u001b[1;33m,\u001b[0m \u001b[0mjoin_index\u001b[0m\u001b[1;33m]\u001b[0m\u001b[1;33m,\u001b[0m\u001b[1;33m\u001b[0m\u001b[1;33m\u001b[0m\u001b[0m\n",
      "\u001b[1;32mC:\\ProgramData\\Anaconda3\\lib\\site-packages\\pandas\\core\\internals\\concat.py\u001b[0m in \u001b[0;36mconcatenate_block_managers\u001b[1;34m(mgrs_indexers, axes, concat_axis, copy)\u001b[0m\n\u001b[0;32m     81\u001b[0m         \u001b[1;32melse\u001b[0m\u001b[1;33m:\u001b[0m\u001b[1;33m\u001b[0m\u001b[1;33m\u001b[0m\u001b[0m\n\u001b[0;32m     82\u001b[0m             b = make_block(\n\u001b[1;32m---> 83\u001b[1;33m                 \u001b[0m_concatenate_join_units\u001b[0m\u001b[1;33m(\u001b[0m\u001b[0mjoin_units\u001b[0m\u001b[1;33m,\u001b[0m \u001b[0mconcat_axis\u001b[0m\u001b[1;33m,\u001b[0m \u001b[0mcopy\u001b[0m\u001b[1;33m=\u001b[0m\u001b[0mcopy\u001b[0m\u001b[1;33m)\u001b[0m\u001b[1;33m,\u001b[0m\u001b[1;33m\u001b[0m\u001b[1;33m\u001b[0m\u001b[0m\n\u001b[0m\u001b[0;32m     84\u001b[0m                 \u001b[0mplacement\u001b[0m\u001b[1;33m=\u001b[0m\u001b[0mplacement\u001b[0m\u001b[1;33m,\u001b[0m\u001b[1;33m\u001b[0m\u001b[1;33m\u001b[0m\u001b[0m\n\u001b[0;32m     85\u001b[0m                 \u001b[0mndim\u001b[0m\u001b[1;33m=\u001b[0m\u001b[0mlen\u001b[0m\u001b[1;33m(\u001b[0m\u001b[0maxes\u001b[0m\u001b[1;33m)\u001b[0m\u001b[1;33m,\u001b[0m\u001b[1;33m\u001b[0m\u001b[1;33m\u001b[0m\u001b[0m\n",
      "\u001b[1;32mC:\\ProgramData\\Anaconda3\\lib\\site-packages\\pandas\\core\\internals\\concat.py\u001b[0m in \u001b[0;36m_concatenate_join_units\u001b[1;34m(join_units, concat_axis, copy)\u001b[0m\n\u001b[0;32m    311\u001b[0m     \u001b[0mempty_dtype\u001b[0m\u001b[1;33m,\u001b[0m \u001b[0mupcasted_na\u001b[0m \u001b[1;33m=\u001b[0m \u001b[0m_get_empty_dtype_and_na\u001b[0m\u001b[1;33m(\u001b[0m\u001b[0mjoin_units\u001b[0m\u001b[1;33m)\u001b[0m\u001b[1;33m\u001b[0m\u001b[1;33m\u001b[0m\u001b[0m\n\u001b[0;32m    312\u001b[0m \u001b[1;33m\u001b[0m\u001b[0m\n\u001b[1;32m--> 313\u001b[1;33m     to_concat = [\n\u001b[0m\u001b[0;32m    314\u001b[0m         \u001b[0mju\u001b[0m\u001b[1;33m.\u001b[0m\u001b[0mget_reindexed_values\u001b[0m\u001b[1;33m(\u001b[0m\u001b[0mempty_dtype\u001b[0m\u001b[1;33m=\u001b[0m\u001b[0mempty_dtype\u001b[0m\u001b[1;33m,\u001b[0m \u001b[0mupcasted_na\u001b[0m\u001b[1;33m=\u001b[0m\u001b[0mupcasted_na\u001b[0m\u001b[1;33m)\u001b[0m\u001b[1;33m\u001b[0m\u001b[1;33m\u001b[0m\u001b[0m\n\u001b[0;32m    315\u001b[0m         \u001b[1;32mfor\u001b[0m \u001b[0mju\u001b[0m \u001b[1;32min\u001b[0m \u001b[0mjoin_units\u001b[0m\u001b[1;33m\u001b[0m\u001b[1;33m\u001b[0m\u001b[0m\n",
      "\u001b[1;32mC:\\ProgramData\\Anaconda3\\lib\\site-packages\\pandas\\core\\internals\\concat.py\u001b[0m in \u001b[0;36m<listcomp>\u001b[1;34m(.0)\u001b[0m\n\u001b[0;32m    312\u001b[0m \u001b[1;33m\u001b[0m\u001b[0m\n\u001b[0;32m    313\u001b[0m     to_concat = [\n\u001b[1;32m--> 314\u001b[1;33m         \u001b[0mju\u001b[0m\u001b[1;33m.\u001b[0m\u001b[0mget_reindexed_values\u001b[0m\u001b[1;33m(\u001b[0m\u001b[0mempty_dtype\u001b[0m\u001b[1;33m=\u001b[0m\u001b[0mempty_dtype\u001b[0m\u001b[1;33m,\u001b[0m \u001b[0mupcasted_na\u001b[0m\u001b[1;33m=\u001b[0m\u001b[0mupcasted_na\u001b[0m\u001b[1;33m)\u001b[0m\u001b[1;33m\u001b[0m\u001b[1;33m\u001b[0m\u001b[0m\n\u001b[0m\u001b[0;32m    315\u001b[0m         \u001b[1;32mfor\u001b[0m \u001b[0mju\u001b[0m \u001b[1;32min\u001b[0m \u001b[0mjoin_units\u001b[0m\u001b[1;33m\u001b[0m\u001b[1;33m\u001b[0m\u001b[0m\n\u001b[0;32m    316\u001b[0m     ]\n",
      "\u001b[1;32mC:\\ProgramData\\Anaconda3\\lib\\site-packages\\pandas\\core\\internals\\concat.py\u001b[0m in \u001b[0;36mget_reindexed_values\u001b[1;34m(self, empty_dtype, upcasted_na)\u001b[0m\n\u001b[0;32m    296\u001b[0m         \u001b[1;32melse\u001b[0m\u001b[1;33m:\u001b[0m\u001b[1;33m\u001b[0m\u001b[1;33m\u001b[0m\u001b[0m\n\u001b[0;32m    297\u001b[0m             \u001b[1;32mfor\u001b[0m \u001b[0max\u001b[0m\u001b[1;33m,\u001b[0m \u001b[0mindexer\u001b[0m \u001b[1;32min\u001b[0m \u001b[0mself\u001b[0m\u001b[1;33m.\u001b[0m\u001b[0mindexers\u001b[0m\u001b[1;33m.\u001b[0m\u001b[0mitems\u001b[0m\u001b[1;33m(\u001b[0m\u001b[1;33m)\u001b[0m\u001b[1;33m:\u001b[0m\u001b[1;33m\u001b[0m\u001b[1;33m\u001b[0m\u001b[0m\n\u001b[1;32m--> 298\u001b[1;33m                 \u001b[0mvalues\u001b[0m \u001b[1;33m=\u001b[0m \u001b[0malgos\u001b[0m\u001b[1;33m.\u001b[0m\u001b[0mtake_nd\u001b[0m\u001b[1;33m(\u001b[0m\u001b[0mvalues\u001b[0m\u001b[1;33m,\u001b[0m \u001b[0mindexer\u001b[0m\u001b[1;33m,\u001b[0m \u001b[0maxis\u001b[0m\u001b[1;33m=\u001b[0m\u001b[0max\u001b[0m\u001b[1;33m,\u001b[0m \u001b[0mfill_value\u001b[0m\u001b[1;33m=\u001b[0m\u001b[0mfill_value\u001b[0m\u001b[1;33m)\u001b[0m\u001b[1;33m\u001b[0m\u001b[1;33m\u001b[0m\u001b[0m\n\u001b[0m\u001b[0;32m    299\u001b[0m \u001b[1;33m\u001b[0m\u001b[0m\n\u001b[0;32m    300\u001b[0m         \u001b[1;32mreturn\u001b[0m \u001b[0mvalues\u001b[0m\u001b[1;33m\u001b[0m\u001b[1;33m\u001b[0m\u001b[0m\n",
      "\u001b[1;32mC:\\ProgramData\\Anaconda3\\lib\\site-packages\\pandas\\core\\algorithms.py\u001b[0m in \u001b[0;36mtake_nd\u001b[1;34m(arr, indexer, axis, out, fill_value, allow_fill)\u001b[0m\n\u001b[0;32m   1752\u001b[0m             \u001b[0mout\u001b[0m \u001b[1;33m=\u001b[0m \u001b[0mnp\u001b[0m\u001b[1;33m.\u001b[0m\u001b[0mempty\u001b[0m\u001b[1;33m(\u001b[0m\u001b[0mout_shape\u001b[0m\u001b[1;33m,\u001b[0m \u001b[0mdtype\u001b[0m\u001b[1;33m=\u001b[0m\u001b[0mdtype\u001b[0m\u001b[1;33m,\u001b[0m \u001b[0morder\u001b[0m\u001b[1;33m=\u001b[0m\u001b[1;34m\"F\"\u001b[0m\u001b[1;33m)\u001b[0m\u001b[1;33m\u001b[0m\u001b[1;33m\u001b[0m\u001b[0m\n\u001b[0;32m   1753\u001b[0m         \u001b[1;32melse\u001b[0m\u001b[1;33m:\u001b[0m\u001b[1;33m\u001b[0m\u001b[1;33m\u001b[0m\u001b[0m\n\u001b[1;32m-> 1754\u001b[1;33m             \u001b[0mout\u001b[0m \u001b[1;33m=\u001b[0m \u001b[0mnp\u001b[0m\u001b[1;33m.\u001b[0m\u001b[0mempty\u001b[0m\u001b[1;33m(\u001b[0m\u001b[0mout_shape\u001b[0m\u001b[1;33m,\u001b[0m \u001b[0mdtype\u001b[0m\u001b[1;33m=\u001b[0m\u001b[0mdtype\u001b[0m\u001b[1;33m)\u001b[0m\u001b[1;33m\u001b[0m\u001b[1;33m\u001b[0m\u001b[0m\n\u001b[0m\u001b[0;32m   1755\u001b[0m \u001b[1;33m\u001b[0m\u001b[0m\n\u001b[0;32m   1756\u001b[0m     func = _get_take_nd_function(\n",
      "\u001b[1;31mMemoryError\u001b[0m: Unable to allocate 468. MiB for an array with shape (201, 305280) and data type float64"
     ]
    }
   ],
   "source": [
    "tot_idx = pd.date_range(start = startdate , end = workdate, freq = 'T', closed = 'left')\n",
    "\n",
    "tot_set = cb_001m_upbit.get_tot_df(ohlcvs = ohlcvs, tot_idx = tot_idx\n",
    "                , filename = r\"D:\\2022\\CoinbizExpert\\data_feature.pickle\"\n",
    "                , force_download = False)"
   ]
  },
  {
   "cell_type": "code",
   "execution_count": null,
   "metadata": {},
   "outputs": [
    {
     "data": {
      "text/plain": [
       "Index(['KRW-BTC-volume', 'KRW-BTC-upperband10', 'KRW-BTC-middleband10',\n",
       "       'KRW-BTC-lowerband10', 'KRW-BTC-dema10', 'KRW-BTC-ema10',\n",
       "       'KRW-BTC-kama10', 'KRW-BTC-midpoint10', 'KRW-BTC-midprice10',\n",
       "       'KRW-BTC-t310',\n",
       "       ...\n",
       "       'KRW-BTC-CDLSTALLEDPATTERN', 'KRW-BTC-CDLSTICKSANDWICH',\n",
       "       'KRW-BTC-CDLTAKURI', 'KRW-BTC-CDLTASUKIGAP', 'KRW-BTC-CDLTHRUSTING',\n",
       "       'KRW-BTC-CDLTRISTAR', 'KRW-BTC-CDLUNIQUE3RIVER',\n",
       "       'KRW-BTC-CDLUPSIDEGAP2CROWS', 'KRW-BTC-CDLXSIDEGAP3METHODS',\n",
       "       'KRW-BTC-target'],\n",
       "      dtype='object', length=296)"
      ]
     },
     "execution_count": 27,
     "metadata": {},
     "output_type": "execute_result"
    }
   ],
   "source": [
    "# 7개월간 데이터가 있는 102개 코인으로 축소 (11개 코인 제거)\n",
    "tot_set.columns\n"
   ]
  },
  {
   "cell_type": "markdown",
   "metadata": {},
   "source": [
    "3. 모형 개발"
   ]
  },
  {
   "cell_type": "code",
   "execution_count": null,
   "metadata": {},
   "outputs": [],
   "source": [
    "# from ta import add_all_ta_features\n",
    "\n",
    "# # Load datas\n",
    "# df = ohlcvs['KRW-BTC'].copy() # this is you data and it has to be in the OHLC and volume format \n",
    "\n",
    "# # Add ta features filling NaN values\n",
    "# df = add_all_ta_features(\n",
    "#     df, open=\"open\", high=\"high\", low=\"low\", close=\"close\", volume=\"volume\", fillna=True)\n",
    "\n",
    "# df.columns"
   ]
  },
  {
   "cell_type": "code",
   "execution_count": null,
   "metadata": {},
   "outputs": [],
   "source": [
    "from sklearn.ensemble import RandomForestClassifier\n",
    "from sklearn.metrics import f1_score\n",
    "from sklearn.model_selection import train_test_split\n",
    "import numpy as np"
   ]
  },
  {
   "cell_type": "code",
   "execution_count": null,
   "metadata": {},
   "outputs": [],
   "source": [
    "# tot_set.drop(columns=['val_gb'], inplace=True)\n",
    "# t = ohlcvs['KRW-BTC']"
   ]
  },
  {
   "cell_type": "code",
   "execution_count": null,
   "metadata": {},
   "outputs": [],
   "source": [
    "tot_set['train_gb'] = np.where((tot_set.index >= datetime.fromisoformat('2021-10-01')) \\\n",
    "                            & (tot_set.index < datetime.fromisoformat('2021-12-01')),1,0)\n",
    "\n",
    "tot_set['test_gb'] = np.where((tot_set.index >= datetime.fromisoformat('2021-12-01')) \\\n",
    "                            & (tot_set.index < datetime.fromisoformat('2022-02-01')),1,0)\n",
    "\n",
    "tot_set['val_gb'] = np.where((tot_set.index >= datetime.fromisoformat('2022-02-01')) \\\n",
    "                            & (tot_set.index < datetime.fromisoformat('2022-03-31 23:49:00')),1,0)\n",
    "\n",
    "tot_set['target'] = np.where(tot_set['KRW-BTC-target'] >= 1,1,0)"
   ]
  },
  {
   "cell_type": "code",
   "execution_count": null,
   "metadata": {},
   "outputs": [
    {
     "name": "stdout",
     "output_type": "stream",
     "text": [
      "61.0\n",
      "62.0\n",
      "59.0\n",
      "87840\n",
      "345\n",
      "89280\n",
      "451\n",
      "84949\n",
      "369\n",
      "0.003927595628415301\n",
      "0.005051523297491039\n",
      "0.0043437827402323746\n"
     ]
    }
   ],
   "source": [
    "print(tot_set.train_gb.sum()/60/24)\n",
    "print(tot_set.test_gb.sum()/60/24)\n",
    "print((tot_set.val_gb.sum()+11)/60/24) # 마지막 11개 데이터는 퍼포먼스 미확보로 미사용\n",
    "print((tot_set['train_gb']==1).sum())\n",
    "print(((tot_set['target']==1) & (tot_set['train_gb']==1)).sum())\n",
    "print((tot_set['test_gb']==1).sum())\n",
    "print(((tot_set['target']==1) & (tot_set['test_gb']==1)).sum())\n",
    "print((tot_set['val_gb']==1).sum())\n",
    "print(((tot_set['target']==1) & (tot_set['val_gb']==1)).sum())\n",
    "print(((tot_set['target']==1) & (tot_set['train_gb']==1)).sum()/(tot_set['train_gb']==1).sum())\n",
    "print(((tot_set['target']==1) & (tot_set['test_gb']==1)).sum()/(tot_set['test_gb']==1).sum())\n",
    "print(((tot_set['target']==1) & (tot_set['val_gb']==1)).sum()/(tot_set['val_gb']==1).sum())\n",
    "\n",
    "# tot_set[(tot_set['target']==1)]\n",
    "tot_set_1min = tot_set[tot_set.index.minute%10==1]"
   ]
  },
  {
   "cell_type": "code",
   "execution_count": null,
   "metadata": {},
   "outputs": [],
   "source": [
    "X_train = tot_set_1min[tot_set_1min.train_gb == 1].drop(['KRW-BTC-target','target','val_gb','test_gb','train_gb'], axis=1)\n",
    "y_train = tot_set_1min[tot_set_1min.train_gb == 1]['target']\n",
    "X_test = tot_set_1min[tot_set_1min.test_gb == 1].drop(['KRW-BTC-target','target','val_gb','test_gb','train_gb'], axis=1)\n",
    "y_test = tot_set_1min[tot_set_1min.test_gb == 1]['target']\n",
    "X_val = tot_set_1min[tot_set_1min.val_gb == 1].drop(['KRW-BTC-target','target','val_gb','test_gb','train_gb'], axis=1)\n",
    "y_val = tot_set_1min[tot_set_1min.val_gb == 1]['target']\n"
   ]
  },
  {
   "cell_type": "code",
   "execution_count": null,
   "metadata": {},
   "outputs": [
    {
     "data": {
      "text/plain": [
       "RandomForestClassifier(max_depth=60, n_estimators=50, n_jobs=-1)"
      ]
     },
     "execution_count": 122,
     "metadata": {},
     "output_type": "execute_result"
    }
   ],
   "source": [
    "model = RandomForestClassifier(n_estimators=50, max_depth=60, n_jobs=-1)\n",
    "\n",
    "model.fit(X_train,y_train)"
   ]
  },
  {
   "cell_type": "code",
   "execution_count": null,
   "metadata": {},
   "outputs": [],
   "source": [
    "rf_train_rslt = pd.DataFrame(y_train)\n",
    "rf_train_rslt['pred_target'] = model.predict(X_train)\n",
    "rf_test_rslt = pd.DataFrame(y_test)\n",
    "rf_test_rslt['pred_target'] = model.predict(X_test)\n",
    "rf_val_rslt = pd.DataFrame(y_val)\n",
    "rf_val_rslt['pred_target'] = model.predict(X_val)\n",
    "\n",
    "\n",
    "rf_train_rslt.to_csv('train_rslt.csv', index=False)\n",
    "rf_test_rslt.to_csv('test_rslt.csv', index=False)\n",
    "rf_val_rslt.to_csv('val_rslt.csv', index=False)"
   ]
  },
  {
   "cell_type": "code",
   "execution_count": null,
   "metadata": {},
   "outputs": [],
   "source": []
  },
  {
   "cell_type": "code",
   "execution_count": null,
   "metadata": {},
   "outputs": [],
   "source": [
    "import lightgbm\n",
    "import bayes_opt"
   ]
  },
  {
   "cell_type": "code",
   "execution_count": null,
   "metadata": {},
   "outputs": [
    {
     "name": "stdout",
     "output_type": "stream",
     "text": [
      "|   iter    |  target   | colsam... | learni... | max_depth | min_ch... | n_esti... | subsample |\n",
      "-------------------------------------------------------------------------------------------------\n",
      "| \u001b[0m 1       \u001b[0m | \u001b[0m 0.0     \u001b[0m | \u001b[0m 0.7744  \u001b[0m | \u001b[0m 0.2148  \u001b[0m | \u001b[0m 2.206   \u001b[0m | \u001b[0m 0.5904  \u001b[0m | \u001b[0m 302.3   \u001b[0m | \u001b[0m 0.8229  \u001b[0m |\n",
      "| \u001b[95m 2       \u001b[0m | \u001b[95m 0.03922 \u001b[0m | \u001b[95m 0.7188  \u001b[0m | \u001b[95m 0.2676  \u001b[0m | \u001b[95m 2.927   \u001b[0m | \u001b[95m 0.4451  \u001b[0m | \u001b[95m 556.3   \u001b[0m | \u001b[95m 0.7644  \u001b[0m |\n",
      "| \u001b[95m 3       \u001b[0m | \u001b[95m 0.1458  \u001b[0m | \u001b[95m 0.784   \u001b[0m | \u001b[95m 0.2778  \u001b[0m | \u001b[95m 1.142   \u001b[0m | \u001b[95m 0.1784  \u001b[0m | \u001b[95m 23.95   \u001b[0m | \u001b[95m 0.9163  \u001b[0m |\n",
      "| \u001b[0m 4       \u001b[0m | \u001b[0m 0.04    \u001b[0m | \u001b[0m 0.8891  \u001b[0m | \u001b[0m 0.2611  \u001b[0m | \u001b[0m 2.957   \u001b[0m | \u001b[0m 0.8192  \u001b[0m | \u001b[0m 328.4   \u001b[0m | \u001b[0m 0.8903  \u001b[0m |\n",
      "| \u001b[0m 5       \u001b[0m | \u001b[0m 0.03846 \u001b[0m | \u001b[0m 0.5591  \u001b[0m | \u001b[0m 0.1923  \u001b[0m | \u001b[0m 1.287   \u001b[0m | \u001b[0m 0.9502  \u001b[0m | \u001b[0m 370.1   \u001b[0m | \u001b[0m 0.7073  \u001b[0m |\n",
      "| \u001b[0m 6       \u001b[0m | \u001b[0m 0.03509 \u001b[0m | \u001b[0m 0.6323  \u001b[0m | \u001b[0m 0.2325  \u001b[0m | \u001b[0m 1.912   \u001b[0m | \u001b[0m 0.6116  \u001b[0m | \u001b[0m 22.96   \u001b[0m | \u001b[0m 0.8088  \u001b[0m |\n",
      "| \u001b[0m 7       \u001b[0m | \u001b[0m 0.04    \u001b[0m | \u001b[0m 0.806   \u001b[0m | \u001b[0m 0.1855  \u001b[0m | \u001b[0m 2.887   \u001b[0m | \u001b[0m 0.7136  \u001b[0m | \u001b[0m 258.1   \u001b[0m | \u001b[0m 0.7185  \u001b[0m |\n",
      "| \u001b[0m 8       \u001b[0m | \u001b[0m 0.0     \u001b[0m | \u001b[0m 0.8488  \u001b[0m | \u001b[0m 0.01901 \u001b[0m | \u001b[0m 2.334   \u001b[0m | \u001b[0m 0.7036  \u001b[0m | \u001b[0m 155.2   \u001b[0m | \u001b[0m 0.5645  \u001b[0m |\n",
      "| \u001b[0m 9       \u001b[0m | \u001b[0m 0.07843 \u001b[0m | \u001b[0m 0.6577  \u001b[0m | \u001b[0m 0.1097  \u001b[0m | \u001b[0m 2.14    \u001b[0m | \u001b[0m 0.4947  \u001b[0m | \u001b[0m 692.0   \u001b[0m | \u001b[0m 0.551   \u001b[0m |\n",
      "| \u001b[0m 10      \u001b[0m | \u001b[0m 0.0     \u001b[0m | \u001b[0m 0.6044  \u001b[0m | \u001b[0m 0.04923 \u001b[0m | \u001b[0m 2.306   \u001b[0m | \u001b[0m 0.328   \u001b[0m | \u001b[0m 331.8   \u001b[0m | \u001b[0m 0.6222  \u001b[0m |\n",
      "| \u001b[0m 11      \u001b[0m | \u001b[0m 0.03922 \u001b[0m | \u001b[0m 0.5795  \u001b[0m | \u001b[0m 0.034   \u001b[0m | \u001b[0m 2.313   \u001b[0m | \u001b[0m 0.2244  \u001b[0m | \u001b[0m 145.6   \u001b[0m | \u001b[0m 0.6844  \u001b[0m |\n",
      "| \u001b[0m 12      \u001b[0m | \u001b[0m 0.03922 \u001b[0m | \u001b[0m 0.9105  \u001b[0m | \u001b[0m 0.03003 \u001b[0m | \u001b[0m 2.676   \u001b[0m | \u001b[0m 0.1865  \u001b[0m | \u001b[0m 683.8   \u001b[0m | \u001b[0m 0.7343  \u001b[0m |\n",
      "| \u001b[0m 13      \u001b[0m | \u001b[0m 0.04    \u001b[0m | \u001b[0m 0.9884  \u001b[0m | \u001b[0m 0.1818  \u001b[0m | \u001b[0m 2.479   \u001b[0m | \u001b[0m 0.1353  \u001b[0m | \u001b[0m 205.1   \u001b[0m | \u001b[0m 0.5601  \u001b[0m |\n",
      "| \u001b[0m 14      \u001b[0m | \u001b[0m 0.0     \u001b[0m | \u001b[0m 0.6481  \u001b[0m | \u001b[0m 0.0365  \u001b[0m | \u001b[0m 1.636   \u001b[0m | \u001b[0m 0.4728  \u001b[0m | \u001b[0m 54.26   \u001b[0m | \u001b[0m 0.8462  \u001b[0m |\n",
      "| \u001b[0m 15      \u001b[0m | \u001b[0m 0.03922 \u001b[0m | \u001b[0m 0.7833  \u001b[0m | \u001b[0m 0.08035 \u001b[0m | \u001b[0m 2.046   \u001b[0m | \u001b[0m 0.1845  \u001b[0m | \u001b[0m 407.4   \u001b[0m | \u001b[0m 0.9646  \u001b[0m |\n",
      "| \u001b[0m 16      \u001b[0m | \u001b[0m 0.0     \u001b[0m | \u001b[0m 0.6593  \u001b[0m | \u001b[0m 0.2006  \u001b[0m | \u001b[0m 1.264   \u001b[0m | \u001b[0m 0.7447  \u001b[0m | \u001b[0m 209.7   \u001b[0m | \u001b[0m 0.5916  \u001b[0m |\n",
      "| \u001b[0m 17      \u001b[0m | \u001b[0m 0.0     \u001b[0m | \u001b[0m 0.7933  \u001b[0m | \u001b[0m 0.007012\u001b[0m | \u001b[0m 2.658   \u001b[0m | \u001b[0m 0.1042  \u001b[0m | \u001b[0m 477.7   \u001b[0m | \u001b[0m 0.635   \u001b[0m |\n",
      "| \u001b[0m 18      \u001b[0m | \u001b[0m 0.03636 \u001b[0m | \u001b[0m 0.8676  \u001b[0m | \u001b[0m 0.2887  \u001b[0m | \u001b[0m 1.498   \u001b[0m | \u001b[0m 0.6185  \u001b[0m | \u001b[0m 418.5   \u001b[0m | \u001b[0m 0.7861  \u001b[0m |\n",
      "| \u001b[0m 19      \u001b[0m | \u001b[0m 0.03774 \u001b[0m | \u001b[0m 0.6115  \u001b[0m | \u001b[0m 0.2859  \u001b[0m | \u001b[0m 1.894   \u001b[0m | \u001b[0m 0.8618  \u001b[0m | \u001b[0m 492.6   \u001b[0m | \u001b[0m 0.6487  \u001b[0m |\n",
      "| \u001b[0m 20      \u001b[0m | \u001b[0m 0.04    \u001b[0m | \u001b[0m 0.9069  \u001b[0m | \u001b[0m 0.1196  \u001b[0m | \u001b[0m 2.762   \u001b[0m | \u001b[0m 0.6231  \u001b[0m | \u001b[0m 618.4   \u001b[0m | \u001b[0m 0.8463  \u001b[0m |\n",
      "| \u001b[0m 21      \u001b[0m | \u001b[0m 0.03922 \u001b[0m | \u001b[0m 0.8626  \u001b[0m | \u001b[0m 0.1509  \u001b[0m | \u001b[0m 2.912   \u001b[0m | \u001b[0m 0.6796  \u001b[0m | \u001b[0m 302.5   \u001b[0m | \u001b[0m 0.8032  \u001b[0m |\n",
      "| \u001b[0m 22      \u001b[0m | \u001b[0m 0.07843 \u001b[0m | \u001b[0m 0.5096  \u001b[0m | \u001b[0m 0.09117 \u001b[0m | \u001b[0m 2.32    \u001b[0m | \u001b[0m 0.3611  \u001b[0m | \u001b[0m 436.4   \u001b[0m | \u001b[0m 0.7144  \u001b[0m |\n",
      "| \u001b[0m 23      \u001b[0m | \u001b[0m 0.04    \u001b[0m | \u001b[0m 0.5677  \u001b[0m | \u001b[0m 0.09019 \u001b[0m | \u001b[0m 2.14    \u001b[0m | \u001b[0m 0.6318  \u001b[0m | \u001b[0m 406.3   \u001b[0m | \u001b[0m 0.8266  \u001b[0m |\n",
      "| \u001b[0m 24      \u001b[0m | \u001b[0m 0.03846 \u001b[0m | \u001b[0m 0.8261  \u001b[0m | \u001b[0m 0.13    \u001b[0m | \u001b[0m 2.793   \u001b[0m | \u001b[0m 0.4308  \u001b[0m | \u001b[0m 310.7   \u001b[0m | \u001b[0m 0.946   \u001b[0m |\n",
      "| \u001b[0m 25      \u001b[0m | \u001b[0m 0.03846 \u001b[0m | \u001b[0m 0.9031  \u001b[0m | \u001b[0m 0.2115  \u001b[0m | \u001b[0m 1.2     \u001b[0m | \u001b[0m 0.9275  \u001b[0m | \u001b[0m 502.8   \u001b[0m | \u001b[0m 0.9994  \u001b[0m |\n",
      "| \u001b[0m 26      \u001b[0m | \u001b[0m 0.0     \u001b[0m | \u001b[0m 0.5747  \u001b[0m | \u001b[0m 0.2606  \u001b[0m | \u001b[0m 1.325   \u001b[0m | \u001b[0m 0.654   \u001b[0m | \u001b[0m 95.44   \u001b[0m | \u001b[0m 0.924   \u001b[0m |\n",
      "| \u001b[0m 27      \u001b[0m | \u001b[0m 0.06349 \u001b[0m | \u001b[0m 0.9037  \u001b[0m | \u001b[0m 0.1712  \u001b[0m | \u001b[0m 1.814   \u001b[0m | \u001b[0m 0.1623  \u001b[0m | \u001b[0m 491.2   \u001b[0m | \u001b[0m 0.7268  \u001b[0m |\n",
      "| \u001b[0m 28      \u001b[0m | \u001b[0m 0.0     \u001b[0m | \u001b[0m 0.861   \u001b[0m | \u001b[0m 0.26    \u001b[0m | \u001b[0m 2.951   \u001b[0m | \u001b[0m 0.8702  \u001b[0m | \u001b[0m 18.08   \u001b[0m | \u001b[0m 0.68    \u001b[0m |\n",
      "| \u001b[0m 29      \u001b[0m | \u001b[0m 0.03846 \u001b[0m | \u001b[0m 0.865   \u001b[0m | \u001b[0m 0.05232 \u001b[0m | \u001b[0m 2.042   \u001b[0m | \u001b[0m 0.1489  \u001b[0m | \u001b[0m 148.0   \u001b[0m | \u001b[0m 0.5093  \u001b[0m |\n",
      "| \u001b[0m 30      \u001b[0m | \u001b[0m 0.0     \u001b[0m | \u001b[0m 0.8968  \u001b[0m | \u001b[0m 0.06795 \u001b[0m | \u001b[0m 1.691   \u001b[0m | \u001b[0m 0.9353  \u001b[0m | \u001b[0m 496.0   \u001b[0m | \u001b[0m 0.5159  \u001b[0m |\n",
      "| \u001b[0m 31      \u001b[0m | \u001b[0m 0.0     \u001b[0m | \u001b[0m 0.5823  \u001b[0m | \u001b[0m 0.1868  \u001b[0m | \u001b[0m 2.154   \u001b[0m | \u001b[0m 0.3141  \u001b[0m | \u001b[0m 654.6   \u001b[0m | \u001b[0m 0.807   \u001b[0m |\n",
      "| \u001b[0m 32      \u001b[0m | \u001b[0m 0.04    \u001b[0m | \u001b[0m 0.7678  \u001b[0m | \u001b[0m 0.1774  \u001b[0m | \u001b[0m 2.46    \u001b[0m | \u001b[0m 0.3808  \u001b[0m | \u001b[0m 284.8   \u001b[0m | \u001b[0m 0.6049  \u001b[0m |\n",
      "| \u001b[0m 33      \u001b[0m | \u001b[0m 0.03774 \u001b[0m | \u001b[0m 0.5931  \u001b[0m | \u001b[0m 0.2834  \u001b[0m | \u001b[0m 2.479   \u001b[0m | \u001b[0m 0.5414  \u001b[0m | \u001b[0m 166.9   \u001b[0m | \u001b[0m 0.6272  \u001b[0m |\n",
      "| \u001b[0m 34      \u001b[0m | \u001b[0m 0.03922 \u001b[0m | \u001b[0m 0.529   \u001b[0m | \u001b[0m 0.1309  \u001b[0m | \u001b[0m 1.624   \u001b[0m | \u001b[0m 0.7267  \u001b[0m | \u001b[0m 270.6   \u001b[0m | \u001b[0m 0.5898  \u001b[0m |\n",
      "| \u001b[0m 35      \u001b[0m | \u001b[0m 0.0     \u001b[0m | \u001b[0m 0.5123  \u001b[0m | \u001b[0m 0.02111 \u001b[0m | \u001b[0m 2.359   \u001b[0m | \u001b[0m 0.5083  \u001b[0m | \u001b[0m 380.2   \u001b[0m | \u001b[0m 0.9483  \u001b[0m |\n",
      "| \u001b[0m 36      \u001b[0m | \u001b[0m 0.04    \u001b[0m | \u001b[0m 0.9952  \u001b[0m | \u001b[0m 0.06585 \u001b[0m | \u001b[0m 2.326   \u001b[0m | \u001b[0m 0.337   \u001b[0m | \u001b[0m 24.25   \u001b[0m | \u001b[0m 0.8792  \u001b[0m |\n",
      "| \u001b[0m 37      \u001b[0m | \u001b[0m 0.07692 \u001b[0m | \u001b[0m 0.66    \u001b[0m | \u001b[0m 0.1157  \u001b[0m | \u001b[0m 2.177   \u001b[0m | \u001b[0m 0.8479  \u001b[0m | \u001b[0m 444.0   \u001b[0m | \u001b[0m 0.9363  \u001b[0m |\n",
      "| \u001b[0m 38      \u001b[0m | \u001b[0m 0.07407 \u001b[0m | \u001b[0m 0.6368  \u001b[0m | \u001b[0m 0.2396  \u001b[0m | \u001b[0m 1.371   \u001b[0m | \u001b[0m 0.9575  \u001b[0m | \u001b[0m 484.4   \u001b[0m | \u001b[0m 0.6078  \u001b[0m |\n",
      "| \u001b[0m 39      \u001b[0m | \u001b[0m 0.03509 \u001b[0m | \u001b[0m 0.9737  \u001b[0m | \u001b[0m 0.2195  \u001b[0m | \u001b[0m 1.508   \u001b[0m | \u001b[0m 0.292   \u001b[0m | \u001b[0m 367.6   \u001b[0m | \u001b[0m 0.5128  \u001b[0m |\n",
      "| \u001b[0m 40      \u001b[0m | \u001b[0m 0.03922 \u001b[0m | \u001b[0m 0.6037  \u001b[0m | \u001b[0m 0.128   \u001b[0m | \u001b[0m 1.748   \u001b[0m | \u001b[0m 0.5172  \u001b[0m | \u001b[0m 201.6   \u001b[0m | \u001b[0m 0.7934  \u001b[0m |\n",
      "| \u001b[0m 41      \u001b[0m | \u001b[0m 0.0     \u001b[0m | \u001b[0m 0.9319  \u001b[0m | \u001b[0m 0.03614 \u001b[0m | \u001b[0m 2.035   \u001b[0m | \u001b[0m 0.2189  \u001b[0m | \u001b[0m 504.6   \u001b[0m | \u001b[0m 0.698   \u001b[0m |\n",
      "| \u001b[0m 42      \u001b[0m | \u001b[0m 0.0     \u001b[0m | \u001b[0m 0.7827  \u001b[0m | \u001b[0m 0.0558  \u001b[0m | \u001b[0m 1.29    \u001b[0m | \u001b[0m 0.5393  \u001b[0m | \u001b[0m 255.4   \u001b[0m | \u001b[0m 0.9702  \u001b[0m |\n",
      "| \u001b[0m 43      \u001b[0m | \u001b[0m 0.07143 \u001b[0m | \u001b[0m 0.8827  \u001b[0m | \u001b[0m 0.2249  \u001b[0m | \u001b[0m 2.807   \u001b[0m | \u001b[0m 0.1751  \u001b[0m | \u001b[0m 391.0   \u001b[0m | \u001b[0m 0.7922  \u001b[0m |\n",
      "| \u001b[0m 44      \u001b[0m | \u001b[0m 0.07018 \u001b[0m | \u001b[0m 0.981   \u001b[0m | \u001b[0m 0.08835 \u001b[0m | \u001b[0m 1.482   \u001b[0m | \u001b[0m 0.1903  \u001b[0m | \u001b[0m 21.34   \u001b[0m | \u001b[0m 0.9648  \u001b[0m |\n",
      "| \u001b[0m 45      \u001b[0m | \u001b[0m 0.07143 \u001b[0m | \u001b[0m 0.835   \u001b[0m | \u001b[0m 0.2358  \u001b[0m | \u001b[0m 1.563   \u001b[0m | \u001b[0m 0.6278  \u001b[0m | \u001b[0m 54.13   \u001b[0m | \u001b[0m 0.7428  \u001b[0m |\n",
      "| \u001b[0m 46      \u001b[0m | \u001b[0m 0.03922 \u001b[0m | \u001b[0m 0.9887  \u001b[0m | \u001b[0m 0.2631  \u001b[0m | \u001b[0m 1.676   \u001b[0m | \u001b[0m 0.9654  \u001b[0m | \u001b[0m 169.9   \u001b[0m | \u001b[0m 0.9747  \u001b[0m |\n",
      "| \u001b[0m 47      \u001b[0m | \u001b[0m 0.04    \u001b[0m | \u001b[0m 0.9707  \u001b[0m | \u001b[0m 0.24    \u001b[0m | \u001b[0m 2.261   \u001b[0m | \u001b[0m 0.8869  \u001b[0m | \u001b[0m 212.2   \u001b[0m | \u001b[0m 0.9245  \u001b[0m |\n",
      "| \u001b[0m 48      \u001b[0m | \u001b[0m 0.0     \u001b[0m | \u001b[0m 0.8089  \u001b[0m | \u001b[0m 0.004958\u001b[0m | \u001b[0m 1.694   \u001b[0m | \u001b[0m 0.2333  \u001b[0m | \u001b[0m 687.5   \u001b[0m | \u001b[0m 0.7392  \u001b[0m |\n",
      "| \u001b[0m 49      \u001b[0m | \u001b[0m 0.06897 \u001b[0m | \u001b[0m 0.7487  \u001b[0m | \u001b[0m 0.1922  \u001b[0m | \u001b[0m 1.737   \u001b[0m | \u001b[0m 0.2232  \u001b[0m | \u001b[0m 577.3   \u001b[0m | \u001b[0m 0.5949  \u001b[0m |\n",
      "| \u001b[0m 50      \u001b[0m | \u001b[0m 0.03922 \u001b[0m | \u001b[0m 0.7557  \u001b[0m | \u001b[0m 0.06807 \u001b[0m | \u001b[0m 1.196   \u001b[0m | \u001b[0m 0.876   \u001b[0m | \u001b[0m 681.3   \u001b[0m | \u001b[0m 0.9804  \u001b[0m |\n",
      "| \u001b[0m 51      \u001b[0m | \u001b[0m 0.09375 \u001b[0m | \u001b[0m 0.9533  \u001b[0m | \u001b[0m 0.2324  \u001b[0m | \u001b[0m 1.666   \u001b[0m | \u001b[0m 0.173   \u001b[0m | \u001b[0m 291.0   \u001b[0m | \u001b[0m 0.6161  \u001b[0m |\n",
      "| \u001b[0m 52      \u001b[0m | \u001b[0m 0.03922 \u001b[0m | \u001b[0m 0.5662  \u001b[0m | \u001b[0m 0.01697 \u001b[0m | \u001b[0m 2.451   \u001b[0m | \u001b[0m 0.1103  \u001b[0m | \u001b[0m 541.7   \u001b[0m | \u001b[0m 0.5735  \u001b[0m |\n",
      "| \u001b[0m 53      \u001b[0m | \u001b[0m 0.03922 \u001b[0m | \u001b[0m 0.5398  \u001b[0m | \u001b[0m 0.02779 \u001b[0m | \u001b[0m 2.344   \u001b[0m | \u001b[0m 0.3208  \u001b[0m | \u001b[0m 300.2   \u001b[0m | \u001b[0m 0.7787  \u001b[0m |\n",
      "| \u001b[95m 54      \u001b[0m | \u001b[95m 0.1795  \u001b[0m | \u001b[95m 0.9303  \u001b[0m | \u001b[95m 0.2184  \u001b[0m | \u001b[95m 1.541   \u001b[0m | \u001b[95m 0.2183  \u001b[0m | \u001b[95m 48.21   \u001b[0m | \u001b[95m 0.6508  \u001b[0m |\n",
      "| \u001b[0m 55      \u001b[0m | \u001b[0m 0.0     \u001b[0m | \u001b[0m 0.6311  \u001b[0m | \u001b[0m 0.1374  \u001b[0m | \u001b[0m 2.367   \u001b[0m | \u001b[0m 0.7261  \u001b[0m | \u001b[0m 205.6   \u001b[0m | \u001b[0m 0.69    \u001b[0m |\n",
      "| \u001b[0m 56      \u001b[0m | \u001b[0m 0.03636 \u001b[0m | \u001b[0m 0.5906  \u001b[0m | \u001b[0m 0.2368  \u001b[0m | \u001b[0m 1.114   \u001b[0m | \u001b[0m 0.7273  \u001b[0m | \u001b[0m 547.3   \u001b[0m | \u001b[0m 0.8887  \u001b[0m |\n",
      "| \u001b[0m 57      \u001b[0m | \u001b[0m 0.0     \u001b[0m | \u001b[0m 0.6297  \u001b[0m | \u001b[0m 0.1128  \u001b[0m | \u001b[0m 2.175   \u001b[0m | \u001b[0m 0.3455  \u001b[0m | \u001b[0m 265.9   \u001b[0m | \u001b[0m 0.5985  \u001b[0m |\n",
      "| \u001b[0m 58      \u001b[0m | \u001b[0m 0.0     \u001b[0m | \u001b[0m 0.7299  \u001b[0m | \u001b[0m 0.01434 \u001b[0m | \u001b[0m 2.6     \u001b[0m | \u001b[0m 0.1693  \u001b[0m | \u001b[0m 368.0   \u001b[0m | \u001b[0m 0.6534  \u001b[0m |\n",
      "| \u001b[0m 59      \u001b[0m | \u001b[0m 0.06897 \u001b[0m | \u001b[0m 0.7888  \u001b[0m | \u001b[0m 0.2879  \u001b[0m | \u001b[0m 2.291   \u001b[0m | \u001b[0m 0.1318  \u001b[0m | \u001b[0m 307.0   \u001b[0m | \u001b[0m 0.755   \u001b[0m |\n",
      "| \u001b[0m 60      \u001b[0m | \u001b[0m 0.127   \u001b[0m | \u001b[0m 0.7681  \u001b[0m | \u001b[0m 0.2047  \u001b[0m | \u001b[0m 1.555   \u001b[0m | \u001b[0m 0.216   \u001b[0m | \u001b[0m 280.9   \u001b[0m | \u001b[0m 0.9782  \u001b[0m |\n",
      "| \u001b[0m 61      \u001b[0m | \u001b[0m 0.07273 \u001b[0m | \u001b[0m 0.5936  \u001b[0m | \u001b[0m 0.2713  \u001b[0m | \u001b[0m 2.088   \u001b[0m | \u001b[0m 0.5112  \u001b[0m | \u001b[0m 618.6   \u001b[0m | \u001b[0m 0.7293  \u001b[0m |\n",
      "| \u001b[0m 62      \u001b[0m | \u001b[0m 0.04    \u001b[0m | \u001b[0m 0.8621  \u001b[0m | \u001b[0m 0.1203  \u001b[0m | \u001b[0m 2.808   \u001b[0m | \u001b[0m 0.721   \u001b[0m | \u001b[0m 492.7   \u001b[0m | \u001b[0m 0.6639  \u001b[0m |\n",
      "| \u001b[0m 63      \u001b[0m | \u001b[0m 0.07018 \u001b[0m | \u001b[0m 0.8784  \u001b[0m | \u001b[0m 0.1912  \u001b[0m | \u001b[0m 1.48    \u001b[0m | \u001b[0m 0.2445  \u001b[0m | \u001b[0m 559.5   \u001b[0m | \u001b[0m 0.9796  \u001b[0m |\n",
      "| \u001b[0m 64      \u001b[0m | \u001b[0m 0.0     \u001b[0m | \u001b[0m 0.7291  \u001b[0m | \u001b[0m 0.1777  \u001b[0m | \u001b[0m 2.715   \u001b[0m | \u001b[0m 0.5115  \u001b[0m | \u001b[0m 666.8   \u001b[0m | \u001b[0m 0.7879  \u001b[0m |\n",
      "| \u001b[0m 65      \u001b[0m | \u001b[0m 0.07273 \u001b[0m | \u001b[0m 0.9104  \u001b[0m | \u001b[0m 0.2727  \u001b[0m | \u001b[0m 2.631   \u001b[0m | \u001b[0m 0.2435  \u001b[0m | \u001b[0m 443.9   \u001b[0m | \u001b[0m 0.6992  \u001b[0m |\n",
      "| \u001b[0m 66      \u001b[0m | \u001b[0m 0.0     \u001b[0m | \u001b[0m 0.5314  \u001b[0m | \u001b[0m 0.1278  \u001b[0m | \u001b[0m 1.517   \u001b[0m | \u001b[0m 0.8641  \u001b[0m | \u001b[0m 32.98   \u001b[0m | \u001b[0m 0.9795  \u001b[0m |\n",
      "| \u001b[0m 67      \u001b[0m | \u001b[0m 0.03704 \u001b[0m | \u001b[0m 0.6777  \u001b[0m | \u001b[0m 0.1077  \u001b[0m | \u001b[0m 1.033   \u001b[0m | \u001b[0m 0.2667  \u001b[0m | \u001b[0m 286.9   \u001b[0m | \u001b[0m 0.9646  \u001b[0m |\n",
      "| \u001b[0m 68      \u001b[0m | \u001b[0m 0.0     \u001b[0m | \u001b[0m 0.5498  \u001b[0m | \u001b[0m 0.2836  \u001b[0m | \u001b[0m 2.739   \u001b[0m | \u001b[0m 0.5087  \u001b[0m | \u001b[0m 235.4   \u001b[0m | \u001b[0m 0.6164  \u001b[0m |\n",
      "| \u001b[0m 69      \u001b[0m | \u001b[0m 0.0     \u001b[0m | \u001b[0m 0.8072  \u001b[0m | \u001b[0m 0.01089 \u001b[0m | \u001b[0m 1.031   \u001b[0m | \u001b[0m 0.4859  \u001b[0m | \u001b[0m 56.97   \u001b[0m | \u001b[0m 0.626   \u001b[0m |\n",
      "| \u001b[0m 70      \u001b[0m | \u001b[0m 0.07143 \u001b[0m | \u001b[0m 0.6106  \u001b[0m | \u001b[0m 0.0767  \u001b[0m | \u001b[0m 1.262   \u001b[0m | \u001b[0m 0.1108  \u001b[0m | \u001b[0m 89.68   \u001b[0m | \u001b[0m 0.8092  \u001b[0m |\n",
      "| \u001b[0m 71      \u001b[0m | \u001b[0m 0.08824 \u001b[0m | \u001b[0m 0.9871  \u001b[0m | \u001b[0m 0.2971  \u001b[0m | \u001b[0m 1.818   \u001b[0m | \u001b[0m 0.2467  \u001b[0m | \u001b[0m 450.7   \u001b[0m | \u001b[0m 0.7452  \u001b[0m |\n",
      "| \u001b[0m 72      \u001b[0m | \u001b[0m 0.0     \u001b[0m | \u001b[0m 0.9947  \u001b[0m | \u001b[0m 0.02053 \u001b[0m | \u001b[0m 2.566   \u001b[0m | \u001b[0m 0.3596  \u001b[0m | \u001b[0m 176.6   \u001b[0m | \u001b[0m 0.8313  \u001b[0m |\n",
      "| \u001b[0m 73      \u001b[0m | \u001b[0m 0.03846 \u001b[0m | \u001b[0m 0.623   \u001b[0m | \u001b[0m 0.2001  \u001b[0m | \u001b[0m 2.035   \u001b[0m | \u001b[0m 0.4817  \u001b[0m | \u001b[0m 392.7   \u001b[0m | \u001b[0m 0.6435  \u001b[0m |\n",
      "| \u001b[0m 74      \u001b[0m | \u001b[0m 0.03846 \u001b[0m | \u001b[0m 0.8533  \u001b[0m | \u001b[0m 0.125   \u001b[0m | \u001b[0m 1.721   \u001b[0m | \u001b[0m 0.8458  \u001b[0m | \u001b[0m 648.2   \u001b[0m | \u001b[0m 0.523   \u001b[0m |\n",
      "| \u001b[0m 75      \u001b[0m | \u001b[0m 0.04    \u001b[0m | \u001b[0m 0.6163  \u001b[0m | \u001b[0m 0.1052  \u001b[0m | \u001b[0m 2.63    \u001b[0m | \u001b[0m 0.9869  \u001b[0m | \u001b[0m 678.6   \u001b[0m | \u001b[0m 0.9525  \u001b[0m |\n",
      "| \u001b[0m 76      \u001b[0m | \u001b[0m 0.09836 \u001b[0m | \u001b[0m 0.6483  \u001b[0m | \u001b[0m 0.2976  \u001b[0m | \u001b[0m 1.499   \u001b[0m | \u001b[0m 0.1953  \u001b[0m | \u001b[0m 666.2   \u001b[0m | \u001b[0m 0.6167  \u001b[0m |\n",
      "| \u001b[0m 77      \u001b[0m | \u001b[0m 0.0     \u001b[0m | \u001b[0m 0.8449  \u001b[0m | \u001b[0m 0.01845 \u001b[0m | \u001b[0m 2.461   \u001b[0m | \u001b[0m 0.8935  \u001b[0m | \u001b[0m 198.0   \u001b[0m | \u001b[0m 0.6895  \u001b[0m |\n",
      "| \u001b[0m 78      \u001b[0m | \u001b[0m 0.03175 \u001b[0m | \u001b[0m 0.6871  \u001b[0m | \u001b[0m 0.2249  \u001b[0m | \u001b[0m 1.476   \u001b[0m | \u001b[0m 0.2547  \u001b[0m | \u001b[0m 320.0   \u001b[0m | \u001b[0m 0.6522  \u001b[0m |\n",
      "| \u001b[0m 79      \u001b[0m | \u001b[0m 0.0     \u001b[0m | \u001b[0m 0.9196  \u001b[0m | \u001b[0m 0.07208 \u001b[0m | \u001b[0m 2.005   \u001b[0m | \u001b[0m 0.9483  \u001b[0m | \u001b[0m 447.5   \u001b[0m | \u001b[0m 0.9336  \u001b[0m |\n",
      "| \u001b[0m 80      \u001b[0m | \u001b[0m 0.04    \u001b[0m | \u001b[0m 0.9701  \u001b[0m | \u001b[0m 0.2255  \u001b[0m | \u001b[0m 2.399   \u001b[0m | \u001b[0m 0.9712  \u001b[0m | \u001b[0m 696.1   \u001b[0m | \u001b[0m 0.7259  \u001b[0m |\n",
      "| \u001b[0m 81      \u001b[0m | \u001b[0m 0.0     \u001b[0m | \u001b[0m 0.5354  \u001b[0m | \u001b[0m 0.08855 \u001b[0m | \u001b[0m 1.305   \u001b[0m | \u001b[0m 0.4757  \u001b[0m | \u001b[0m 100.6   \u001b[0m | \u001b[0m 0.8021  \u001b[0m |\n",
      "| \u001b[0m 82      \u001b[0m | \u001b[0m 0.0     \u001b[0m | \u001b[0m 0.6914  \u001b[0m | \u001b[0m 0.2687  \u001b[0m | \u001b[0m 2.936   \u001b[0m | \u001b[0m 0.5922  \u001b[0m | \u001b[0m 199.6   \u001b[0m | \u001b[0m 0.7961  \u001b[0m |\n",
      "| \u001b[0m 83      \u001b[0m | \u001b[0m 0.07843 \u001b[0m | \u001b[0m 0.9484  \u001b[0m | \u001b[0m 0.1226  \u001b[0m | \u001b[0m 2.104   \u001b[0m | \u001b[0m 0.3445  \u001b[0m | \u001b[0m 324.3   \u001b[0m | \u001b[0m 0.7009  \u001b[0m |\n",
      "| \u001b[0m 84      \u001b[0m | \u001b[0m 0.03846 \u001b[0m | \u001b[0m 0.6242  \u001b[0m | \u001b[0m 0.1523  \u001b[0m | \u001b[0m 1.621   \u001b[0m | \u001b[0m 0.4357  \u001b[0m | \u001b[0m 372.2   \u001b[0m | \u001b[0m 0.8753  \u001b[0m |\n",
      "| \u001b[0m 85      \u001b[0m | \u001b[0m 0.07273 \u001b[0m | \u001b[0m 0.6668  \u001b[0m | \u001b[0m 0.2773  \u001b[0m | \u001b[0m 2.725   \u001b[0m | \u001b[0m 0.1438  \u001b[0m | \u001b[0m 185.0   \u001b[0m | \u001b[0m 0.7231  \u001b[0m |\n",
      "| \u001b[0m 86      \u001b[0m | \u001b[0m 0.04    \u001b[0m | \u001b[0m 0.5523  \u001b[0m | \u001b[0m 0.1052  \u001b[0m | \u001b[0m 2.48    \u001b[0m | \u001b[0m 0.7125  \u001b[0m | \u001b[0m 439.4   \u001b[0m | \u001b[0m 0.8553  \u001b[0m |\n",
      "| \u001b[0m 87      \u001b[0m | \u001b[0m 0.07843 \u001b[0m | \u001b[0m 0.6025  \u001b[0m | \u001b[0m 0.1032  \u001b[0m | \u001b[0m 2.352   \u001b[0m | \u001b[0m 0.8913  \u001b[0m | \u001b[0m 385.1   \u001b[0m | \u001b[0m 0.6413  \u001b[0m |\n",
      "| \u001b[0m 88      \u001b[0m | \u001b[0m 0.03509 \u001b[0m | \u001b[0m 0.5151  \u001b[0m | \u001b[0m 0.2134  \u001b[0m | \u001b[0m 1.016   \u001b[0m | \u001b[0m 0.4354  \u001b[0m | \u001b[0m 376.1   \u001b[0m | \u001b[0m 0.9611  \u001b[0m |\n",
      "| \u001b[0m 89      \u001b[0m | \u001b[0m 0.03636 \u001b[0m | \u001b[0m 0.5447  \u001b[0m | \u001b[0m 0.1224  \u001b[0m | \u001b[0m 1.049   \u001b[0m | \u001b[0m 0.4083  \u001b[0m | \u001b[0m 439.3   \u001b[0m | \u001b[0m 0.6395  \u001b[0m |\n",
      "| \u001b[0m 90      \u001b[0m | \u001b[0m 0.0     \u001b[0m | \u001b[0m 0.6049  \u001b[0m | \u001b[0m 0.0356  \u001b[0m | \u001b[0m 2.154   \u001b[0m | \u001b[0m 0.7257  \u001b[0m | \u001b[0m 473.7   \u001b[0m | \u001b[0m 0.9744  \u001b[0m |\n",
      "| \u001b[0m 91      \u001b[0m | \u001b[0m 0.03922 \u001b[0m | \u001b[0m 0.5014  \u001b[0m | \u001b[0m 0.1945  \u001b[0m | \u001b[0m 2.201   \u001b[0m | \u001b[0m 0.6299  \u001b[0m | \u001b[0m 674.3   \u001b[0m | \u001b[0m 0.5084  \u001b[0m |\n",
      "| \u001b[0m 92      \u001b[0m | \u001b[0m 0.07692 \u001b[0m | \u001b[0m 0.8482  \u001b[0m | \u001b[0m 0.2443  \u001b[0m | \u001b[0m 2.02    \u001b[0m | \u001b[0m 0.4006  \u001b[0m | \u001b[0m 555.7   \u001b[0m | \u001b[0m 0.5486  \u001b[0m |\n",
      "| \u001b[0m 93      \u001b[0m | \u001b[0m 0.03509 \u001b[0m | \u001b[0m 0.721   \u001b[0m | \u001b[0m 0.1565  \u001b[0m | \u001b[0m 2.388   \u001b[0m | \u001b[0m 0.1818  \u001b[0m | \u001b[0m 167.2   \u001b[0m | \u001b[0m 0.7052  \u001b[0m |\n",
      "| \u001b[0m 94      \u001b[0m | \u001b[0m 0.03774 \u001b[0m | \u001b[0m 0.8116  \u001b[0m | \u001b[0m 0.2662  \u001b[0m | \u001b[0m 2.238   \u001b[0m | \u001b[0m 0.2201  \u001b[0m | \u001b[0m 686.6   \u001b[0m | \u001b[0m 0.9359  \u001b[0m |\n",
      "| \u001b[0m 95      \u001b[0m | \u001b[0m 0.07547 \u001b[0m | \u001b[0m 0.7514  \u001b[0m | \u001b[0m 0.2768  \u001b[0m | \u001b[0m 2.083   \u001b[0m | \u001b[0m 0.931   \u001b[0m | \u001b[0m 582.6   \u001b[0m | \u001b[0m 0.9841  \u001b[0m |\n",
      "| \u001b[0m 96      \u001b[0m | \u001b[0m 0.0     \u001b[0m | \u001b[0m 0.9599  \u001b[0m | \u001b[0m 0.01177 \u001b[0m | \u001b[0m 1.35    \u001b[0m | \u001b[0m 0.4502  \u001b[0m | \u001b[0m 667.0   \u001b[0m | \u001b[0m 0.65    \u001b[0m |\n",
      "| \u001b[0m 97      \u001b[0m | \u001b[0m 0.0     \u001b[0m | \u001b[0m 0.5802  \u001b[0m | \u001b[0m 0.266   \u001b[0m | \u001b[0m 1.893   \u001b[0m | \u001b[0m 0.9171  \u001b[0m | \u001b[0m 120.6   \u001b[0m | \u001b[0m 0.8306  \u001b[0m |\n",
      "| \u001b[0m 98      \u001b[0m | \u001b[0m 0.0     \u001b[0m | \u001b[0m 0.7201  \u001b[0m | \u001b[0m 0.02387 \u001b[0m | \u001b[0m 2.393   \u001b[0m | \u001b[0m 0.3227  \u001b[0m | \u001b[0m 37.33   \u001b[0m | \u001b[0m 0.53    \u001b[0m |\n",
      "| \u001b[0m 99      \u001b[0m | \u001b[0m 0.03922 \u001b[0m | \u001b[0m 0.5305  \u001b[0m | \u001b[0m 0.2724  \u001b[0m | \u001b[0m 2.48    \u001b[0m | \u001b[0m 0.9083  \u001b[0m | \u001b[0m 474.1   \u001b[0m | \u001b[0m 0.7645  \u001b[0m |\n",
      "| \u001b[0m 100     \u001b[0m | \u001b[0m 0.0     \u001b[0m | \u001b[0m 0.6522  \u001b[0m | \u001b[0m 0.2994  \u001b[0m | \u001b[0m 1.724   \u001b[0m | \u001b[0m 0.5236  \u001b[0m | \u001b[0m 271.0   \u001b[0m | \u001b[0m 0.9898  \u001b[0m |\n",
      "| \u001b[0m 101     \u001b[0m | \u001b[0m 0.0     \u001b[0m | \u001b[0m 0.7572  \u001b[0m | \u001b[0m 0.04194 \u001b[0m | \u001b[0m 2.292   \u001b[0m | \u001b[0m 0.246   \u001b[0m | \u001b[0m 621.0   \u001b[0m | \u001b[0m 0.7975  \u001b[0m |\n",
      "| \u001b[0m 102     \u001b[0m | \u001b[0m 0.03846 \u001b[0m | \u001b[0m 0.6278  \u001b[0m | \u001b[0m 0.1597  \u001b[0m | \u001b[0m 1.267   \u001b[0m | \u001b[0m 0.9838  \u001b[0m | \u001b[0m 589.0   \u001b[0m | \u001b[0m 0.6572  \u001b[0m |\n",
      "| \u001b[0m 103     \u001b[0m | \u001b[0m 0.0     \u001b[0m | \u001b[0m 0.8029  \u001b[0m | \u001b[0m 0.004858\u001b[0m | \u001b[0m 2.231   \u001b[0m | \u001b[0m 0.4717  \u001b[0m | \u001b[0m 694.3   \u001b[0m | \u001b[0m 0.7121  \u001b[0m |\n",
      "| \u001b[0m 104     \u001b[0m | \u001b[0m 0.0     \u001b[0m | \u001b[0m 0.5771  \u001b[0m | \u001b[0m 0.03772 \u001b[0m | \u001b[0m 1.24    \u001b[0m | \u001b[0m 0.9764  \u001b[0m | \u001b[0m 220.5   \u001b[0m | \u001b[0m 0.7557  \u001b[0m |\n",
      "| \u001b[0m 105     \u001b[0m | \u001b[0m 0.0     \u001b[0m | \u001b[0m 0.5826  \u001b[0m | \u001b[0m 0.05775 \u001b[0m | \u001b[0m 1.929   \u001b[0m | \u001b[0m 0.9061  \u001b[0m | \u001b[0m 334.2   \u001b[0m | \u001b[0m 0.5954  \u001b[0m |\n",
      "| \u001b[0m 106     \u001b[0m | \u001b[0m 0.0     \u001b[0m | \u001b[0m 0.6089  \u001b[0m | \u001b[0m 0.2298  \u001b[0m | \u001b[0m 2.137   \u001b[0m | \u001b[0m 0.6756  \u001b[0m | \u001b[0m 53.27   \u001b[0m | \u001b[0m 0.6623  \u001b[0m |\n",
      "| \u001b[0m 107     \u001b[0m | \u001b[0m 0.0     \u001b[0m | \u001b[0m 0.8284  \u001b[0m | \u001b[0m 0.04036 \u001b[0m | \u001b[0m 2.273   \u001b[0m | \u001b[0m 0.8012  \u001b[0m | \u001b[0m 184.2   \u001b[0m | \u001b[0m 0.6211  \u001b[0m |\n",
      "| \u001b[0m 108     \u001b[0m | \u001b[0m 0.04    \u001b[0m | \u001b[0m 0.8942  \u001b[0m | \u001b[0m 0.2783  \u001b[0m | \u001b[0m 2.982   \u001b[0m | \u001b[0m 0.8232  \u001b[0m | \u001b[0m 518.6   \u001b[0m | \u001b[0m 0.5565  \u001b[0m |\n",
      "| \u001b[0m 109     \u001b[0m | \u001b[0m 0.0339  \u001b[0m | \u001b[0m 0.8383  \u001b[0m | \u001b[0m 0.252   \u001b[0m | \u001b[0m 1.605   \u001b[0m | \u001b[0m 0.4032  \u001b[0m | \u001b[0m 271.2   \u001b[0m | \u001b[0m 0.6559  \u001b[0m |\n",
      "| \u001b[0m 110     \u001b[0m | \u001b[0m 0.0     \u001b[0m | \u001b[0m 0.6222  \u001b[0m | \u001b[0m 0.09589 \u001b[0m | \u001b[0m 1.354   \u001b[0m | \u001b[0m 0.9071  \u001b[0m | \u001b[0m 148.9   \u001b[0m | \u001b[0m 0.7708  \u001b[0m |\n",
      "| \u001b[0m 111     \u001b[0m | \u001b[0m 0.0     \u001b[0m | \u001b[0m 0.6763  \u001b[0m | \u001b[0m 0.07682 \u001b[0m | \u001b[0m 2.185   \u001b[0m | \u001b[0m 0.1867  \u001b[0m | \u001b[0m 18.65   \u001b[0m | \u001b[0m 0.631   \u001b[0m |\n",
      "| \u001b[0m 112     \u001b[0m | \u001b[0m 0.03846 \u001b[0m | \u001b[0m 0.5685  \u001b[0m | \u001b[0m 0.0789  \u001b[0m | \u001b[0m 1.452   \u001b[0m | \u001b[0m 0.2165  \u001b[0m | \u001b[0m 682.8   \u001b[0m | \u001b[0m 0.7801  \u001b[0m |\n",
      "| \u001b[0m 113     \u001b[0m | \u001b[0m 0.03922 \u001b[0m | \u001b[0m 0.9633  \u001b[0m | \u001b[0m 0.1609  \u001b[0m | \u001b[0m 1.697   \u001b[0m | \u001b[0m 0.6027  \u001b[0m | \u001b[0m 197.1   \u001b[0m | \u001b[0m 0.9328  \u001b[0m |\n",
      "| \u001b[0m 114     \u001b[0m | \u001b[0m 0.0     \u001b[0m | \u001b[0m 0.77    \u001b[0m | \u001b[0m 0.05458 \u001b[0m | \u001b[0m 2.175   \u001b[0m | \u001b[0m 0.347   \u001b[0m | \u001b[0m 67.36   \u001b[0m | \u001b[0m 0.5401  \u001b[0m |\n",
      "| \u001b[0m 115     \u001b[0m | \u001b[0m 0.0     \u001b[0m | \u001b[0m 0.6604  \u001b[0m | \u001b[0m 0.01379 \u001b[0m | \u001b[0m 2.738   \u001b[0m | \u001b[0m 0.4495  \u001b[0m | \u001b[0m 329.5   \u001b[0m | \u001b[0m 0.6738  \u001b[0m |\n",
      "| \u001b[0m 116     \u001b[0m | \u001b[0m 0.04    \u001b[0m | \u001b[0m 0.7654  \u001b[0m | \u001b[0m 0.1556  \u001b[0m | \u001b[0m 2.938   \u001b[0m | \u001b[0m 0.7488  \u001b[0m | \u001b[0m 239.6   \u001b[0m | \u001b[0m 0.7723  \u001b[0m |\n",
      "| \u001b[0m 117     \u001b[0m | \u001b[0m 0.03922 \u001b[0m | \u001b[0m 0.8226  \u001b[0m | \u001b[0m 0.2521  \u001b[0m | \u001b[0m 2.651   \u001b[0m | \u001b[0m 0.7732  \u001b[0m | \u001b[0m 99.81   \u001b[0m | \u001b[0m 0.6549  \u001b[0m |\n",
      "| \u001b[0m 118     \u001b[0m | \u001b[0m 0.1579  \u001b[0m | \u001b[0m 0.9865  \u001b[0m | \u001b[0m 0.2079  \u001b[0m | \u001b[0m 1.847   \u001b[0m | \u001b[0m 0.1801  \u001b[0m | \u001b[0m 62.13   \u001b[0m | \u001b[0m 0.6782  \u001b[0m |\n",
      "| \u001b[0m 119     \u001b[0m | \u001b[0m 0.03636 \u001b[0m | \u001b[0m 0.7622  \u001b[0m | \u001b[0m 0.2802  \u001b[0m | \u001b[0m 1.399   \u001b[0m | \u001b[0m 0.31    \u001b[0m | \u001b[0m 617.5   \u001b[0m | \u001b[0m 0.7464  \u001b[0m |\n",
      "| \u001b[0m 120     \u001b[0m | \u001b[0m 0.03704 \u001b[0m | \u001b[0m 0.8238  \u001b[0m | \u001b[0m 0.1308  \u001b[0m | \u001b[0m 1.792   \u001b[0m | \u001b[0m 0.3543  \u001b[0m | \u001b[0m 546.8   \u001b[0m | \u001b[0m 0.6838  \u001b[0m |\n",
      "| \u001b[0m 121     \u001b[0m | \u001b[0m 0.03704 \u001b[0m | \u001b[0m 0.5481  \u001b[0m | \u001b[0m 0.2315  \u001b[0m | \u001b[0m 1.936   \u001b[0m | \u001b[0m 0.5527  \u001b[0m | \u001b[0m 405.0   \u001b[0m | \u001b[0m 0.5173  \u001b[0m |\n",
      "| \u001b[0m 122     \u001b[0m | \u001b[0m 0.0     \u001b[0m | \u001b[0m 0.6058  \u001b[0m | \u001b[0m 0.1397  \u001b[0m | \u001b[0m 2.099   \u001b[0m | \u001b[0m 0.6477  \u001b[0m | \u001b[0m 440.2   \u001b[0m | \u001b[0m 0.6712  \u001b[0m |\n",
      "| \u001b[0m 123     \u001b[0m | \u001b[0m 0.0678  \u001b[0m | \u001b[0m 0.5008  \u001b[0m | \u001b[0m 0.2182  \u001b[0m | \u001b[0m 2.38    \u001b[0m | \u001b[0m 0.9453  \u001b[0m | \u001b[0m 14.94   \u001b[0m | \u001b[0m 0.864   \u001b[0m |\n",
      "| \u001b[0m 124     \u001b[0m | \u001b[0m 0.03922 \u001b[0m | \u001b[0m 0.804   \u001b[0m | \u001b[0m 0.05822 \u001b[0m | \u001b[0m 2.583   \u001b[0m | \u001b[0m 0.9182  \u001b[0m | \u001b[0m 319.2   \u001b[0m | \u001b[0m 0.8186  \u001b[0m |\n",
      "| \u001b[0m 125     \u001b[0m | \u001b[0m 0.03571 \u001b[0m | \u001b[0m 0.7848  \u001b[0m | \u001b[0m 0.2435  \u001b[0m | \u001b[0m 1.295   \u001b[0m | \u001b[0m 0.3224  \u001b[0m | \u001b[0m 410.2   \u001b[0m | \u001b[0m 0.5864  \u001b[0m |\n",
      "| \u001b[0m 126     \u001b[0m | \u001b[0m 0.0     \u001b[0m | \u001b[0m 0.9731  \u001b[0m | \u001b[0m 0.04697 \u001b[0m | \u001b[0m 1.887   \u001b[0m | \u001b[0m 0.793   \u001b[0m | \u001b[0m 88.91   \u001b[0m | \u001b[0m 0.7616  \u001b[0m |\n",
      "| \u001b[0m 127     \u001b[0m | \u001b[0m 0.03846 \u001b[0m | \u001b[0m 0.8103  \u001b[0m | \u001b[0m 0.06962 \u001b[0m | \u001b[0m 2.586   \u001b[0m | \u001b[0m 0.3337  \u001b[0m | \u001b[0m 49.51   \u001b[0m | \u001b[0m 0.6811  \u001b[0m |\n",
      "| \u001b[0m 128     \u001b[0m | \u001b[0m 0.03704 \u001b[0m | \u001b[0m 0.7169  \u001b[0m | \u001b[0m 0.2633  \u001b[0m | \u001b[0m 1.355   \u001b[0m | \u001b[0m 0.4598  \u001b[0m | \u001b[0m 292.3   \u001b[0m | \u001b[0m 0.8423  \u001b[0m |\n",
      "| \u001b[0m 129     \u001b[0m | \u001b[0m 0.03922 \u001b[0m | \u001b[0m 0.677   \u001b[0m | \u001b[0m 0.05265 \u001b[0m | \u001b[0m 2.982   \u001b[0m | \u001b[0m 0.6366  \u001b[0m | \u001b[0m 335.8   \u001b[0m | \u001b[0m 0.6568  \u001b[0m |\n",
      "| \u001b[0m 130     \u001b[0m | \u001b[0m 0.03846 \u001b[0m | \u001b[0m 0.9558  \u001b[0m | \u001b[0m 0.1845  \u001b[0m | \u001b[0m 1.927   \u001b[0m | \u001b[0m 0.7471  \u001b[0m | \u001b[0m 653.6   \u001b[0m | \u001b[0m 0.8382  \u001b[0m |\n",
      "| \u001b[0m 131     \u001b[0m | \u001b[0m 0.175   \u001b[0m | \u001b[0m 0.9037  \u001b[0m | \u001b[0m 0.2221  \u001b[0m | \u001b[0m 1.311   \u001b[0m | \u001b[0m 0.2258  \u001b[0m | \u001b[0m 29.79   \u001b[0m | \u001b[0m 0.8858  \u001b[0m |\n",
      "| \u001b[0m 132     \u001b[0m | \u001b[0m 0.1538  \u001b[0m | \u001b[0m 0.7118  \u001b[0m | \u001b[0m 0.2245  \u001b[0m | \u001b[0m 1.066   \u001b[0m | \u001b[0m 0.2427  \u001b[0m | \u001b[0m 126.4   \u001b[0m | \u001b[0m 0.9082  \u001b[0m |\n",
      "| \u001b[0m 133     \u001b[0m | \u001b[0m 0.0     \u001b[0m | \u001b[0m 0.5461  \u001b[0m | \u001b[0m 0.2278  \u001b[0m | \u001b[0m 1.767   \u001b[0m | \u001b[0m 0.7109  \u001b[0m | \u001b[0m 184.8   \u001b[0m | \u001b[0m 0.8149  \u001b[0m |\n",
      "| \u001b[0m 134     \u001b[0m | \u001b[0m 0.07547 \u001b[0m | \u001b[0m 0.9426  \u001b[0m | \u001b[0m 0.2695  \u001b[0m | \u001b[0m 1.673   \u001b[0m | \u001b[0m 0.9158  \u001b[0m | \u001b[0m 419.6   \u001b[0m | \u001b[0m 0.5062  \u001b[0m |\n",
      "| \u001b[0m 135     \u001b[0m | \u001b[0m 0.0     \u001b[0m | \u001b[0m 0.7332  \u001b[0m | \u001b[0m 0.02122 \u001b[0m | \u001b[0m 1.332   \u001b[0m | \u001b[0m 0.824   \u001b[0m | \u001b[0m 427.0   \u001b[0m | \u001b[0m 0.6133  \u001b[0m |\n",
      "| \u001b[0m 136     \u001b[0m | \u001b[0m 0.07143 \u001b[0m | \u001b[0m 0.7022  \u001b[0m | \u001b[0m 0.1289  \u001b[0m | \u001b[0m 1.356   \u001b[0m | \u001b[0m 0.1378  \u001b[0m | \u001b[0m 478.7   \u001b[0m | \u001b[0m 0.7706  \u001b[0m |\n",
      "| \u001b[0m 137     \u001b[0m | \u001b[0m 0.03922 \u001b[0m | \u001b[0m 0.9015  \u001b[0m | \u001b[0m 0.2333  \u001b[0m | \u001b[0m 2.619   \u001b[0m | \u001b[0m 0.6205  \u001b[0m | \u001b[0m 36.23   \u001b[0m | \u001b[0m 0.9714  \u001b[0m |\n",
      "| \u001b[0m 138     \u001b[0m | \u001b[0m 0.03922 \u001b[0m | \u001b[0m 0.877   \u001b[0m | \u001b[0m 0.1378  \u001b[0m | \u001b[0m 2.641   \u001b[0m | \u001b[0m 0.3793  \u001b[0m | \u001b[0m 306.2   \u001b[0m | \u001b[0m 0.723   \u001b[0m |\n",
      "| \u001b[0m 139     \u001b[0m | \u001b[0m 0.03922 \u001b[0m | \u001b[0m 0.8663  \u001b[0m | \u001b[0m 0.09237 \u001b[0m | \u001b[0m 2.098   \u001b[0m | \u001b[0m 0.3726  \u001b[0m | \u001b[0m 438.1   \u001b[0m | \u001b[0m 0.521   \u001b[0m |\n",
      "| \u001b[0m 140     \u001b[0m | \u001b[0m 0.04    \u001b[0m | \u001b[0m 0.9966  \u001b[0m | \u001b[0m 0.2246  \u001b[0m | \u001b[0m 2.278   \u001b[0m | \u001b[0m 0.6511  \u001b[0m | \u001b[0m 339.5   \u001b[0m | \u001b[0m 0.7119  \u001b[0m |\n",
      "| \u001b[0m 141     \u001b[0m | \u001b[0m 0.125   \u001b[0m | \u001b[0m 0.9778  \u001b[0m | \u001b[0m 0.1716  \u001b[0m | \u001b[0m 1.471   \u001b[0m | \u001b[0m 0.122   \u001b[0m | \u001b[0m 298.9   \u001b[0m | \u001b[0m 0.7539  \u001b[0m |\n",
      "| \u001b[0m 142     \u001b[0m | \u001b[0m 0.04    \u001b[0m | \u001b[0m 0.9508  \u001b[0m | \u001b[0m 0.1777  \u001b[0m | \u001b[0m 2.049   \u001b[0m | \u001b[0m 0.5316  \u001b[0m | \u001b[0m 566.7   \u001b[0m | \u001b[0m 0.9693  \u001b[0m |\n",
      "| \u001b[0m 143     \u001b[0m | \u001b[0m 0.03846 \u001b[0m | \u001b[0m 0.5435  \u001b[0m | \u001b[0m 0.2015  \u001b[0m | \u001b[0m 1.765   \u001b[0m | \u001b[0m 0.8392  \u001b[0m | \u001b[0m 577.6   \u001b[0m | \u001b[0m 0.9266  \u001b[0m |\n",
      "| \u001b[0m 144     \u001b[0m | \u001b[0m 0.07273 \u001b[0m | \u001b[0m 0.5314  \u001b[0m | \u001b[0m 0.168   \u001b[0m | \u001b[0m 1.247   \u001b[0m | \u001b[0m 0.8003  \u001b[0m | \u001b[0m 578.8   \u001b[0m | \u001b[0m 0.8195  \u001b[0m |\n",
      "| \u001b[0m 145     \u001b[0m | \u001b[0m 0.0     \u001b[0m | \u001b[0m 0.7347  \u001b[0m | \u001b[0m 0.02856 \u001b[0m | \u001b[0m 1.884   \u001b[0m | \u001b[0m 0.9617  \u001b[0m | \u001b[0m 372.9   \u001b[0m | \u001b[0m 0.7509  \u001b[0m |\n",
      "| \u001b[0m 146     \u001b[0m | \u001b[0m 0.04    \u001b[0m | \u001b[0m 0.6326  \u001b[0m | \u001b[0m 0.1069  \u001b[0m | \u001b[0m 2.24    \u001b[0m | \u001b[0m 0.5317  \u001b[0m | \u001b[0m 597.8   \u001b[0m | \u001b[0m 0.8869  \u001b[0m |\n",
      "| \u001b[0m 147     \u001b[0m | \u001b[0m 0.0     \u001b[0m | \u001b[0m 0.7255  \u001b[0m | \u001b[0m 0.2295  \u001b[0m | \u001b[0m 2.833   \u001b[0m | \u001b[0m 0.6564  \u001b[0m | \u001b[0m 339.1   \u001b[0m | \u001b[0m 0.6121  \u001b[0m |\n",
      "| \u001b[0m 148     \u001b[0m | \u001b[0m 0.04    \u001b[0m | \u001b[0m 0.6505  \u001b[0m | \u001b[0m 0.2185  \u001b[0m | \u001b[0m 2.793   \u001b[0m | \u001b[0m 0.3825  \u001b[0m | \u001b[0m 502.5   \u001b[0m | \u001b[0m 0.6423  \u001b[0m |\n",
      "| \u001b[0m 149     \u001b[0m | \u001b[0m 0.03922 \u001b[0m | \u001b[0m 0.9102  \u001b[0m | \u001b[0m 0.1495  \u001b[0m | \u001b[0m 1.05    \u001b[0m | \u001b[0m 0.604   \u001b[0m | \u001b[0m 214.3   \u001b[0m | \u001b[0m 0.8884  \u001b[0m |\n",
      "| \u001b[0m 150     \u001b[0m | \u001b[0m 0.03636 \u001b[0m | \u001b[0m 0.7459  \u001b[0m | \u001b[0m 0.2593  \u001b[0m | \u001b[0m 1.893   \u001b[0m | \u001b[0m 0.6292  \u001b[0m | \u001b[0m 436.0   \u001b[0m | \u001b[0m 0.8459  \u001b[0m |\n",
      "| \u001b[0m 151     \u001b[0m | \u001b[0m 0.0     \u001b[0m | \u001b[0m 0.8894  \u001b[0m | \u001b[0m 0.1187  \u001b[0m | \u001b[0m 2.621   \u001b[0m | \u001b[0m 0.5868  \u001b[0m | \u001b[0m 547.2   \u001b[0m | \u001b[0m 0.6235  \u001b[0m |\n",
      "| \u001b[0m 152     \u001b[0m | \u001b[0m 0.03922 \u001b[0m | \u001b[0m 0.6017  \u001b[0m | \u001b[0m 0.02174 \u001b[0m | \u001b[0m 2.993   \u001b[0m | \u001b[0m 0.2026  \u001b[0m | \u001b[0m 684.8   \u001b[0m | \u001b[0m 0.9252  \u001b[0m |\n",
      "| \u001b[0m 153     \u001b[0m | \u001b[0m 0.04    \u001b[0m | \u001b[0m 0.7417  \u001b[0m | \u001b[0m 0.2496  \u001b[0m | \u001b[0m 2.71    \u001b[0m | \u001b[0m 0.8219  \u001b[0m | \u001b[0m 254.5   \u001b[0m | \u001b[0m 0.8536  \u001b[0m |\n",
      "| \u001b[0m 154     \u001b[0m | \u001b[0m 0.0     \u001b[0m | \u001b[0m 0.5612  \u001b[0m | \u001b[0m 0.0893  \u001b[0m | \u001b[0m 2.212   \u001b[0m | \u001b[0m 0.2829  \u001b[0m | \u001b[0m 494.0   \u001b[0m | \u001b[0m 0.8098  \u001b[0m |\n",
      "| \u001b[0m 155     \u001b[0m | \u001b[0m 0.07692 \u001b[0m | \u001b[0m 0.7064  \u001b[0m | \u001b[0m 0.1574  \u001b[0m | \u001b[0m 2.557   \u001b[0m | \u001b[0m 0.8949  \u001b[0m | \u001b[0m 544.0   \u001b[0m | \u001b[0m 0.6872  \u001b[0m |\n",
      "| \u001b[0m 156     \u001b[0m | \u001b[0m 0.0     \u001b[0m | \u001b[0m 0.8339  \u001b[0m | \u001b[0m 0.08138 \u001b[0m | \u001b[0m 1.552   \u001b[0m | \u001b[0m 0.482   \u001b[0m | \u001b[0m 69.64   \u001b[0m | \u001b[0m 0.5266  \u001b[0m |\n",
      "| \u001b[0m 157     \u001b[0m | \u001b[0m 0.0     \u001b[0m | \u001b[0m 0.6138  \u001b[0m | \u001b[0m 0.1548  \u001b[0m | \u001b[0m 2.628   \u001b[0m | \u001b[0m 0.5869  \u001b[0m | \u001b[0m 410.6   \u001b[0m | \u001b[0m 0.8942  \u001b[0m |\n",
      "| \u001b[0m 158     \u001b[0m | \u001b[0m 0.03922 \u001b[0m | \u001b[0m 0.9839  \u001b[0m | \u001b[0m 0.1806  \u001b[0m | \u001b[0m 1.061   \u001b[0m | \u001b[0m 0.7283  \u001b[0m | \u001b[0m 182.7   \u001b[0m | \u001b[0m 0.835   \u001b[0m |\n",
      "| \u001b[0m 159     \u001b[0m | \u001b[0m 0.03922 \u001b[0m | \u001b[0m 0.8051  \u001b[0m | \u001b[0m 0.09227 \u001b[0m | \u001b[0m 2.36    \u001b[0m | \u001b[0m 0.1494  \u001b[0m | \u001b[0m 402.6   \u001b[0m | \u001b[0m 0.6406  \u001b[0m |\n",
      "| \u001b[0m 160     \u001b[0m | \u001b[0m 0.03279 \u001b[0m | \u001b[0m 0.6727  \u001b[0m | \u001b[0m 0.1657  \u001b[0m | \u001b[0m 2.572   \u001b[0m | \u001b[0m 0.2196  \u001b[0m | \u001b[0m 79.3    \u001b[0m | \u001b[0m 0.6592  \u001b[0m |\n",
      "| \u001b[0m 161     \u001b[0m | \u001b[0m 0.04    \u001b[0m | \u001b[0m 0.5796  \u001b[0m | \u001b[0m 0.07619 \u001b[0m | \u001b[0m 2.389   \u001b[0m | \u001b[0m 0.5991  \u001b[0m | \u001b[0m 178.4   \u001b[0m | \u001b[0m 0.6725  \u001b[0m |\n",
      "| \u001b[0m 162     \u001b[0m | \u001b[0m 0.03448 \u001b[0m | \u001b[0m 0.8041  \u001b[0m | \u001b[0m 0.2482  \u001b[0m | \u001b[0m 1.294   \u001b[0m | \u001b[0m 0.326   \u001b[0m | \u001b[0m 255.7   \u001b[0m | \u001b[0m 0.827   \u001b[0m |\n",
      "| \u001b[0m 163     \u001b[0m | \u001b[0m 0.1176  \u001b[0m | \u001b[0m 0.6579  \u001b[0m | \u001b[0m 0.2985  \u001b[0m | \u001b[0m 1.942   \u001b[0m | \u001b[0m 0.1096  \u001b[0m | \u001b[0m 16.42   \u001b[0m | \u001b[0m 0.8752  \u001b[0m |\n",
      "| \u001b[0m 164     \u001b[0m | \u001b[0m 0.0     \u001b[0m | \u001b[0m 0.8501  \u001b[0m | \u001b[0m 0.2684  \u001b[0m | \u001b[0m 2.257   \u001b[0m | \u001b[0m 0.7851  \u001b[0m | \u001b[0m 611.9   \u001b[0m | \u001b[0m 0.5026  \u001b[0m |\n",
      "| \u001b[0m 165     \u001b[0m | \u001b[0m 0.0     \u001b[0m | \u001b[0m 0.5862  \u001b[0m | \u001b[0m 0.05995 \u001b[0m | \u001b[0m 1.518   \u001b[0m | \u001b[0m 0.7021  \u001b[0m | \u001b[0m 173.4   \u001b[0m | \u001b[0m 0.8893  \u001b[0m |\n",
      "| \u001b[0m 166     \u001b[0m | \u001b[0m 0.03846 \u001b[0m | \u001b[0m 0.5532  \u001b[0m | \u001b[0m 0.2944  \u001b[0m | \u001b[0m 1.588   \u001b[0m | \u001b[0m 0.9681  \u001b[0m | \u001b[0m 496.9   \u001b[0m | \u001b[0m 0.6002  \u001b[0m |\n",
      "| \u001b[0m 167     \u001b[0m | \u001b[0m 0.07273 \u001b[0m | \u001b[0m 0.731   \u001b[0m | \u001b[0m 0.2369  \u001b[0m | \u001b[0m 2.163   \u001b[0m | \u001b[0m 0.1985  \u001b[0m | \u001b[0m 689.6   \u001b[0m | \u001b[0m 0.9128  \u001b[0m |\n",
      "| \u001b[0m 168     \u001b[0m | \u001b[0m 0.03922 \u001b[0m | \u001b[0m 0.7096  \u001b[0m | \u001b[0m 0.05167 \u001b[0m | \u001b[0m 1.247   \u001b[0m | \u001b[0m 0.4453  \u001b[0m | \u001b[0m 667.0   \u001b[0m | \u001b[0m 0.7611  \u001b[0m |\n",
      "| \u001b[0m 169     \u001b[0m | \u001b[0m 0.04    \u001b[0m | \u001b[0m 0.7862  \u001b[0m | \u001b[0m 0.09182 \u001b[0m | \u001b[0m 2.702   \u001b[0m | \u001b[0m 0.8928  \u001b[0m | \u001b[0m 162.2   \u001b[0m | \u001b[0m 0.9325  \u001b[0m |\n",
      "| \u001b[0m 170     \u001b[0m | \u001b[0m 0.0     \u001b[0m | \u001b[0m 0.5228  \u001b[0m | \u001b[0m 0.1082  \u001b[0m | \u001b[0m 2.051   \u001b[0m | \u001b[0m 0.325   \u001b[0m | \u001b[0m 490.0   \u001b[0m | \u001b[0m 0.5494  \u001b[0m |\n",
      "| \u001b[0m 171     \u001b[0m | \u001b[0m 0.0     \u001b[0m | \u001b[0m 0.8631  \u001b[0m | \u001b[0m 0.0379  \u001b[0m | \u001b[0m 2.825   \u001b[0m | \u001b[0m 0.5144  \u001b[0m | \u001b[0m 205.2   \u001b[0m | \u001b[0m 0.5566  \u001b[0m |\n",
      "| \u001b[0m 172     \u001b[0m | \u001b[0m 0.03922 \u001b[0m | \u001b[0m 0.5252  \u001b[0m | \u001b[0m 0.1196  \u001b[0m | \u001b[0m 1.33    \u001b[0m | \u001b[0m 0.6028  \u001b[0m | \u001b[0m 269.0   \u001b[0m | \u001b[0m 0.9685  \u001b[0m |\n",
      "| \u001b[0m 173     \u001b[0m | \u001b[0m 0.0     \u001b[0m | \u001b[0m 0.5462  \u001b[0m | \u001b[0m 0.1453  \u001b[0m | \u001b[0m 2.583   \u001b[0m | \u001b[0m 0.9483  \u001b[0m | \u001b[0m 338.7   \u001b[0m | \u001b[0m 0.8992  \u001b[0m |\n",
      "| \u001b[0m 174     \u001b[0m | \u001b[0m 0.0     \u001b[0m | \u001b[0m 0.509   \u001b[0m | \u001b[0m 0.0582  \u001b[0m | \u001b[0m 2.335   \u001b[0m | \u001b[0m 0.2863  \u001b[0m | \u001b[0m 107.4   \u001b[0m | \u001b[0m 0.9779  \u001b[0m |\n",
      "| \u001b[0m 175     \u001b[0m | \u001b[0m 0.0     \u001b[0m | \u001b[0m 0.5962  \u001b[0m | \u001b[0m 0.03025 \u001b[0m | \u001b[0m 1.342   \u001b[0m | \u001b[0m 0.6147  \u001b[0m | \u001b[0m 285.4   \u001b[0m | \u001b[0m 0.8974  \u001b[0m |\n",
      "| \u001b[0m 176     \u001b[0m | \u001b[0m 0.0     \u001b[0m | \u001b[0m 0.8677  \u001b[0m | \u001b[0m 0.02529 \u001b[0m | \u001b[0m 1.519   \u001b[0m | \u001b[0m 0.6286  \u001b[0m | \u001b[0m 357.3   \u001b[0m | \u001b[0m 0.9784  \u001b[0m |\n",
      "| \u001b[0m 177     \u001b[0m | \u001b[0m 0.07547 \u001b[0m | \u001b[0m 0.8238  \u001b[0m | \u001b[0m 0.2684  \u001b[0m | \u001b[0m 2.935   \u001b[0m | \u001b[0m 0.5491  \u001b[0m | \u001b[0m 247.3   \u001b[0m | \u001b[0m 0.875   \u001b[0m |\n",
      "| \u001b[0m 178     \u001b[0m | \u001b[0m 0.03175 \u001b[0m | \u001b[0m 0.6679  \u001b[0m | \u001b[0m 0.212   \u001b[0m | \u001b[0m 1.507   \u001b[0m | \u001b[0m 0.2593  \u001b[0m | \u001b[0m 438.3   \u001b[0m | \u001b[0m 0.7272  \u001b[0m |\n",
      "| \u001b[0m 179     \u001b[0m | \u001b[0m 0.03774 \u001b[0m | \u001b[0m 0.6872  \u001b[0m | \u001b[0m 0.2262  \u001b[0m | \u001b[0m 2.194   \u001b[0m | \u001b[0m 0.2186  \u001b[0m | \u001b[0m 657.2   \u001b[0m | \u001b[0m 0.804   \u001b[0m |\n",
      "| \u001b[0m 180     \u001b[0m | \u001b[0m 0.0     \u001b[0m | \u001b[0m 0.7264  \u001b[0m | \u001b[0m 0.1989  \u001b[0m | \u001b[0m 2.194   \u001b[0m | \u001b[0m 0.8144  \u001b[0m | \u001b[0m 492.1   \u001b[0m | \u001b[0m 0.8316  \u001b[0m |\n",
      "| \u001b[0m 181     \u001b[0m | \u001b[0m 0.03846 \u001b[0m | \u001b[0m 0.9044  \u001b[0m | \u001b[0m 0.2981  \u001b[0m | \u001b[0m 1.969   \u001b[0m | \u001b[0m 0.7843  \u001b[0m | \u001b[0m 324.5   \u001b[0m | \u001b[0m 0.5292  \u001b[0m |\n",
      "| \u001b[0m 182     \u001b[0m | \u001b[0m 0.03846 \u001b[0m | \u001b[0m 0.5095  \u001b[0m | \u001b[0m 0.2344  \u001b[0m | \u001b[0m 2.507   \u001b[0m | \u001b[0m 0.6461  \u001b[0m | \u001b[0m 70.59   \u001b[0m | \u001b[0m 0.8469  \u001b[0m |\n",
      "| \u001b[0m 183     \u001b[0m | \u001b[0m 0.0     \u001b[0m | \u001b[0m 0.6566  \u001b[0m | \u001b[0m 0.05606 \u001b[0m | \u001b[0m 1.408   \u001b[0m | \u001b[0m 0.7624  \u001b[0m | \u001b[0m 213.9   \u001b[0m | \u001b[0m 0.7993  \u001b[0m |\n",
      "| \u001b[0m 184     \u001b[0m | \u001b[0m 0.0     \u001b[0m | \u001b[0m 0.7161  \u001b[0m | \u001b[0m 0.03019 \u001b[0m | \u001b[0m 1.329   \u001b[0m | \u001b[0m 0.8769  \u001b[0m | \u001b[0m 316.8   \u001b[0m | \u001b[0m 0.6109  \u001b[0m |\n",
      "| \u001b[0m 185     \u001b[0m | \u001b[0m 0.0     \u001b[0m | \u001b[0m 0.9628  \u001b[0m | \u001b[0m 0.03839 \u001b[0m | \u001b[0m 2.561   \u001b[0m | \u001b[0m 0.117   \u001b[0m | \u001b[0m 645.7   \u001b[0m | \u001b[0m 0.8209  \u001b[0m |\n",
      "| \u001b[0m 186     \u001b[0m | \u001b[0m 0.03846 \u001b[0m | \u001b[0m 0.5753  \u001b[0m | \u001b[0m 0.1211  \u001b[0m | \u001b[0m 1.071   \u001b[0m | \u001b[0m 0.5218  \u001b[0m | \u001b[0m 533.9   \u001b[0m | \u001b[0m 0.5075  \u001b[0m |\n",
      "| \u001b[0m 187     \u001b[0m | \u001b[0m 0.03636 \u001b[0m | \u001b[0m 0.9948  \u001b[0m | \u001b[0m 0.1457  \u001b[0m | \u001b[0m 1.774   \u001b[0m | \u001b[0m 0.2995  \u001b[0m | \u001b[0m 604.4   \u001b[0m | \u001b[0m 0.7773  \u001b[0m |\n",
      "| \u001b[0m 188     \u001b[0m | \u001b[0m 0.03636 \u001b[0m | \u001b[0m 0.8619  \u001b[0m | \u001b[0m 0.1145  \u001b[0m | \u001b[0m 1.694   \u001b[0m | \u001b[0m 0.2589  \u001b[0m | \u001b[0m 696.8   \u001b[0m | \u001b[0m 0.8781  \u001b[0m |\n",
      "| \u001b[0m 189     \u001b[0m | \u001b[0m 0.03922 \u001b[0m | \u001b[0m 0.6463  \u001b[0m | \u001b[0m 0.242   \u001b[0m | \u001b[0m 2.868   \u001b[0m | \u001b[0m 0.7565  \u001b[0m | \u001b[0m 502.1   \u001b[0m | \u001b[0m 0.7858  \u001b[0m |\n",
      "| \u001b[0m 190     \u001b[0m | \u001b[0m 0.03846 \u001b[0m | \u001b[0m 0.9457  \u001b[0m | \u001b[0m 0.08341 \u001b[0m | \u001b[0m 1.336   \u001b[0m | \u001b[0m 0.2417  \u001b[0m | \u001b[0m 585.4   \u001b[0m | \u001b[0m 0.8386  \u001b[0m |\n",
      "| \u001b[0m 191     \u001b[0m | \u001b[0m 0.0625  \u001b[0m | \u001b[0m 0.8936  \u001b[0m | \u001b[0m 0.1737  \u001b[0m | \u001b[0m 1.463   \u001b[0m | \u001b[0m 0.1768  \u001b[0m | \u001b[0m 535.2   \u001b[0m | \u001b[0m 0.5709  \u001b[0m |\n",
      "| \u001b[0m 192     \u001b[0m | \u001b[0m 0.03636 \u001b[0m | \u001b[0m 0.9627  \u001b[0m | \u001b[0m 0.2398  \u001b[0m | \u001b[0m 1.331   \u001b[0m | \u001b[0m 0.5542  \u001b[0m | \u001b[0m 285.9   \u001b[0m | \u001b[0m 0.8894  \u001b[0m |\n",
      "| \u001b[0m 193     \u001b[0m | \u001b[0m 0.0     \u001b[0m | \u001b[0m 0.5499  \u001b[0m | \u001b[0m 0.04755 \u001b[0m | \u001b[0m 1.858   \u001b[0m | \u001b[0m 0.2491  \u001b[0m | \u001b[0m 309.2   \u001b[0m | \u001b[0m 0.6607  \u001b[0m |\n",
      "| \u001b[0m 194     \u001b[0m | \u001b[0m 0.03922 \u001b[0m | \u001b[0m 0.7266  \u001b[0m | \u001b[0m 0.0794  \u001b[0m | \u001b[0m 1.205   \u001b[0m | \u001b[0m 0.4897  \u001b[0m | \u001b[0m 628.0   \u001b[0m | \u001b[0m 0.721   \u001b[0m |\n",
      "| \u001b[0m 195     \u001b[0m | \u001b[0m 0.03922 \u001b[0m | \u001b[0m 0.749   \u001b[0m | \u001b[0m 0.2525  \u001b[0m | \u001b[0m 2.123   \u001b[0m | \u001b[0m 0.4099  \u001b[0m | \u001b[0m 293.8   \u001b[0m | \u001b[0m 0.5792  \u001b[0m |\n",
      "| \u001b[0m 196     \u001b[0m | \u001b[0m 0.0     \u001b[0m | \u001b[0m 0.6241  \u001b[0m | \u001b[0m 0.2678  \u001b[0m | \u001b[0m 2.9     \u001b[0m | \u001b[0m 0.7347  \u001b[0m | \u001b[0m 106.5   \u001b[0m | \u001b[0m 0.6827  \u001b[0m |\n",
      "| \u001b[0m 197     \u001b[0m | \u001b[0m 0.0     \u001b[0m | \u001b[0m 0.6074  \u001b[0m | \u001b[0m 0.0113  \u001b[0m | \u001b[0m 1.313   \u001b[0m | \u001b[0m 0.8766  \u001b[0m | \u001b[0m 643.1   \u001b[0m | \u001b[0m 0.5544  \u001b[0m |\n",
      "| \u001b[0m 198     \u001b[0m | \u001b[0m 0.0     \u001b[0m | \u001b[0m 0.6143  \u001b[0m | \u001b[0m 0.1481  \u001b[0m | \u001b[0m 2.977   \u001b[0m | \u001b[0m 0.2927  \u001b[0m | \u001b[0m 136.6   \u001b[0m | \u001b[0m 0.7605  \u001b[0m |\n",
      "| \u001b[0m 199     \u001b[0m | \u001b[0m 0.06897 \u001b[0m | \u001b[0m 0.522   \u001b[0m | \u001b[0m 0.2098  \u001b[0m | \u001b[0m 2.882   \u001b[0m | \u001b[0m 0.235   \u001b[0m | \u001b[0m 107.8   \u001b[0m | \u001b[0m 0.7801  \u001b[0m |\n",
      "| \u001b[0m 200     \u001b[0m | \u001b[0m 0.04    \u001b[0m | \u001b[0m 0.8509  \u001b[0m | \u001b[0m 0.05398 \u001b[0m | \u001b[0m 2.486   \u001b[0m | \u001b[0m 0.5695  \u001b[0m | \u001b[0m 205.1   \u001b[0m | \u001b[0m 0.6633  \u001b[0m |\n",
      "=================================================================================================\n"
     ]
    }
   ],
   "source": [
    "def bayes_train(n_estimators, max_depth, min_child_weight, subsample, colsample_bytree, learning_rate):\n",
    "    clf = lightgbm.LGBMClassifier(random_state = 0, device = 'cpu', n_jobs = -1\n",
    "                                , n_estimators=int(n_estimators)\n",
    "                                , max_depth=int(max_depth)\n",
    "                                , num_leaves=7\n",
    "                                , min_child_weight = min_child_weight\n",
    "                                , subsample = subsample\n",
    "                                , colsample_bytree = colsample_bytree\n",
    "                                , learning_rate = learning_rate)\n",
    "    clf.fit(X_train, y_train)\n",
    "    preds = clf.predict(X_test)\n",
    "    score = f1_score(y_test, preds)\n",
    "    \n",
    "    return score\n",
    "\n",
    "pbounds = {'n_estimators' : (10, 700)\n",
    "            , 'max_depth' : (1, 3)\n",
    "            , 'min_child_weight' : (0.1, 1)\n",
    "            , 'subsample' : (0.5, 1)\n",
    "            , 'colsample_bytree' : (0.5, 1)\n",
    "            , 'learning_rate' : (0.001, 0.3)}\n",
    "optimizer = bayes_opt.BayesianOptimization(f = bayes_train, pbounds= pbounds, random_state=0)\n",
    "optimizer.maximize(init_points=100, n_iter = 100)\n",
    "opt_res_lgbm = pd.DataFrame(optimizer.res)\n"
   ]
  },
  {
   "cell_type": "code",
   "execution_count": null,
   "metadata": {},
   "outputs": [],
   "source": [
    "for cols in ['n_estimators', 'max_depth', 'min_child_weight', 'subsample', 'colsample_bytree', 'learning_rate']:\n",
    "    md = []\n",
    "    for i in np.arange(opt_res_lgbm.shape[0]):\n",
    "        md.append(opt_res_lgbm['params'][i][cols])\n",
    "    opt_res_lgbm[cols] = md"
   ]
  },
  {
   "cell_type": "code",
   "execution_count": null,
   "metadata": {},
   "outputs": [
    {
     "data": {
      "text/plain": [
       "0.047619047619047616"
      ]
     },
     "execution_count": 127,
     "metadata": {},
     "output_type": "execute_result"
    }
   ],
   "source": [
    "i = 53\n",
    "final_model_lgbm = lightgbm.LGBMClassifier(random_state = 0, device = 'cpu', n_jobs = -1\n",
    "                                , n_estimators=int(opt_res_lgbm['n_estimators'][i])\n",
    "                                , max_depth=int(opt_res_lgbm['max_depth'][i])\n",
    "                                , num_leaves=7\n",
    "                                , min_child_weight = opt_res_lgbm['min_child_weight'][i]\n",
    "                                , subsample = opt_res_lgbm['subsample'][i]\n",
    "                                , colsample_bytree = opt_res_lgbm['colsample_bytree'][i]\n",
    "                                , learning_rate = opt_res_lgbm['learning_rate'][i])\n",
    "final_model_lgbm.fit(X_val, y_val)\n",
    "f1_score(y_val, final_model_lgbm.predict(X_val))"
   ]
  },
  {
   "cell_type": "code",
   "execution_count": null,
   "metadata": {},
   "outputs": [
    {
     "data": {
      "image/png": "[encoded data removed]",
      "text/plain": [
       "<Figure size 432x288 with 1 Axes>"
      ]
     },
     "metadata": {
      "needs_background": "light"
     },
     "output_type": "display_data"
    }
   ],
   "source": [
    "lightgbm.plot_importance(final_model_lgbm, importance_type='gain', max_num_features=20)\n",
    "fi_df_lgbm = pd.DataFrame(data = final_model_lgbm.booster_.feature_importance(importance_type='gain'), index = X_val.columns, columns = ['FI'])\n"
   ]
  },
  {
   "cell_type": "code",
   "execution_count": null,
   "metadata": {},
   "outputs": [],
   "source": [
    "rf_train_rslt = pd.DataFrame(y_train)\n",
    "rf_train_rslt['pred_target'] = final_model_lgbm.predict(X_train)\n",
    "rf_test_rslt = pd.DataFrame(y_test)\n",
    "rf_test_rslt['pred_target'] = final_model_lgbm.predict(X_test)\n",
    "rf_val_rslt = pd.DataFrame(y_val)\n",
    "rf_val_rslt['pred_target'] = final_model_lgbm.predict(X_val)\n",
    "\n",
    "\n",
    "rf_train_rslt.to_csv('train_rslt.csv', index=False)\n",
    "rf_test_rslt.to_csv('test_rslt.csv', index=False)\n",
    "rf_val_rslt.to_csv('val_rslt.csv', index=False)"
   ]
  },
  {
   "cell_type": "code",
   "execution_count": null,
   "metadata": {},
   "outputs": [],
   "source": [
    "\n",
    "fi_df_lgbm['f'] = fi_df_lgbm.index\n",
    "fi_df_lgbm.to_csv('fi_df_lgbm.csv', index=False)"
   ]
  }
 ],
 "metadata": {
  "interpreter": {
   "hash": "b3ba2566441a7c06988d0923437866b63cedc61552a5af99d1f4fb67d367b25f"
  },
  "kernelspec": {
   "display_name": "Python 3.8.8 ('base')",
   "language": "python",
   "name": "python3"
  },
  "language_info": {
   "codemirror_mode": {
    "name": "ipython",
    "version": 3
   },
   "file_extension": ".py",
   "mimetype": "text/x-python",
   "name": "python",
   "nbconvert_exporter": "python",
   "pygments_lexer": "ipython3",
   "version": "3.8.8"
  },
  "orig_nbformat": 4
 },
 "nbformat": 4,
 "nbformat_minor": 2
}
