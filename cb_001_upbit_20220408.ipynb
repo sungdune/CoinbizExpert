{
 "cells": [
  {
   "cell_type": "markdown",
   "metadata": {},
   "source": [
    "### 업비트 API를 활용한 코인가격변동 예측 모형 개발\n",
    "* 작성일 : 2022-04-08\n",
    "* 작성자 : 윤성준\n",
    "* 버전 : 0.1\n",
    "* 변경이력 "
   ]
  },
  {
   "cell_type": "markdown",
   "metadata": {},
   "source": [
    "## 목차\n",
    "1. 데이터 수집\n",
    "2. 항목 생성\n",
    "3. 요건 정의 (dev/val, target 등)\n",
    "4. ML모델학습\n",
    "5. 평가\n",
    "---"
   ]
  },
  {
   "cell_type": "markdown",
   "metadata": {},
   "source": [
    "1. 데이터 수집"
   ]
  },
  {
   "cell_type": "code",
   "execution_count": 1,
   "metadata": {},
   "outputs": [],
   "source": [
    "import pyupbit\n",
    "import pandas as pd\n",
    "from datetime import datetime\n",
    "from dateutil.relativedelta import relativedelta\n",
    "import cb_001m_upbit"
   ]
  },
  {
   "cell_type": "code",
   "execution_count": 2,
   "metadata": {},
   "outputs": [
    {
     "name": "stdout",
     "output_type": "stream",
     "text": [
      "['KRW-BTC', 'KRW-ETH', 'KRW-NEO', 'KRW-MTL', 'KRW-LTC', 'KRW-XRP', 'KRW-ETC', 'KRW-OMG', 'KRW-SNT', 'KRW-WAVES', 'KRW-XEM', 'KRW-QTUM', 'KRW-LSK', 'KRW-STEEM', 'KRW-XLM', 'KRW-ARDR', 'KRW-ARK', 'KRW-STORJ', 'KRW-GRS', 'KRW-REP', 'KRW-ADA', 'KRW-SBD', 'KRW-POWR', 'KRW-BTG', 'KRW-ICX', 'KRW-EOS', 'KRW-TRX', 'KRW-SC', 'KRW-ONT', 'KRW-ZIL', 'KRW-POLY', 'KRW-ZRX', 'KRW-LOOM', 'KRW-BCH', 'KRW-BAT', 'KRW-IOST', 'KRW-RFR', 'KRW-CVC', 'KRW-IQ', 'KRW-IOTA', 'KRW-MFT', 'KRW-ONG', 'KRW-GAS', 'KRW-UPP', 'KRW-ELF', 'KRW-KNC', 'KRW-BSV', 'KRW-THETA', 'KRW-QKC', 'KRW-BTT', 'KRW-MOC', 'KRW-ENJ', 'KRW-TFUEL', 'KRW-MANA', 'KRW-ANKR', 'KRW-AERGO', 'KRW-ATOM', 'KRW-TT', 'KRW-CRE', 'KRW-MBL', 'KRW-WAXP', 'KRW-HBAR', 'KRW-MED', 'KRW-MLK', 'KRW-STPT', 'KRW-ORBS', 'KRW-VET', 'KRW-CHZ', 'KRW-STMX', 'KRW-DKA', 'KRW-HIVE', 'KRW-KAVA', 'KRW-AHT', 'KRW-LINK', 'KRW-XTZ', 'KRW-BORA', 'KRW-JST', 'KRW-CRO', 'KRW-TON', 'KRW-SXP', 'KRW-HUNT', 'KRW-PLA', 'KRW-DOT', 'KRW-SRM', 'KRW-MVL', 'KRW-STRAX', 'KRW-AQT', 'KRW-GLM', 'KRW-SSX', 'KRW-META', 'KRW-FCT2', 'KRW-CBK', 'KRW-SAND', 'KRW-HUM', 'KRW-DOGE', 'KRW-STRK', 'KRW-PUNDIX', 'KRW-FLOW', 'KRW-DAWN', 'KRW-AXS', 'KRW-STX', 'KRW-XEC', 'KRW-SOL', 'KRW-MATIC', 'KRW-NU', 'KRW-AAVE', 'KRW-1INCH', 'KRW-ALGO', 'KRW-NEAR', 'KRW-WEMIX', 'KRW-AVAX', 'KRW-T', 'KRW-CELO']\n"
     ]
    }
   ],
   "source": [
    "tickers = pyupbit.get_tickers(fiat=\"KRW\")\n",
    "print(tickers)"
   ]
  },
  {
   "cell_type": "code",
   "execution_count": 3,
   "metadata": {},
   "outputs": [],
   "source": [
    "WORKDATE = '2022-04-01'\n",
    "REQMONTHS = 7\n",
    "\n",
    "workdate = datetime.fromisoformat(WORKDATE)\n",
    "startdate = workdate - relativedelta(months=REQMONTHS)"
   ]
  },
  {
   "cell_type": "code",
   "execution_count": 4,
   "metadata": {},
   "outputs": [],
   "source": [
    "ohlcvs = cb_001m_upbit.get_ohlcv_dump(tickers = tickers, filename = 'data.pickle', workdate = workdate, reqmonths = REQMONTHS)"
   ]
  },
  {
   "cell_type": "markdown",
   "metadata": {},
   "source": [
    "2. 데이터 정제"
   ]
  },
  {
   "cell_type": "code",
   "execution_count": 5,
   "metadata": {},
   "outputs": [
    {
     "name": "stdout",
     "output_type": "stream",
     "text": [
      "KRW-BTC 1826814\n",
      "KRW-ETH 1826502\n",
      "KRW-NEO 1716108\n",
      "KRW-MTL 1536216\n",
      "KRW-LTC 1672956\n",
      "KRW-XRP 1826754\n",
      "KRW-ETC 1813032\n",
      "KRW-OMG 1737996\n",
      "KRW-SNT 1602306\n",
      "KRW-WAVES 1704420\n",
      "KRW-XEM 1476048\n",
      "KRW-QTUM 1761078\n",
      "KRW-LSK 1462116\n",
      "KRW-STEEM 1488834\n",
      "KRW-XLM 1735842\n",
      "KRW-ARDR 1445334\n",
      "KRW-ARK 1464846\n",
      "KRW-STORJ 1581816\n",
      "KRW-GRS 1376070\n",
      "KRW-REP 1449246\n",
      "KRW-ADA 1811994\n",
      "KRW-SBD 1353252\n",
      "KRW-POWR 1685922\n",
      "KRW-BTG 1629966\n",
      "KRW-ICX 1668246\n",
      "KRW-EOS 1788900\n",
      "KRW-TRX 1810698\n",
      "KRW-SC 1563060\n",
      "KRW-ONT 1550724\n",
      "KRW-ZIL 1551738\n",
      "KRW-POLY 1599582\n",
      "KRW-ZRX 1424304\n",
      "KRW-LOOM 1467552\n",
      "KRW-BCH 1654794\n",
      "KRW-BAT 1651668\n",
      "KRW-IOST 1458768\n",
      "KRW-RFR 1388598\n",
      "KRW-CVC 1581660\n",
      "KRW-IQ 1310058\n",
      "KRW-IOTA 1476150\n",
      "KRW-MFT 1449816\n",
      "KRW-ONG 1575312\n",
      "KRW-GAS 1552836\n",
      "KRW-UPP 1354794\n",
      "KRW-ELF 1613814\n",
      "KRW-KNC 1610424\n",
      "KRW-BSV 1532196\n",
      "KRW-THETA 1591764\n",
      "KRW-QKC 1389702\n",
      "KRW-BTT 1755510\n",
      "KRW-MOC 1544514\n",
      "KRW-ENJ 1656336\n",
      "KRW-TFUEL 1603488\n",
      "KRW-MANA 1802304\n",
      "KRW-ANKR 1557480\n",
      "KRW-AERGO 1543176\n",
      "KRW-ATOM 1799424\n",
      "KRW-TT 1438518\n",
      "KRW-CRE 1528842\n",
      "KRW-MBL 1547706\n",
      "KRW-WAXP 1692864\n",
      "KRW-HBAR 1624380\n",
      "KRW-MED 1680204\n",
      "KRW-MLK 1700214\n",
      "KRW-STPT 1524168\n",
      "KRW-ORBS 1465824\n",
      "KRW-VET 1778946\n",
      "KRW-CHZ 1681872\n",
      "KRW-STMX 1473726\n",
      "KRW-DKA 1470564\n",
      "KRW-HIVE 1672566\n",
      "KRW-KAVA 1556916\n",
      "KRW-AHT 1359306\n",
      "KRW-LINK 1795014\n",
      "KRW-XTZ 1744782\n",
      "KRW-BORA 1774494\n",
      "KRW-JST 1533564\n",
      "KRW-CRO 1579236\n",
      "KRW-TON 1542978\n",
      "KRW-SXP 1735194\n",
      "KRW-HUNT 1709022\n",
      "KRW-PLA 1758144\n",
      "KRW-DOT 1795746\n",
      "KRW-SRM 1720350\n",
      "KRW-MVL 1409436\n",
      "KRW-STRAX 1457244\n",
      "KRW-AQT 1566834\n",
      "KRW-GLM 1547478\n",
      "KRW-SSX 1566198\n",
      "KRW-META 1553904\n",
      "KRW-FCT2 1460034\n",
      "KRW-CBK 1563612\n",
      "KRW-SAND 1819296\n",
      "KRW-HUM 1641390\n",
      "KRW-DOGE 1817436\n",
      "KRW-STRK 1474446\n",
      "KRW-PUNDIX 1530492\n",
      "KRW-FLOW 1810002\n",
      "KRW-DAWN 1627314\n",
      "KRW-AXS 1784412\n",
      "KRW-STX 1761408\n",
      "KRW-XEC 1768842\n",
      "KRW-SOL 1440096\n",
      "KRW-MATIC 1428576\n",
      "KRW-NU 1401042\n",
      "KRW-AAVE 1129638\n",
      "KRW-1INCH 1193004\n",
      "KRW-ALGO 1080198\n",
      "KRW-NEAR 911964\n",
      "KRW-WEMIX 674496\n",
      "KRW-AVAX 429318\n",
      "KRW-T 236460\n",
      "KRW-CELO 114972\n"
     ]
    }
   ],
   "source": [
    "for key, val in ohlcvs.items():\n",
    "    print(key, val.size)"
   ]
  },
  {
   "cell_type": "code",
   "execution_count": 6,
   "metadata": {},
   "outputs": [],
   "source": [
    "assert isinstance(ohlcvs['KRW-BTC'].index, pd.DatetimeIndex), 'not datetime index'"
   ]
  },
  {
   "cell_type": "code",
   "execution_count": 7,
   "metadata": {},
   "outputs": [
    {
     "data": {
      "text/html": [
       "<div>\n",
       "<style scoped>\n",
       "    .dataframe tbody tr th:only-of-type {\n",
       "        vertical-align: middle;\n",
       "    }\n",
       "\n",
       "    .dataframe tbody tr th {\n",
       "        vertical-align: top;\n",
       "    }\n",
       "\n",
       "    .dataframe thead th {\n",
       "        text-align: right;\n",
       "    }\n",
       "</style>\n",
       "<table border=\"1\" class=\"dataframe\">\n",
       "  <thead>\n",
       "    <tr style=\"text-align: right;\">\n",
       "      <th></th>\n",
       "      <th>open</th>\n",
       "      <th>high</th>\n",
       "      <th>low</th>\n",
       "      <th>close</th>\n",
       "      <th>volume</th>\n",
       "      <th>value</th>\n",
       "    </tr>\n",
       "  </thead>\n",
       "  <tbody>\n",
       "    <tr>\n",
       "      <th>2021-09-01 00:00:00</th>\n",
       "      <td>55326000.0</td>\n",
       "      <td>55422000.0</td>\n",
       "      <td>55326000.0</td>\n",
       "      <td>55327000.0</td>\n",
       "      <td>16.458649</td>\n",
       "      <td>9.113422e+08</td>\n",
       "    </tr>\n",
       "    <tr>\n",
       "      <th>2021-09-01 00:01:00</th>\n",
       "      <td>55327000.0</td>\n",
       "      <td>55399000.0</td>\n",
       "      <td>55327000.0</td>\n",
       "      <td>55393000.0</td>\n",
       "      <td>9.624262</td>\n",
       "      <td>5.327570e+08</td>\n",
       "    </tr>\n",
       "    <tr>\n",
       "      <th>2021-09-01 00:02:00</th>\n",
       "      <td>55400000.0</td>\n",
       "      <td>55477000.0</td>\n",
       "      <td>55391000.0</td>\n",
       "      <td>55443000.0</td>\n",
       "      <td>12.328954</td>\n",
       "      <td>6.834197e+08</td>\n",
       "    </tr>\n",
       "    <tr>\n",
       "      <th>2021-09-01 00:03:00</th>\n",
       "      <td>55439000.0</td>\n",
       "      <td>55463000.0</td>\n",
       "      <td>55343000.0</td>\n",
       "      <td>55350000.0</td>\n",
       "      <td>18.474244</td>\n",
       "      <td>1.023428e+09</td>\n",
       "    </tr>\n",
       "    <tr>\n",
       "      <th>2021-09-01 00:04:00</th>\n",
       "      <td>55378000.0</td>\n",
       "      <td>55385000.0</td>\n",
       "      <td>55331000.0</td>\n",
       "      <td>55340000.0</td>\n",
       "      <td>12.750241</td>\n",
       "      <td>7.056209e+08</td>\n",
       "    </tr>\n",
       "    <tr>\n",
       "      <th>...</th>\n",
       "      <td>...</td>\n",
       "      <td>...</td>\n",
       "      <td>...</td>\n",
       "      <td>...</td>\n",
       "      <td>...</td>\n",
       "      <td>...</td>\n",
       "    </tr>\n",
       "    <tr>\n",
       "      <th>2022-03-31 23:55:00</th>\n",
       "      <td>56461000.0</td>\n",
       "      <td>56485000.0</td>\n",
       "      <td>56461000.0</td>\n",
       "      <td>56481000.0</td>\n",
       "      <td>7.931584</td>\n",
       "      <td>4.479158e+08</td>\n",
       "    </tr>\n",
       "    <tr>\n",
       "      <th>2022-03-31 23:56:00</th>\n",
       "      <td>56480000.0</td>\n",
       "      <td>56490000.0</td>\n",
       "      <td>56480000.0</td>\n",
       "      <td>56490000.0</td>\n",
       "      <td>4.296142</td>\n",
       "      <td>2.426775e+08</td>\n",
       "    </tr>\n",
       "    <tr>\n",
       "      <th>2022-03-31 23:57:00</th>\n",
       "      <td>56490000.0</td>\n",
       "      <td>56499000.0</td>\n",
       "      <td>56485000.0</td>\n",
       "      <td>56488000.0</td>\n",
       "      <td>5.051226</td>\n",
       "      <td>2.853419e+08</td>\n",
       "    </tr>\n",
       "    <tr>\n",
       "      <th>2022-03-31 23:58:00</th>\n",
       "      <td>56489000.0</td>\n",
       "      <td>56505000.0</td>\n",
       "      <td>56486000.0</td>\n",
       "      <td>56499000.0</td>\n",
       "      <td>3.184290</td>\n",
       "      <td>1.799036e+08</td>\n",
       "    </tr>\n",
       "    <tr>\n",
       "      <th>2022-03-31 23:59:00</th>\n",
       "      <td>56501000.0</td>\n",
       "      <td>56555000.0</td>\n",
       "      <td>56500000.0</td>\n",
       "      <td>56540000.0</td>\n",
       "      <td>2.843731</td>\n",
       "      <td>1.607382e+08</td>\n",
       "    </tr>\n",
       "  </tbody>\n",
       "</table>\n",
       "<p>304469 rows × 6 columns</p>\n",
       "</div>"
      ],
      "text/plain": [
       "                           open        high         low       close  \\\n",
       "2021-09-01 00:00:00  55326000.0  55422000.0  55326000.0  55327000.0   \n",
       "2021-09-01 00:01:00  55327000.0  55399000.0  55327000.0  55393000.0   \n",
       "2021-09-01 00:02:00  55400000.0  55477000.0  55391000.0  55443000.0   \n",
       "2021-09-01 00:03:00  55439000.0  55463000.0  55343000.0  55350000.0   \n",
       "2021-09-01 00:04:00  55378000.0  55385000.0  55331000.0  55340000.0   \n",
       "...                         ...         ...         ...         ...   \n",
       "2022-03-31 23:55:00  56461000.0  56485000.0  56461000.0  56481000.0   \n",
       "2022-03-31 23:56:00  56480000.0  56490000.0  56480000.0  56490000.0   \n",
       "2022-03-31 23:57:00  56490000.0  56499000.0  56485000.0  56488000.0   \n",
       "2022-03-31 23:58:00  56489000.0  56505000.0  56486000.0  56499000.0   \n",
       "2022-03-31 23:59:00  56501000.0  56555000.0  56500000.0  56540000.0   \n",
       "\n",
       "                        volume         value  \n",
       "2021-09-01 00:00:00  16.458649  9.113422e+08  \n",
       "2021-09-01 00:01:00   9.624262  5.327570e+08  \n",
       "2021-09-01 00:02:00  12.328954  6.834197e+08  \n",
       "2021-09-01 00:03:00  18.474244  1.023428e+09  \n",
       "2021-09-01 00:04:00  12.750241  7.056209e+08  \n",
       "...                        ...           ...  \n",
       "2022-03-31 23:55:00   7.931584  4.479158e+08  \n",
       "2022-03-31 23:56:00   4.296142  2.426775e+08  \n",
       "2022-03-31 23:57:00   5.051226  2.853419e+08  \n",
       "2022-03-31 23:58:00   3.184290  1.799036e+08  \n",
       "2022-03-31 23:59:00   2.843731  1.607382e+08  \n",
       "\n",
       "[304469 rows x 6 columns]"
      ]
     },
     "execution_count": 7,
     "metadata": {},
     "output_type": "execute_result"
    }
   ],
   "source": [
    "ohlcvs['KRW-BTC']"
   ]
  },
  {
   "cell_type": "code",
   "execution_count": 8,
   "metadata": {},
   "outputs": [
    {
     "name": "stdout",
     "output_type": "stream",
     "text": [
      "Load pickle\n"
     ]
    }
   ],
   "source": [
    "tot_idx = pd.date_range(start = startdate , end = workdate, freq = 'T', closed = 'left')\n",
    "\n",
    "tot_set = cb_001m_upbit.get_tot_df(ohlcvs = ohlcvs, tot_idx = tot_idx\n",
    "                , filename = r\"D:\\2022\\CoinbizExpert\\data_feature.pickle\"\n",
    "                , force_download = False)"
   ]
  },
  {
   "cell_type": "code",
   "execution_count": 56,
   "metadata": {},
   "outputs": [],
   "source": [
    "# 7개월간 데이터가 있는 102개 코인으로 축소 (11개 코인 제거)\n",
    "pd.DataFrame(tot_set.columns).to_csv('cols.csv')"
   ]
  },
  {
   "cell_type": "markdown",
   "metadata": {},
   "source": [
    "3. 모형 개발"
   ]
  },
  {
   "cell_type": "code",
   "execution_count": 10,
   "metadata": {},
   "outputs": [],
   "source": [
    "# from ta import add_all_ta_features\n",
    "\n",
    "# # Load datas\n",
    "# df = ohlcvs['KRW-BTC'].copy() # this is you data and it has to be in the OHLC and volume format \n",
    "\n",
    "# # Add ta features filling NaN values\n",
    "# df = add_all_ta_features(\n",
    "#     df, open=\"open\", high=\"high\", low=\"low\", close=\"close\", volume=\"volume\", fillna=True)\n",
    "\n",
    "# df.columns"
   ]
  },
  {
   "cell_type": "code",
   "execution_count": 42,
   "metadata": {},
   "outputs": [],
   "source": [
    "from sklearn.ensemble import RandomForestClassifier\n",
    "from sklearn.metrics import precision_score\n",
    "import numpy as np"
   ]
  },
  {
   "cell_type": "code",
   "execution_count": 12,
   "metadata": {},
   "outputs": [],
   "source": [
    "# tot_set.drop(columns=['val_gb'], inplace=True)\n",
    "# t = ohlcvs['KRW-BTC']"
   ]
  },
  {
   "cell_type": "code",
   "execution_count": 13,
   "metadata": {},
   "outputs": [],
   "source": [
    "tot_set['train_gb'] = np.where((tot_set.index >= datetime.fromisoformat('2021-10-01')) \\\n",
    "                            & (tot_set.index < datetime.fromisoformat('2021-12-01')),1,0)\n",
    "\n",
    "tot_set['test_gb'] = np.where((tot_set.index >= datetime.fromisoformat('2021-12-01')) \\\n",
    "                            & (tot_set.index < datetime.fromisoformat('2022-02-01')),1,0)\n",
    "\n",
    "tot_set['val_gb'] = np.where((tot_set.index >= datetime.fromisoformat('2022-02-01')) \\\n",
    "                            & (tot_set.index < datetime.fromisoformat('2022-03-31 23:49:00')),1,0)\n",
    "\n",
    "tot_set['target'] = np.where(tot_set['KRW-BTC-target'] >= 1,1,0)"
   ]
  },
  {
   "cell_type": "code",
   "execution_count": 14,
   "metadata": {},
   "outputs": [],
   "source": [
    "# print(tot_set.train_gb.sum()/60/24)\n",
    "# print(tot_set.test_gb.sum()/60/24)\n",
    "# print((tot_set.val_gb.sum()+11)/60/24) # 마지막 11개 데이터는 퍼포먼스 미확보로 미사용\n",
    "# print((tot_set['train_gb']==1).sum())\n",
    "# print(((tot_set['target']==1) & (tot_set['train_gb']==1)).sum())\n",
    "# print((tot_set['test_gb']==1).sum())\n",
    "# print(((tot_set['target']==1) & (tot_set['test_gb']==1)).sum())\n",
    "# print((tot_set['val_gb']==1).sum())\n",
    "# print(((tot_set['target']==1) & (tot_set['val_gb']==1)).sum())\n",
    "# print(((tot_set['target']==1) & (tot_set['train_gb']==1)).sum()/(tot_set['train_gb']==1).sum())\n",
    "# print(((tot_set['target']==1) & (tot_set['test_gb']==1)).sum()/(tot_set['test_gb']==1).sum())\n",
    "# print(((tot_set['target']==1) & (tot_set['val_gb']==1)).sum()/(tot_set['val_gb']==1).sum())\n",
    "\n",
    "# tot_set[(tot_set['target']==1)]\n",
    "import os\n",
    "import pickle\n",
    "\n",
    "if not os.path.exists(r\"D:\\2022\\CoinbizExpert\\data_feature_1min.pickle\"):\n",
    "\n",
    "    tot_set_1min = tot_set[tot_set.index.minute%5==1]\n",
    "\n",
    "    with open(r\"D:\\2022\\CoinbizExpert\\data_feature_1min.pickle\",\"wb\") as fw:\n",
    "        pickle.dump(tot_set_1min, fw)   \n",
    "\n",
    "else:    \n",
    "    with open(r\"D:\\2022\\CoinbizExpert\\data_feature_1min.pickle\",\"rb\") as fr:\n",
    "        tot_set_1min = pickle.load(fr)          \n",
    "    print('Load pickle')"
   ]
  },
  {
   "cell_type": "code",
   "execution_count": 65,
   "metadata": {},
   "outputs": [],
   "source": [
    "tot_set_1min = tot_set_1min.drop(columns=['target'])\n",
    "tot_set_1min['target'] = np.where(tot_set_1min['KRW-EOS-target'] >= 1,1,0)"
   ]
  },
  {
   "cell_type": "code",
   "execution_count": 66,
   "metadata": {},
   "outputs": [],
   "source": [
    "X_train = tot_set_1min[tot_set_1min.train_gb == 1]\\\n",
    "            .drop(['val_gb','test_gb','train_gb'], axis=1)\\\n",
    "            .drop(tot_set_1min.columns[[\"target\" in c for c in tot_set_1min.columns]], axis=1)\n",
    "y_train = tot_set_1min[tot_set_1min.train_gb == 1]['target']\n",
    "X_test = tot_set_1min[tot_set_1min.test_gb == 1]\\\n",
    "            .drop(['val_gb','test_gb','train_gb'], axis=1)\\\n",
    "            .drop(tot_set_1min.columns[[\"target\" in c for c in tot_set_1min.columns]], axis=1)\n",
    "y_test = tot_set_1min[tot_set_1min.test_gb == 1]['target']\n",
    "X_val = tot_set_1min[tot_set_1min.val_gb == 1]\\\n",
    "            .drop(['val_gb','test_gb','train_gb'], axis=1)\\\n",
    "            .drop(tot_set_1min.columns[[\"target\" in c for c in tot_set_1min.columns]], axis=1)\n",
    "y_val = tot_set_1min[tot_set_1min.val_gb == 1]['target']\n"
   ]
  },
  {
   "cell_type": "code",
   "execution_count": null,
   "metadata": {},
   "outputs": [],
   "source": []
  },
  {
   "cell_type": "code",
   "execution_count": 67,
   "metadata": {},
   "outputs": [
    {
     "data": {
      "text/plain": [
       "RandomForestClassifier(max_depth=20, n_estimators=50, n_jobs=-1)"
      ]
     },
     "execution_count": 67,
     "metadata": {},
     "output_type": "execute_result"
    }
   ],
   "source": [
    "model = RandomForestClassifier(n_estimators=50, max_depth=20, n_jobs=-1)\n",
    "\n",
    "model.fit(X_train,y_train)"
   ]
  },
  {
   "cell_type": "code",
   "execution_count": 68,
   "metadata": {},
   "outputs": [],
   "source": [
    "rf_train_rslt = pd.DataFrame(y_train)\n",
    "rf_train_rslt['pred_target'] = model.predict(X_train)\n",
    "rf_test_rslt = pd.DataFrame(y_test)\n",
    "rf_test_rslt['pred_target'] = model.predict(X_test)\n",
    "rf_val_rslt = pd.DataFrame(y_val)\n",
    "rf_val_rslt['pred_target'] = model.predict(X_val)\n",
    "\n",
    "\n",
    "rf_train_rslt.to_csv('train_rslt.csv', index=False)\n",
    "rf_test_rslt.to_csv('test_rslt.csv', index=False)\n",
    "rf_val_rslt.to_csv('val_rslt.csv', index=False)"
   ]
  },
  {
   "cell_type": "code",
   "execution_count": 69,
   "metadata": {},
   "outputs": [
    {
     "data": {
      "text/plain": [
       "0.02962962962962963"
      ]
     },
     "execution_count": 69,
     "metadata": {},
     "output_type": "execute_result"
    }
   ],
   "source": [
    "# precision_score(y_train, model.predict(X_train))\n",
    "# precision_score(y_test, model.predict(X_test))\n",
    "precision_score(y_val, model.predict(X_val))"
   ]
  },
  {
   "cell_type": "code",
   "execution_count": 70,
   "metadata": {},
   "outputs": [],
   "source": [
    "import lightgbm\n",
    "import bayes_opt"
   ]
  },
  {
   "cell_type": "code",
   "execution_count": 71,
   "metadata": {},
   "outputs": [
    {
     "name": "stdout",
     "output_type": "stream",
     "text": [
      "|   iter    |  target   | colsam... | learni... | max_depth | min_ch... | n_esti... | subsample |\n",
      "-------------------------------------------------------------------------------------------------\n",
      "| \u001b[0m 1       \u001b[0m | \u001b[0m 0.121   \u001b[0m | \u001b[0m 0.7744  \u001b[0m | \u001b[0m 0.2148  \u001b[0m | \u001b[0m 2.206   \u001b[0m | \u001b[0m 0.5904  \u001b[0m | \u001b[0m 302.3   \u001b[0m | \u001b[0m 0.8229  \u001b[0m |\n",
      "| \u001b[0m 2       \u001b[0m | \u001b[0m 0.07432 \u001b[0m | \u001b[0m 0.7188  \u001b[0m | \u001b[0m 0.2676  \u001b[0m | \u001b[0m 2.927   \u001b[0m | \u001b[0m 0.4451  \u001b[0m | \u001b[0m 556.3   \u001b[0m | \u001b[0m 0.7644  \u001b[0m |\n",
      "| \u001b[0m 3       \u001b[0m | \u001b[0m 0.06444 \u001b[0m | \u001b[0m 0.784   \u001b[0m | \u001b[0m 0.2778  \u001b[0m | \u001b[0m 1.142   \u001b[0m | \u001b[0m 0.1784  \u001b[0m | \u001b[0m 23.95   \u001b[0m | \u001b[0m 0.9163  \u001b[0m |\n",
      "| \u001b[95m 4       \u001b[0m | \u001b[95m 0.2051  \u001b[0m | \u001b[95m 0.8891  \u001b[0m | \u001b[95m 0.2611  \u001b[0m | \u001b[95m 2.957   \u001b[0m | \u001b[95m 0.8192  \u001b[0m | \u001b[95m 328.4   \u001b[0m | \u001b[95m 0.8903  \u001b[0m |\n",
      "| \u001b[0m 5       \u001b[0m | \u001b[0m 0.1343  \u001b[0m | \u001b[0m 0.5591  \u001b[0m | \u001b[0m 0.1923  \u001b[0m | \u001b[0m 1.287   \u001b[0m | \u001b[0m 0.9502  \u001b[0m | \u001b[0m 370.1   \u001b[0m | \u001b[0m 0.7073  \u001b[0m |\n",
      "| \u001b[0m 6       \u001b[0m | \u001b[0m 0.1087  \u001b[0m | \u001b[0m 0.6323  \u001b[0m | \u001b[0m 0.2325  \u001b[0m | \u001b[0m 1.912   \u001b[0m | \u001b[0m 0.6116  \u001b[0m | \u001b[0m 22.96   \u001b[0m | \u001b[0m 0.8088  \u001b[0m |\n",
      "| \u001b[0m 7       \u001b[0m | \u001b[0m 0.1933  \u001b[0m | \u001b[0m 0.806   \u001b[0m | \u001b[0m 0.1855  \u001b[0m | \u001b[0m 2.887   \u001b[0m | \u001b[0m 0.7136  \u001b[0m | \u001b[0m 258.1   \u001b[0m | \u001b[0m 0.7185  \u001b[0m |\n",
      "| \u001b[95m 8       \u001b[0m | \u001b[95m 0.3182  \u001b[0m | \u001b[95m 0.8488  \u001b[0m | \u001b[95m 0.01901 \u001b[0m | \u001b[95m 2.334   \u001b[0m | \u001b[95m 0.7036  \u001b[0m | \u001b[95m 155.2   \u001b[0m | \u001b[95m 0.5645  \u001b[0m |\n",
      "| \u001b[0m 9       \u001b[0m | \u001b[0m 0.1724  \u001b[0m | \u001b[0m 0.6577  \u001b[0m | \u001b[0m 0.1097  \u001b[0m | \u001b[0m 2.14    \u001b[0m | \u001b[0m 0.4947  \u001b[0m | \u001b[0m 692.0   \u001b[0m | \u001b[0m 0.551   \u001b[0m |\n",
      "| \u001b[0m 10      \u001b[0m | \u001b[0m 0.1748  \u001b[0m | \u001b[0m 0.6044  \u001b[0m | \u001b[0m 0.04923 \u001b[0m | \u001b[0m 2.306   \u001b[0m | \u001b[0m 0.328   \u001b[0m | \u001b[0m 331.8   \u001b[0m | \u001b[0m 0.6222  \u001b[0m |\n",
      "| \u001b[0m 11      \u001b[0m | \u001b[0m 0.219   \u001b[0m | \u001b[0m 0.5795  \u001b[0m | \u001b[0m 0.034   \u001b[0m | \u001b[0m 2.313   \u001b[0m | \u001b[0m 0.2244  \u001b[0m | \u001b[0m 145.6   \u001b[0m | \u001b[0m 0.6844  \u001b[0m |\n",
      "| \u001b[0m 12      \u001b[0m | \u001b[0m 0.1591  \u001b[0m | \u001b[0m 0.9105  \u001b[0m | \u001b[0m 0.03003 \u001b[0m | \u001b[0m 2.676   \u001b[0m | \u001b[0m 0.1865  \u001b[0m | \u001b[0m 683.8   \u001b[0m | \u001b[0m 0.7343  \u001b[0m |\n",
      "| \u001b[0m 13      \u001b[0m | \u001b[0m 0.04262 \u001b[0m | \u001b[0m 0.9884  \u001b[0m | \u001b[0m 0.1818  \u001b[0m | \u001b[0m 2.479   \u001b[0m | \u001b[0m 0.1353  \u001b[0m | \u001b[0m 205.1   \u001b[0m | \u001b[0m 0.5601  \u001b[0m |\n"
     ]
    },
    {
     "name": "stderr",
     "output_type": "stream",
     "text": [
      "C:\\ProgramData\\Anaconda3\\lib\\site-packages\\sklearn\\metrics\\_classification.py:1245: UndefinedMetricWarning: Precision is ill-defined and being set to 0.0 due to no predicted samples. Use `zero_division` parameter to control this behavior.\n",
      "  _warn_prf(average, modifier, msg_start, len(result))\n"
     ]
    },
    {
     "name": "stdout",
     "output_type": "stream",
     "text": [
      "| \u001b[0m 14      \u001b[0m | \u001b[0m 0.0     \u001b[0m | \u001b[0m 0.6481  \u001b[0m | \u001b[0m 0.0365  \u001b[0m | \u001b[0m 1.636   \u001b[0m | \u001b[0m 0.4728  \u001b[0m | \u001b[0m 54.26   \u001b[0m | \u001b[0m 0.8462  \u001b[0m |\n",
      "| \u001b[0m 15      \u001b[0m | \u001b[0m 0.1577  \u001b[0m | \u001b[0m 0.7833  \u001b[0m | \u001b[0m 0.08035 \u001b[0m | \u001b[0m 2.046   \u001b[0m | \u001b[0m 0.1845  \u001b[0m | \u001b[0m 407.4   \u001b[0m | \u001b[0m 0.9646  \u001b[0m |\n",
      "| \u001b[0m 16      \u001b[0m | \u001b[0m 0.1351  \u001b[0m | \u001b[0m 0.6593  \u001b[0m | \u001b[0m 0.2006  \u001b[0m | \u001b[0m 1.264   \u001b[0m | \u001b[0m 0.7447  \u001b[0m | \u001b[0m 209.7   \u001b[0m | \u001b[0m 0.5916  \u001b[0m |\n",
      "| \u001b[95m 17      \u001b[0m | \u001b[95m 0.3235  \u001b[0m | \u001b[95m 0.7933  \u001b[0m | \u001b[95m 0.007012\u001b[0m | \u001b[95m 2.658   \u001b[0m | \u001b[95m 0.1042  \u001b[0m | \u001b[95m 477.7   \u001b[0m | \u001b[95m 0.635   \u001b[0m |\n",
      "| \u001b[0m 18      \u001b[0m | \u001b[0m 0.0359  \u001b[0m | \u001b[0m 0.8676  \u001b[0m | \u001b[0m 0.2887  \u001b[0m | \u001b[0m 1.498   \u001b[0m | \u001b[0m 0.6185  \u001b[0m | \u001b[0m 418.5   \u001b[0m | \u001b[0m 0.7861  \u001b[0m |\n",
      "| \u001b[0m 19      \u001b[0m | \u001b[0m 0.1306  \u001b[0m | \u001b[0m 0.6115  \u001b[0m | \u001b[0m 0.2859  \u001b[0m | \u001b[0m 1.894   \u001b[0m | \u001b[0m 0.8618  \u001b[0m | \u001b[0m 492.6   \u001b[0m | \u001b[0m 0.6487  \u001b[0m |\n",
      "| \u001b[0m 20      \u001b[0m | \u001b[0m 0.1753  \u001b[0m | \u001b[0m 0.9069  \u001b[0m | \u001b[0m 0.1196  \u001b[0m | \u001b[0m 2.762   \u001b[0m | \u001b[0m 0.6231  \u001b[0m | \u001b[0m 618.4   \u001b[0m | \u001b[0m 0.8463  \u001b[0m |\n",
      "| \u001b[0m 21      \u001b[0m | \u001b[0m 0.05217 \u001b[0m | \u001b[0m 0.5     \u001b[0m | \u001b[0m 0.3     \u001b[0m | \u001b[0m 3.0     \u001b[0m | \u001b[0m 0.1     \u001b[0m | \u001b[0m 151.9   \u001b[0m | \u001b[0m 1.0     \u001b[0m |\n",
      "| \u001b[0m 22      \u001b[0m | \u001b[0m 0.1437  \u001b[0m | \u001b[0m 0.7319  \u001b[0m | \u001b[0m 0.04536 \u001b[0m | \u001b[0m 2.208   \u001b[0m | \u001b[0m 0.3097  \u001b[0m | \u001b[0m 476.9   \u001b[0m | \u001b[0m 0.7258  \u001b[0m |\n",
      "| \u001b[0m 23      \u001b[0m | \u001b[0m 0.1978  \u001b[0m | \u001b[0m 0.7212  \u001b[0m | \u001b[0m 0.02821 \u001b[0m | \u001b[0m 2.397   \u001b[0m | \u001b[0m 0.1846  \u001b[0m | \u001b[0m 331.9   \u001b[0m | \u001b[0m 0.5846  \u001b[0m |\n",
      "| \u001b[0m 24      \u001b[0m | \u001b[0m 0.09091 \u001b[0m | \u001b[0m 0.7878  \u001b[0m | \u001b[0m 0.01444 \u001b[0m | \u001b[0m 2.487   \u001b[0m | \u001b[0m 0.8126  \u001b[0m | \u001b[0m 154.8   \u001b[0m | \u001b[0m 0.5338  \u001b[0m |\n",
      "| \u001b[0m 25      \u001b[0m | \u001b[0m 0.1739  \u001b[0m | \u001b[0m 0.5395  \u001b[0m | \u001b[0m 0.088   \u001b[0m | \u001b[0m 2.309   \u001b[0m | \u001b[0m 0.2542  \u001b[0m | \u001b[0m 145.6   \u001b[0m | \u001b[0m 0.5801  \u001b[0m |\n",
      "| \u001b[95m 26      \u001b[0m | \u001b[95m 0.3333  \u001b[0m | \u001b[95m 0.5458  \u001b[0m | \u001b[95m 0.004054\u001b[0m | \u001b[95m 2.568   \u001b[0m | \u001b[95m 0.1151  \u001b[0m | \u001b[95m 477.5   \u001b[0m | \u001b[95m 0.5933  \u001b[0m |\n",
      "| \u001b[0m 27      \u001b[0m | \u001b[0m 0.2647  \u001b[0m | \u001b[0m 0.8284  \u001b[0m | \u001b[0m 0.04036 \u001b[0m | \u001b[0m 2.273   \u001b[0m | \u001b[0m 0.8012  \u001b[0m | \u001b[0m 184.2   \u001b[0m | \u001b[0m 0.6211  \u001b[0m |\n",
      "| \u001b[0m 28      \u001b[0m | \u001b[0m 0.168   \u001b[0m | \u001b[0m 0.7005  \u001b[0m | \u001b[0m 0.04747 \u001b[0m | \u001b[0m 2.675   \u001b[0m | \u001b[0m 0.2506  \u001b[0m | \u001b[0m 477.7   \u001b[0m | \u001b[0m 0.7233  \u001b[0m |\n",
      "| \u001b[0m 29      \u001b[0m | \u001b[0m 0.1978  \u001b[0m | \u001b[0m 0.5512  \u001b[0m | \u001b[0m 0.07244 \u001b[0m | \u001b[0m 2.497   \u001b[0m | \u001b[0m 0.2312  \u001b[0m | \u001b[0m 477.5   \u001b[0m | \u001b[0m 0.8627  \u001b[0m |\n",
      "| \u001b[0m 30      \u001b[0m | \u001b[0m 0.1933  \u001b[0m | \u001b[0m 0.6878  \u001b[0m | \u001b[0m 0.09717 \u001b[0m | \u001b[0m 2.246   \u001b[0m | \u001b[0m 0.6557  \u001b[0m | \u001b[0m 184.1   \u001b[0m | \u001b[0m 0.6707  \u001b[0m |\n",
      "| \u001b[0m 31      \u001b[0m | \u001b[0m 0.28    \u001b[0m | \u001b[0m 0.6579  \u001b[0m | \u001b[0m 0.0501  \u001b[0m | \u001b[0m 2.184   \u001b[0m | \u001b[0m 0.6305  \u001b[0m | \u001b[0m 155.1   \u001b[0m | \u001b[0m 0.7502  \u001b[0m |\n",
      "| \u001b[0m 32      \u001b[0m | \u001b[0m 0.1607  \u001b[0m | \u001b[0m 0.5685  \u001b[0m | \u001b[0m 0.0789  \u001b[0m | \u001b[0m 1.452   \u001b[0m | \u001b[0m 0.2165  \u001b[0m | \u001b[0m 682.8   \u001b[0m | \u001b[0m 0.7801  \u001b[0m |\n",
      "| \u001b[0m 33      \u001b[0m | \u001b[0m 0.1868  \u001b[0m | \u001b[0m 0.9633  \u001b[0m | \u001b[0m 0.1609  \u001b[0m | \u001b[0m 1.697   \u001b[0m | \u001b[0m 0.6027  \u001b[0m | \u001b[0m 197.1   \u001b[0m | \u001b[0m 0.9328  \u001b[0m |\n",
      "| \u001b[0m 34      \u001b[0m | \u001b[0m 0.1765  \u001b[0m | \u001b[0m 0.77    \u001b[0m | \u001b[0m 0.05458 \u001b[0m | \u001b[0m 2.175   \u001b[0m | \u001b[0m 0.347   \u001b[0m | \u001b[0m 67.36   \u001b[0m | \u001b[0m 0.5401  \u001b[0m |\n",
      "| \u001b[0m 35      \u001b[0m | \u001b[0m 0.2778  \u001b[0m | \u001b[0m 0.6604  \u001b[0m | \u001b[0m 0.01379 \u001b[0m | \u001b[0m 2.738   \u001b[0m | \u001b[0m 0.4495  \u001b[0m | \u001b[0m 329.5   \u001b[0m | \u001b[0m 0.6738  \u001b[0m |\n",
      "| \u001b[0m 36      \u001b[0m | \u001b[0m 0.3     \u001b[0m | \u001b[0m 0.8894  \u001b[0m | \u001b[0m 0.02337 \u001b[0m | \u001b[0m 2.36    \u001b[0m | \u001b[0m 0.6694  \u001b[0m | \u001b[0m 155.2   \u001b[0m | \u001b[0m 0.7501  \u001b[0m |\n",
      "| \u001b[0m 37      \u001b[0m | \u001b[0m 0.2308  \u001b[0m | \u001b[0m 0.9931  \u001b[0m | \u001b[0m 0.01344 \u001b[0m | \u001b[0m 2.169   \u001b[0m | \u001b[0m 0.4344  \u001b[0m | \u001b[0m 155.1   \u001b[0m | \u001b[0m 0.7437  \u001b[0m |\n",
      "| \u001b[0m 38      \u001b[0m | \u001b[0m 0.1084  \u001b[0m | \u001b[0m 0.9865  \u001b[0m | \u001b[0m 0.2079  \u001b[0m | \u001b[0m 1.847   \u001b[0m | \u001b[0m 0.1801  \u001b[0m | \u001b[0m 62.13   \u001b[0m | \u001b[0m 0.6782  \u001b[0m |\n",
      "| \u001b[0m 39      \u001b[0m | \u001b[0m 0.02513 \u001b[0m | \u001b[0m 0.7622  \u001b[0m | \u001b[0m 0.2802  \u001b[0m | \u001b[0m 1.399   \u001b[0m | \u001b[0m 0.31    \u001b[0m | \u001b[0m 617.5   \u001b[0m | \u001b[0m 0.7464  \u001b[0m |\n",
      "| \u001b[0m 40      \u001b[0m | \u001b[0m 0.1587  \u001b[0m | \u001b[0m 0.7947  \u001b[0m | \u001b[0m 0.1158  \u001b[0m | \u001b[0m 2.276   \u001b[0m | \u001b[0m 0.9287  \u001b[0m | \u001b[0m 155.4   \u001b[0m | \u001b[0m 0.7154  \u001b[0m |\n",
      "=================================================================================================\n"
     ]
    }
   ],
   "source": [
    "def bayes_train(n_estimators, max_depth, min_child_weight, subsample, colsample_bytree, learning_rate):\n",
    "    clf = lightgbm.LGBMClassifier(random_state = 0, device = 'gpu', n_jobs = -1\n",
    "                                , n_estimators=int(n_estimators)\n",
    "                                , max_depth=int(max_depth)\n",
    "                                , num_leaves=7\n",
    "                                , min_child_weight = min_child_weight\n",
    "                                , subsample = subsample\n",
    "                                , colsample_bytree = colsample_bytree\n",
    "                                , learning_rate = learning_rate)\n",
    "    clf.fit(X_train, y_train)\n",
    "    preds = clf.predict(X_test)\n",
    "    score = precision_score(y_test, preds)\n",
    "    \n",
    "    return score\n",
    "\n",
    "pbounds = {'n_estimators' : (10, 700)\n",
    "            , 'max_depth' : (1, 3)\n",
    "            , 'min_child_weight' : (0.1, 1)\n",
    "            , 'subsample' : (0.5, 1)\n",
    "            , 'colsample_bytree' : (0.5, 1)\n",
    "            , 'learning_rate' : (0.001, 0.3)}\n",
    "optimizer = bayes_opt.BayesianOptimization(f = bayes_train, pbounds= pbounds, random_state=0)\n",
    "optimizer.maximize(init_points=20, n_iter = 20)\n",
    "opt_res_lgbm = pd.DataFrame(optimizer.res)\n"
   ]
  },
  {
   "cell_type": "code",
   "execution_count": 72,
   "metadata": {},
   "outputs": [],
   "source": [
    "for cols in ['n_estimators', 'max_depth', 'min_child_weight', 'subsample', 'colsample_bytree', 'learning_rate']:\n",
    "    md = []\n",
    "    for i in np.arange(opt_res_lgbm.shape[0]):\n",
    "        md.append(opt_res_lgbm['params'][i][cols])\n",
    "    opt_res_lgbm[cols] = md"
   ]
  },
  {
   "cell_type": "code",
   "execution_count": 77,
   "metadata": {},
   "outputs": [
    {
     "name": "stdout",
     "output_type": "stream",
     "text": [
      "1.0\n",
      "0.3235294117647059\n",
      "0.15789473684210525\n"
     ]
    }
   ],
   "source": [
    "# i = opt_res_lgbm.target.idxmax()\n",
    "i = 16\n",
    "\n",
    "final_model_lgbm = lightgbm.LGBMClassifier(random_state = 0, device = 'gpu', n_jobs = -1\n",
    "                                , n_estimators=int(opt_res_lgbm['n_estimators'][i])\n",
    "                                , max_depth=int(opt_res_lgbm['max_depth'][i])\n",
    "                                , num_leaves=7\n",
    "                                , min_child_weight = opt_res_lgbm['min_child_weight'][i]\n",
    "                                , subsample = opt_res_lgbm['subsample'][i]\n",
    "                                , colsample_bytree = opt_res_lgbm['colsample_bytree'][i]\n",
    "                                , learning_rate = opt_res_lgbm['learning_rate'][i])\n",
    "final_model_lgbm.fit(X_train, y_train)\n",
    "print(precision_score(y_train, final_model_lgbm.predict(X_train)))\n",
    "print(precision_score(y_test, final_model_lgbm.predict(X_test)))\n",
    "print(precision_score(y_val, final_model_lgbm.predict(X_val)))"
   ]
  },
  {
   "cell_type": "code",
   "execution_count": 78,
   "metadata": {},
   "outputs": [
    {
     "data": {
      "image/png": "[encoded data removed]",
      "text/plain": [
       "<Figure size 432x288 with 1 Axes>"
      ]
     },
     "metadata": {
      "needs_background": "light"
     },
     "output_type": "display_data"
    }
   ],
   "source": [
    "lightgbm.plot_importance(final_model_lgbm, importance_type='gain', max_num_features=20)\n",
    "fi_df_lgbm = pd.DataFrame(data = final_model_lgbm.booster_.feature_importance(importance_type='gain'), index = X_val.columns, columns = ['FI'])\n"
   ]
  },
  {
   "cell_type": "code",
   "execution_count": 79,
   "metadata": {},
   "outputs": [],
   "source": [
    "rf_train_rslt = pd.DataFrame(y_train)\n",
    "rf_train_rslt['pred_target'] = final_model_lgbm.predict(X_train)\n",
    "rf_test_rslt = pd.DataFrame(y_test)\n",
    "rf_test_rslt['pred_target'] = final_model_lgbm.predict(X_test)\n",
    "rf_val_rslt = pd.DataFrame(y_val)\n",
    "rf_val_rslt['pred_target'] = final_model_lgbm.predict(X_val)\n",
    "\n",
    "\n",
    "rf_train_rslt.to_csv('train_rslt.csv', index=False)\n",
    "rf_test_rslt.to_csv('test_rslt.csv', index=False)\n",
    "rf_val_rslt.to_csv('val_rslt.csv', index=False)"
   ]
  },
  {
   "cell_type": "code",
   "execution_count": null,
   "metadata": {},
   "outputs": [],
   "source": [
    "\n",
    "fi_df_lgbm['f'] = fi_df_lgbm.index\n",
    "fi_df_lgbm.to_csv('fi_df_lgbm.csv', index=False)"
   ]
  }
 ],
 "metadata": {
  "interpreter": {
   "hash": "b3ba2566441a7c06988d0923437866b63cedc61552a5af99d1f4fb67d367b25f"
  },
  "kernelspec": {
   "display_name": "Python 3.8.8 ('base')",
   "language": "python",
   "name": "python3"
  },
  "language_info": {
   "codemirror_mode": {
    "name": "ipython",
    "version": 3
   },
   "file_extension": ".py",
   "mimetype": "text/x-python",
   "name": "python",
   "nbconvert_exporter": "python",
   "pygments_lexer": "ipython3",
   "version": "3.8.8"
  },
  "orig_nbformat": 4
 },
 "nbformat": 4,
 "nbformat_minor": 2
}
