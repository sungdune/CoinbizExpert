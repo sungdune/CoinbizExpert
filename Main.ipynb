{
 "cells": [
  {
   "cell_type": "markdown",
   "metadata": {},
   "source": [
    "## Coinbiz Expert"
   ]
  },
  {
   "cell_type": "code",
   "execution_count": 3,
   "metadata": {},
   "outputs": [
    {
     "name": "stdout",
     "output_type": "stream",
     "text": [
      "hello rich world\n"
     ]
    }
   ],
   "source": [
    "print('hello rich world')"
   ]
  },
  {
   "cell_type": "code",
   "execution_count": 4,
   "metadata": {},
   "outputs": [
    {
     "name": "stdout",
     "output_type": "stream",
     "text": [
      "<class 'pyupbit.exchange_api.Upbit'>\n"
     ]
    }
   ],
   "source": [
    "import pyupbit\n",
    "print(pyupbit.Upbit)"
   ]
  },
  {
   "cell_type": "code",
   "execution_count": 7,
   "metadata": {},
   "outputs": [
    {
     "name": "stdout",
     "output_type": "stream",
     "text": [
      "['KRW-BTC', 'KRW-ETH', 'BTC-ETH', 'BTC-LTC', 'BTC-XRP', 'BTC-ETC', 'BTC-OMG', 'BTC-CVC', 'BTC-DGB', 'BTC-SC', 'BTC-SNT', 'BTC-WAVES', 'BTC-NMR', 'BTC-XEM', 'BTC-QTUM', 'BTC-BAT', 'BTC-LSK', 'BTC-STEEM', 'BTC-DOGE', 'BTC-BNT', 'BTC-XLM', 'BTC-ARDR', 'BTC-ARK', 'BTC-STORJ', 'BTC-GRS', 'BTC-REP', 'BTC-RLC', 'USDT-BTC', 'USDT-ETH', 'USDT-LTC', 'USDT-XRP', 'USDT-ETC', 'KRW-NEO', 'KRW-MTL', 'KRW-LTC', 'KRW-XRP', 'KRW-ETC', 'KRW-OMG', 'KRW-SNT', 'KRW-WAVES', 'KRW-XEM', 'KRW-QTUM', 'KRW-LSK', 'KRW-STEEM', 'KRW-XLM', 'KRW-ARDR', 'KRW-ARK', 'KRW-STORJ', 'KRW-GRS', 'KRW-REP', 'KRW-ADA', 'BTC-ADA', 'BTC-MANA', 'USDT-OMG', 'KRW-SBD', 'BTC-SBD', 'KRW-POWR', 'BTC-POWR', 'KRW-BTG', 'USDT-ADA', 'BTC-DNT', 'BTC-ZRX', 'BTC-TRX', 'BTC-TUSD', 'BTC-LRC', 'KRW-ICX', 'KRW-EOS', 'USDT-TUSD', 'KRW-TRX', 'BTC-POLY', 'USDT-SC', 'USDT-TRX', 'KRW-SC', 'KRW-ONT', 'KRW-ZIL', 'KRW-POLY', 'KRW-ZRX', 'KRW-LOOM', 'BTC-BCH', 'USDT-BCH', 'KRW-BCH', 'BTC-MFT', 'BTC-LOOM', 'KRW-BAT', 'KRW-IOST', 'BTC-RFR', 'KRW-RFR', 'USDT-DGB', 'KRW-CVC', 'KRW-IQ', 'KRW-IOTA', 'BTC-RVN', 'BTC-GO', 'BTC-UPP', 'BTC-ENJ', 'KRW-MFT', 'KRW-ONG', 'KRW-GAS', 'BTC-MTL', 'KRW-UPP', 'KRW-ELF', 'USDT-DOGE', 'USDT-ZRX', 'USDT-RVN', 'USDT-BAT', 'KRW-KNC', 'BTC-MOC', 'BTC-ZIL', 'KRW-BSV', 'BTC-BSV', 'BTC-IOST', 'KRW-THETA', 'BTC-DENT', 'KRW-QKC', 'BTC-ELF', 'KRW-BTT', 'BTC-IOTX', 'BTC-SOLVE', 'BTC-NKN', 'BTC-META', 'KRW-MOC', 'BTC-ANKR', 'BTC-CRO', 'KRW-ENJ', 'KRW-TFUEL', 'KRW-MANA', 'KRW-ANKR', 'BTC-ORBS', 'BTC-AERGO', 'KRW-AERGO', 'KRW-ATOM', 'KRW-TT', 'KRW-CRE', 'BTC-ATOM', 'BTC-STPT', 'KRW-MBL', 'BTC-EOS', 'BTC-LUNA', 'BTC-DAI', 'BTC-MKR', 'BTC-BORA', 'KRW-WAXP', 'BTC-WAXP', 'KRW-HBAR', 'KRW-MED', 'BTC-MED', 'BTC-MLK', 'KRW-MLK', 'KRW-STPT', 'BTC-VET', 'KRW-ORBS', 'BTC-CHZ', 'KRW-VET', 'BTC-FX', 'BTC-OGN', 'KRW-CHZ', 'BTC-XTZ', 'BTC-HIVE', 'BTC-HBD', 'BTC-OBSR', 'BTC-DKA', 'KRW-STMX', 'BTC-STMX', 'BTC-AHT', 'BTC-PCI', 'KRW-DKA', 'BTC-LINK', 'KRW-HIVE', 'KRW-KAVA', 'BTC-KAVA', 'KRW-AHT', 'KRW-LINK', 'KRW-XTZ', 'KRW-BORA', 'BTC-JST', 'BTC-CHR', 'BTC-DAD', 'BTC-TON', 'KRW-JST', 'BTC-CTSI', 'BTC-DOT', 'KRW-CRO', 'BTC-COMP', 'BTC-SXP', 'BTC-HUNT', 'KRW-TON', 'BTC-ONIT', 'BTC-CRV', 'BTC-ALGO', 'BTC-RSR', 'KRW-SXP', 'BTC-OXT', 'BTC-PLA', 'KRW-HUNT', 'BTC-MARO', 'BTC-SAND', 'BTC-SUN', 'KRW-PLA', 'KRW-DOT', 'BTC-SRM', 'BTC-QTCON', 'BTC-MVL', 'KRW-SRM', 'KRW-MVL', 'BTC-REI', 'BTC-AQT', 'BTC-AXS', 'BTC-STRAX', 'KRW-STRAX', 'KRW-AQT', 'BTC-GLM', 'KRW-GLM', 'BTC-FCT2', 'BTC-SSX', 'KRW-SSX', 'KRW-META', 'KRW-FCT2', 'BTC-FIL', 'BTC-UNI', 'BTC-BASIC', 'BTC-INJ', 'BTC-PROM', 'BTC-VAL', 'BTC-PSG', 'BTC-JUV', 'BTC-CBK', 'BTC-FOR', 'KRW-CBK', 'BTC-BFC', 'BTC-LINA', 'BTC-HUM', 'BTC-CELO', 'KRW-SAND', 'KRW-HUM', 'BTC-IQ', 'BTC-STX', 'KRW-DOGE', 'BTC-NEAR', 'BTC-AUCTION', 'BTC-DAWN', 'BTC-FLOW', 'BTC-STRK', 'KRW-STRK', 'BTC-PUNDIX', 'KRW-PUNDIX', 'KRW-FLOW', 'KRW-DAWN', 'KRW-AXS', 'KRW-STX', 'BTC-GRT', 'BTC-SNX', 'BTC-USDP', 'KRW-XEC', 'KRW-SOL', 'BTC-SOL', 'KRW-MATIC', 'BTC-MATIC', 'KRW-NU', 'BTC-NU', 'KRW-AAVE', 'KRW-1INCH', 'BTC-AAVE', 'BTC-1INCH', 'BTC-MASK', 'KRW-ALGO', 'BTC-AUDIO', 'KRW-NEAR', 'BTC-YGG', 'BTC-GTC', 'BTC-OCEAN', 'BTC-CTC', 'BTC-LPT', 'KRW-WEMIX', 'BTC-WEMIX', 'KRW-AVAX', 'BTC-AVAX', 'BTC-IMX', 'BTC-RNDR', 'BTC-RLY', 'KRW-T', 'BTC-T', 'KRW-CELO', 'BTC-RAD']\n",
      "['KRW-BTC', 'KRW-ETH', 'KRW-NEO', 'KRW-MTL', 'KRW-LTC', 'KRW-XRP', 'KRW-ETC', 'KRW-OMG', 'KRW-SNT', 'KRW-WAVES', 'KRW-XEM', 'KRW-QTUM', 'KRW-LSK', 'KRW-STEEM', 'KRW-XLM', 'KRW-ARDR', 'KRW-ARK', 'KRW-STORJ', 'KRW-GRS', 'KRW-REP', 'KRW-ADA', 'KRW-SBD', 'KRW-POWR', 'KRW-BTG', 'KRW-ICX', 'KRW-EOS', 'KRW-TRX', 'KRW-SC', 'KRW-ONT', 'KRW-ZIL', 'KRW-POLY', 'KRW-ZRX', 'KRW-LOOM', 'KRW-BCH', 'KRW-BAT', 'KRW-IOST', 'KRW-RFR', 'KRW-CVC', 'KRW-IQ', 'KRW-IOTA', 'KRW-MFT', 'KRW-ONG', 'KRW-GAS', 'KRW-UPP', 'KRW-ELF', 'KRW-KNC', 'KRW-BSV', 'KRW-THETA', 'KRW-QKC', 'KRW-BTT', 'KRW-MOC', 'KRW-ENJ', 'KRW-TFUEL', 'KRW-MANA', 'KRW-ANKR', 'KRW-AERGO', 'KRW-ATOM', 'KRW-TT', 'KRW-CRE', 'KRW-MBL', 'KRW-WAXP', 'KRW-HBAR', 'KRW-MED', 'KRW-MLK', 'KRW-STPT', 'KRW-ORBS', 'KRW-VET', 'KRW-CHZ', 'KRW-STMX', 'KRW-DKA', 'KRW-HIVE', 'KRW-KAVA', 'KRW-AHT', 'KRW-LINK', 'KRW-XTZ', 'KRW-BORA', 'KRW-JST', 'KRW-CRO', 'KRW-TON', 'KRW-SXP', 'KRW-HUNT', 'KRW-PLA', 'KRW-DOT', 'KRW-SRM', 'KRW-MVL', 'KRW-STRAX', 'KRW-AQT', 'KRW-GLM', 'KRW-SSX', 'KRW-META', 'KRW-FCT2', 'KRW-CBK', 'KRW-SAND', 'KRW-HUM', 'KRW-DOGE', 'KRW-STRK', 'KRW-PUNDIX', 'KRW-FLOW', 'KRW-DAWN', 'KRW-AXS', 'KRW-STX', 'KRW-XEC', 'KRW-SOL', 'KRW-MATIC', 'KRW-NU', 'KRW-AAVE', 'KRW-1INCH', 'KRW-ALGO', 'KRW-NEAR', 'KRW-WEMIX', 'KRW-AVAX', 'KRW-T', 'KRW-CELO']\n"
     ]
    }
   ],
   "source": [
    "tickers = pyupbit.get_tickers()\n",
    "print(tickers)\n",
    "tickers = pyupbit.get_tickers(fiat=\"KRW\")\n",
    "print(tickers)"
   ]
  },
  {
   "cell_type": "code",
   "execution_count": 10,
   "metadata": {},
   "outputs": [
    {
     "name": "stdout",
     "output_type": "stream",
     "text": [
      "960.0\n"
     ]
    }
   ],
   "source": [
    "print(pyupbit.get_current_price(\"KRW-XRP\"))"
   ]
  },
  {
   "cell_type": "code",
   "execution_count": 15,
   "metadata": {},
   "outputs": [
    {
     "name": "stdout",
     "output_type": "stream",
     "text": [
      "                           open        high         low       close    volume  \\\n",
      "2022-01-28 04:05:00  44520000.0  44547000.0  44477000.0  44477000.0  0.971800   \n",
      "2022-01-28 04:06:00  44486000.0  44552000.0  44478000.0  44550000.0  0.772404   \n",
      "2022-01-28 04:07:00  44548000.0  44548000.0  44459000.0  44459000.0  1.013593   \n",
      "2022-01-28 04:08:00  44460000.0  44510000.0  44459000.0  44510000.0  0.341430   \n",
      "2022-01-28 04:09:00  44528000.0  44552000.0  44510000.0  44511000.0  1.063775   \n",
      "...                         ...         ...         ...         ...       ...   \n",
      "2022-04-07 16:49:00  53660000.0  53722000.0  53658000.0  53666000.0  5.653058   \n",
      "2022-04-07 16:50:00  53712000.0  53712000.0  53650000.0  53657000.0  4.927209   \n",
      "2022-04-07 16:51:00  53656000.0  53721000.0  53656000.0  53708000.0  5.241313   \n",
      "2022-04-07 16:52:00  53708000.0  53720000.0  53654000.0  53660000.0  3.270720   \n",
      "2022-04-07 16:53:00  53660000.0  53714000.0  53659000.0  53713000.0  1.898996   \n",
      "\n",
      "                            value  \n",
      "2022-01-28 04:05:00  4.324614e+07  \n",
      "2022-01-28 04:06:00  3.440239e+07  \n",
      "2022-01-28 04:07:00  4.509321e+07  \n",
      "2022-01-28 04:08:00  1.518532e+07  \n",
      "2022-01-28 04:09:00  4.736520e+07  \n",
      "...                           ...  \n",
      "2022-04-07 16:49:00  3.034638e+08  \n",
      "2022-04-07 16:50:00  2.644241e+08  \n",
      "2022-04-07 16:51:00  2.814410e+08  \n",
      "2022-04-07 16:52:00  1.755395e+08  \n",
      "2022-04-07 16:53:00  1.019045e+08  \n",
      "\n",
      "[100000 rows x 6 columns]\n"
     ]
    }
   ],
   "source": [
    "df = pyupbit.get_ohlcv(\"KRW-BTC\", interval=\"minute1\", count = 100000)\n",
    "print(df)"
   ]
  },
  {
   "cell_type": "code",
   "execution_count": 37,
   "metadata": {},
   "outputs": [
    {
     "name": "stdout",
     "output_type": "stream",
     "text": [
      "{'type': 'trade', 'code': 'KRW-BTC', 'timestamp': 1649322164742, 'trade_date': '2022-04-07', 'trade_time': '09:02:44', 'trade_timestamp': 1649322164000, 'trade_price': 53639000.0, 'trade_volume': 0.0027, 'ask_bid': 'ASK', 'prev_closing_price': 53072000.0, 'change': 'RISE', 'change_price': 567000.0, 'sequential_id': 1649322164000002, 'stream_type': 'REALTIME'}\n",
      "{'type': 'trade', 'code': 'KRW-BTC', 'timestamp': 1649322164776, 'trade_date': '2022-04-07', 'trade_time': '09:02:44', 'trade_timestamp': 1649322164000, 'trade_price': 53639000.0, 'trade_volume': 0.014, 'ask_bid': 'BID', 'prev_closing_price': 53072000.0, 'change': 'RISE', 'change_price': 567000.0, 'sequential_id': 1649322164000003, 'stream_type': 'REALTIME'}\n",
      "{'type': 'trade', 'code': 'KRW-BTC', 'timestamp': 1649322165020, 'trade_date': '2022-04-07', 'trade_time': '09:02:44', 'trade_timestamp': 1649322164000, 'trade_price': 53639000.0, 'trade_volume': 0.00350214, 'ask_bid': 'BID', 'prev_closing_price': 53072000.0, 'change': 'RISE', 'change_price': 567000.0, 'sequential_id': 1649322164000004, 'stream_type': 'REALTIME'}\n",
      "{'type': 'trade', 'code': 'KRW-BTC', 'timestamp': 1649322165021, 'trade_date': '2022-04-07', 'trade_time': '09:02:44', 'trade_timestamp': 1649322164000, 'trade_price': 53639000.0, 'trade_volume': 0.00581477, 'ask_bid': 'BID', 'prev_closing_price': 53072000.0, 'change': 'RISE', 'change_price': 567000.0, 'sequential_id': 1649322164000005, 'stream_type': 'REALTIME'}\n",
      "{'type': 'trade', 'code': 'KRW-BTC', 'timestamp': 1649322165412, 'trade_date': '2022-04-07', 'trade_time': '09:02:45', 'trade_timestamp': 1649322165000, 'trade_price': 53639000.0, 'trade_volume': 0.00110579, 'ask_bid': 'BID', 'prev_closing_price': 53072000.0, 'change': 'RISE', 'change_price': 567000.0, 'sequential_id': 1649322165000000, 'stream_type': 'REALTIME'}\n",
      "{'type': 'trade', 'code': 'KRW-BTC', 'timestamp': 1649322165413, 'trade_date': '2022-04-07', 'trade_time': '09:02:45', 'trade_timestamp': 1649322165000, 'trade_price': 53636000.0, 'trade_volume': 0.01817857, 'ask_bid': 'BID', 'prev_closing_price': 53072000.0, 'change': 'RISE', 'change_price': 564000.0, 'sequential_id': 1649322165000001, 'stream_type': 'REALTIME'}\n",
      "{'type': 'trade', 'code': 'KRW-BTC', 'timestamp': 1649322166417, 'trade_date': '2022-04-07', 'trade_time': '09:02:46', 'trade_timestamp': 1649322166000, 'trade_price': 53602000.0, 'trade_volume': 0.00011077, 'ask_bid': 'ASK', 'prev_closing_price': 53072000.0, 'change': 'RISE', 'change_price': 530000.0, 'sequential_id': 1649322166000000, 'stream_type': 'REALTIME'}\n",
      "{'type': 'trade', 'code': 'KRW-BTC', 'timestamp': 1649322166451, 'trade_date': '2022-04-07', 'trade_time': '09:02:46', 'trade_timestamp': 1649322166000, 'trade_price': 53640000.0, 'trade_volume': 0.0041, 'ask_bid': 'BID', 'prev_closing_price': 53072000.0, 'change': 'RISE', 'change_price': 568000.0, 'sequential_id': 1649322166000001, 'stream_type': 'REALTIME'}\n",
      "{'type': 'trade', 'code': 'KRW-BTC', 'timestamp': 1649322166519, 'trade_date': '2022-04-07', 'trade_time': '09:02:46', 'trade_timestamp': 1649322166000, 'trade_price': 53587000.0, 'trade_volume': 0.04063297, 'ask_bid': 'ASK', 'prev_closing_price': 53072000.0, 'change': 'RISE', 'change_price': 515000.0, 'sequential_id': 1649322166000002, 'stream_type': 'REALTIME'}\n",
      "{'type': 'trade', 'code': 'KRW-BTC', 'timestamp': 1649322166520, 'trade_date': '2022-04-07', 'trade_time': '09:02:46', 'trade_timestamp': 1649322166000, 'trade_price': 53602000.0, 'trade_volume': 0.00936703, 'ask_bid': 'ASK', 'prev_closing_price': 53072000.0, 'change': 'RISE', 'change_price': 530000.0, 'sequential_id': 1649322166000003, 'stream_type': 'REALTIME'}\n"
     ]
    }
   ],
   "source": [
    "from pyupbit import WebSocketManager\n",
    "\n",
    "if __name__ == \"__main__\":\n",
    "    wm = WebSocketManager(\"trade\", [\"KRW-BTC\"])\n",
    "    for i in range(10):\n",
    "        data = wm.get()\n",
    "        print(data)\n",
    "    wm.terminate()"
   ]
  },
  {
   "cell_type": "code",
   "execution_count": 34,
   "metadata": {},
   "outputs": [
    {
     "name": "stdout",
     "output_type": "stream",
     "text": [
      "[{\"market\":\"KRW-BTC\",\"trade_date_utc\":\"2022-04-05\",\"trade_time_utc\":\"13:01:00\",\"timestamp\":1649163660000,\"trade_price\":57310000.00000000,\"trade_volume\":0.06900000,\"prev_closing_price\":57055000.00000000,\"change_price\":255000.00000000,\"ask_bid\":\"ASK\",\"sequential_id\":1649163660000000}]\n"
     ]
    }
   ],
   "source": [
    "\n",
    "import requests\n",
    "\n",
    "url = \"https://api.upbit.com/v1/trades/ticks?count=1\"\n",
    "\n",
    "headers = {\"Accept\": \"application/json\"}\n",
    "\n",
    "response = requests.request(\"GET\", url, headers=headers\n",
    "                , params = dict( market = 'KRW-BTC'\n",
    "                                , to = '130101'\n",
    "                                , count = 3\n",
    "                                # , cursor = '1'\n",
    "                                 , daysAgo =2\n",
    "                                ))\n",
    "\n",
    "print(response.text)"
   ]
  },
  {
   "cell_type": "code",
   "execution_count": 42,
   "metadata": {},
   "outputs": [],
   "source": [
    "\n",
    "import ta\n"
   ]
  },
  {
   "cell_type": "code",
   "execution_count": 33,
   "metadata": {},
   "outputs": [
    {
     "name": "stdout",
     "output_type": "stream",
     "text": [
      "{'market': 'KRW-BTC', 'timestamp': 1649319961625, 'total_ask_size': 2.66624307, 'total_bid_size': 2.3192706899999997, 'orderbook_units': [{'ask_price': 53739000.0, 'bid_price': 53737000.0, 'ask_size': 0.47550754, 'bid_size': 0.01262857}, {'ask_price': 53741000.0, 'bid_price': 53722000.0, 'ask_size': 0.23621096, 'bid_size': 0.0830047}, {'ask_price': 53745000.0, 'bid_price': 53721000.0, 'ask_size': 0.35446094, 'bid_size': 0.31860529}, {'ask_price': 53747000.0, 'bid_price': 53718000.0, 'ask_size': 0.97464916, 'bid_size': 0.0009911}, {'ask_price': 53751000.0, 'bid_price': 53715000.0, 'ask_size': 0.00173964, 'bid_size': 1.06395523}, {'ask_price': 53756000.0, 'bid_price': 53713000.0, 'ask_size': 0.00010344, 'bid_size': 0.00540221}, {'ask_price': 53761000.0, 'bid_price': 53712000.0, 'ask_size': 0.02796013, 'bid_size': 0.01426278}, {'ask_price': 53762000.0, 'bid_price': 53710000.0, 'ask_size': 0.00934747, 'bid_size': 0.07504026}, {'ask_price': 53763000.0, 'bid_price': 53709000.0, 'ask_size': 0.01492752, 'bid_size': 0.01470889}, {'ask_price': 53764000.0, 'bid_price': 53707000.0, 'ask_size': 0.01411625, 'bid_size': 0.00013033}, {'ask_price': 53765000.0, 'bid_price': 53703000.0, 'ask_size': 0.00557983, 'bid_size': 0.00126063}, {'ask_price': 53766000.0, 'bid_price': 53701000.0, 'ask_size': 0.00371983, 'bid_size': 0.30375332}, {'ask_price': 53769000.0, 'bid_price': 53700000.0, 'ask_size': 0.00571781, 'bid_size': 0.33340929}, {'ask_price': 53770000.0, 'bid_price': 53699000.0, 'ask_size': 0.00050255, 'bid_size': 0.03624697}, {'ask_price': 53773000.0, 'bid_price': 53695000.0, 'ask_size': 0.5417, 'bid_size': 0.05587112}]}\n"
     ]
    }
   ],
   "source": [
    "print(pyupbit.get_orderbook(ticker=\"KRW-BTC\"))"
   ]
  },
  {
   "cell_type": "code",
   "execution_count": 36,
   "metadata": {},
   "outputs": [
    {
     "data": {
      "text/plain": [
       "b'[{\"market\":\"KRW-BTC\",\"trade_date_utc\":\"2022-04-05\",\"trade_time_utc\":\"13:01:00\",\"timestamp\":1649163660000,\"trade_price\":57310000.00000000,\"trade_volume\":0.06900000,\"prev_closing_price\":57055000.00000000,\"change_price\":255000.00000000,\"ask_bid\":\"ASK\",\"sequential_id\":1649163660000000}]'"
      ]
     },
     "execution_count": 36,
     "metadata": {},
     "output_type": "execute_result"
    }
   ],
   "source": [
    "response.content"
   ]
  },
  {
   "cell_type": "code",
   "execution_count": 40,
   "metadata": {},
   "outputs": [],
   "source": [
    "access = \"7EApWWfxZXAylOMPjGygoq0RorQ6SKUIKWXiAxZ1\"          # 본인 값으로 변경\n",
    "secret = \"1YxoTnPwe2TBXvSlfuc0NR004qsh4Gd6k7ZaxXlg\"          # 본인 값으로 변경\n",
    "upbit = pyupbit.Upbit(access, secret)"
   ]
  },
  {
   "cell_type": "code",
   "execution_count": 41,
   "metadata": {},
   "outputs": [
    {
     "name": "stdout",
     "output_type": "stream",
     "text": [
      "6735.59874756\n"
     ]
    }
   ],
   "source": [
    "print(upbit.get_balance(\"KRW\"))   "
   ]
  },
  {
   "cell_type": "code",
   "execution_count": null,
   "metadata": {},
   "outputs": [],
   "source": []
  }
 ],
 "metadata": {
  "interpreter": {
   "hash": "b3ba2566441a7c06988d0923437866b63cedc61552a5af99d1f4fb67d367b25f"
  },
  "kernelspec": {
   "display_name": "Python 3.8.8 ('base')",
   "language": "python",
   "name": "python3"
  },
  "language_info": {
   "codemirror_mode": {
    "name": "ipython",
    "version": 3
   },
   "file_extension": ".py",
   "mimetype": "text/x-python",
   "name": "python",
   "nbconvert_exporter": "python",
   "pygments_lexer": "ipython3",
   "version": "3.8.8"
  },
  "orig_nbformat": 4
 },
 "nbformat": 4,
 "nbformat_minor": 2
}
